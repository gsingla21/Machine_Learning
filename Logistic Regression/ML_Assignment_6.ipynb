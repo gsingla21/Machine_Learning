{
  "nbformat": 4,
  "nbformat_minor": 0,
  "metadata": {
    "colab": {
      "name": "ML Assignment 6.ipynb",
      "provenance": [],
      "collapsed_sections": [],
      "mount_file_id": "1OVlWljfrT3kbJ25RoF-S0PxkpSIcStvZ",
      "authorship_tag": "ABX9TyP7EsmR66REfLbfMwaqPRVp",
      "include_colab_link": true
    },
    "kernelspec": {
      "name": "python3",
      "display_name": "Python 3"
    },
    "language_info": {
      "name": "python"
    }
  },
  "cells": [
    {
      "cell_type": "markdown",
      "metadata": {
        "id": "view-in-github",
        "colab_type": "text"
      },
      "source": [
        "<a href=\"https://colab.research.google.com/github/gsingla21/Machine_Learning/blob/main/Logistic%20Regression/ML_Assignment_6.ipynb\" target=\"_parent\"><img src=\"https://colab.research.google.com/assets/colab-badge.svg\" alt=\"Open In Colab\"/></a>"
      ]
    },
    {
      "cell_type": "markdown",
      "metadata": {
        "id": "-VzVnBPTrpIX"
      },
      "source": [
        "**Gourish Singla**\n",
        "\n",
        "**101803698**\n",
        "\n",
        "**CoE-15**"
      ]
    },
    {
      "cell_type": "markdown",
      "metadata": {
        "id": "A8M5qmz6e8oJ"
      },
      "source": [
        "#Q1"
      ]
    },
    {
      "cell_type": "markdown",
      "metadata": {
        "id": "PSt02y_Ee-58"
      },
      "source": [
        "Import dataset"
      ]
    },
    {
      "cell_type": "code",
      "metadata": {
        "id": "1nTkEbBd8xa5"
      },
      "source": [
        "import numpy as np\n",
        "import pandas as pd\n",
        "from sklearn import datasets\n",
        "iris=datasets.load_iris()"
      ],
      "execution_count": null,
      "outputs": []
    },
    {
      "cell_type": "code",
      "metadata": {
        "colab": {
          "base_uri": "https://localhost:8080/",
          "height": 419
        },
        "id": "NX1GAJbMtQY0",
        "outputId": "3898ee2e-9d48-4184-ee73-f1b82de28551"
      },
      "source": [
        "X=pd.DataFrame(iris.data, columns = iris.feature_names)\n",
        "X"
      ],
      "execution_count": null,
      "outputs": [
        {
          "output_type": "execute_result",
          "data": {
            "text/html": [
              "<div>\n",
              "<style scoped>\n",
              "    .dataframe tbody tr th:only-of-type {\n",
              "        vertical-align: middle;\n",
              "    }\n",
              "\n",
              "    .dataframe tbody tr th {\n",
              "        vertical-align: top;\n",
              "    }\n",
              "\n",
              "    .dataframe thead th {\n",
              "        text-align: right;\n",
              "    }\n",
              "</style>\n",
              "<table border=\"1\" class=\"dataframe\">\n",
              "  <thead>\n",
              "    <tr style=\"text-align: right;\">\n",
              "      <th></th>\n",
              "      <th>sepal length (cm)</th>\n",
              "      <th>sepal width (cm)</th>\n",
              "      <th>petal length (cm)</th>\n",
              "      <th>petal width (cm)</th>\n",
              "    </tr>\n",
              "  </thead>\n",
              "  <tbody>\n",
              "    <tr>\n",
              "      <th>0</th>\n",
              "      <td>5.1</td>\n",
              "      <td>3.5</td>\n",
              "      <td>1.4</td>\n",
              "      <td>0.2</td>\n",
              "    </tr>\n",
              "    <tr>\n",
              "      <th>1</th>\n",
              "      <td>4.9</td>\n",
              "      <td>3.0</td>\n",
              "      <td>1.4</td>\n",
              "      <td>0.2</td>\n",
              "    </tr>\n",
              "    <tr>\n",
              "      <th>2</th>\n",
              "      <td>4.7</td>\n",
              "      <td>3.2</td>\n",
              "      <td>1.3</td>\n",
              "      <td>0.2</td>\n",
              "    </tr>\n",
              "    <tr>\n",
              "      <th>3</th>\n",
              "      <td>4.6</td>\n",
              "      <td>3.1</td>\n",
              "      <td>1.5</td>\n",
              "      <td>0.2</td>\n",
              "    </tr>\n",
              "    <tr>\n",
              "      <th>4</th>\n",
              "      <td>5.0</td>\n",
              "      <td>3.6</td>\n",
              "      <td>1.4</td>\n",
              "      <td>0.2</td>\n",
              "    </tr>\n",
              "    <tr>\n",
              "      <th>...</th>\n",
              "      <td>...</td>\n",
              "      <td>...</td>\n",
              "      <td>...</td>\n",
              "      <td>...</td>\n",
              "    </tr>\n",
              "    <tr>\n",
              "      <th>145</th>\n",
              "      <td>6.7</td>\n",
              "      <td>3.0</td>\n",
              "      <td>5.2</td>\n",
              "      <td>2.3</td>\n",
              "    </tr>\n",
              "    <tr>\n",
              "      <th>146</th>\n",
              "      <td>6.3</td>\n",
              "      <td>2.5</td>\n",
              "      <td>5.0</td>\n",
              "      <td>1.9</td>\n",
              "    </tr>\n",
              "    <tr>\n",
              "      <th>147</th>\n",
              "      <td>6.5</td>\n",
              "      <td>3.0</td>\n",
              "      <td>5.2</td>\n",
              "      <td>2.0</td>\n",
              "    </tr>\n",
              "    <tr>\n",
              "      <th>148</th>\n",
              "      <td>6.2</td>\n",
              "      <td>3.4</td>\n",
              "      <td>5.4</td>\n",
              "      <td>2.3</td>\n",
              "    </tr>\n",
              "    <tr>\n",
              "      <th>149</th>\n",
              "      <td>5.9</td>\n",
              "      <td>3.0</td>\n",
              "      <td>5.1</td>\n",
              "      <td>1.8</td>\n",
              "    </tr>\n",
              "  </tbody>\n",
              "</table>\n",
              "<p>150 rows × 4 columns</p>\n",
              "</div>"
            ],
            "text/plain": [
              "     sepal length (cm)  sepal width (cm)  petal length (cm)  petal width (cm)\n",
              "0                  5.1               3.5                1.4               0.2\n",
              "1                  4.9               3.0                1.4               0.2\n",
              "2                  4.7               3.2                1.3               0.2\n",
              "3                  4.6               3.1                1.5               0.2\n",
              "4                  5.0               3.6                1.4               0.2\n",
              "..                 ...               ...                ...               ...\n",
              "145                6.7               3.0                5.2               2.3\n",
              "146                6.3               2.5                5.0               1.9\n",
              "147                6.5               3.0                5.2               2.0\n",
              "148                6.2               3.4                5.4               2.3\n",
              "149                5.9               3.0                5.1               1.8\n",
              "\n",
              "[150 rows x 4 columns]"
            ]
          },
          "metadata": {
            "tags": []
          },
          "execution_count": 158
        }
      ]
    },
    {
      "cell_type": "code",
      "metadata": {
        "colab": {
          "base_uri": "https://localhost:8080/"
        },
        "id": "jdZSd_0qtvxX",
        "outputId": "a47ad362-b061-47b3-e7fb-e7cf1ab09acb"
      },
      "source": [
        "y=pd.DataFrame(iris.target)\n",
        "y.info()"
      ],
      "execution_count": null,
      "outputs": [
        {
          "output_type": "stream",
          "text": [
            "<class 'pandas.core.frame.DataFrame'>\n",
            "RangeIndex: 150 entries, 0 to 149\n",
            "Data columns (total 1 columns):\n",
            " #   Column  Non-Null Count  Dtype\n",
            "---  ------  --------------  -----\n",
            " 0   0       150 non-null    int64\n",
            "dtypes: int64(1)\n",
            "memory usage: 1.3 KB\n"
          ],
          "name": "stdout"
        }
      ]
    },
    {
      "cell_type": "code",
      "metadata": {
        "colab": {
          "base_uri": "https://localhost:8080/",
          "height": 279
        },
        "id": "ZkQuluTkeVri",
        "outputId": "89f65c50-fab6-41ec-8839-b4b1df0e9892"
      },
      "source": [
        "import matplotlib.pyplot as plt\n",
        "x = X.values\n",
        "y = y.values\n",
        "plt.scatter(x[:,0], x[:, 3], c=y, cmap ='flag')\n",
        "plt.xlabel('Sepal Length cm')\n",
        "plt.ylabel('Petal Width cm')\n",
        "plt.show()"
      ],
      "execution_count": null,
      "outputs": [
        {
          "output_type": "display_data",
          "data": {
            "image/png": "[encoded data removed]",
            "text/plain": [
              "<Figure size 432x288 with 1 Axes>"
            ]
          },
          "metadata": {
            "tags": [],
            "needs_background": "light"
          }
        }
      ]
    },
    {
      "cell_type": "markdown",
      "metadata": {
        "id": "APgpBJKyfJm4"
      },
      "source": [
        "Preprocessing"
      ]
    },
    {
      "cell_type": "code",
      "metadata": {
        "id": "b0KfHTpV3mEr"
      },
      "source": [
        "y=np.array(y)\n",
        "y=y.reshape(-1,1)\n",
        "from sklearn.preprocessing import StandardScaler\n",
        "scaler=StandardScaler()\n",
        "X_scaled=scaler.fit_transform(X)\n",
        "X_scaled= np.insert(X_scaled, 0, values=1, axis=1)"
      ],
      "execution_count": null,
      "outputs": []
    },
    {
      "cell_type": "markdown",
      "metadata": {
        "id": "oOkVLB9rvECA"
      },
      "source": [
        "Logistic Regression procedure"
      ]
    },
    {
      "cell_type": "code",
      "metadata": {
        "id": "DWjeXuFS95Py"
      },
      "source": [
        "def hypothesis(theta, X):\n",
        "  #print(\"theta.shape: \",theta.shape,\"X.shape: \",X.shape)\n",
        "  z=np.dot(X,theta)\n",
        "  #print(\"z.shape: \",z.shape)\n",
        "  h=1/(1+np.exp(-z))\n",
        "  return h\n",
        "def cost(X, y, theta):\n",
        "  y1 = hypothesis(theta,X)\n",
        "  J=-(1/len(X)) * np.sum(y*np.log(y1) + (1-y)*np.log(1-y1))\n",
        "  return J\n",
        "def gradient_descent(X,y,alpha,iterations):\n",
        "  theta=[]\n",
        "  for i in range(X.shape[1]):\n",
        "    theta.append([0])\n",
        "  theta=np.array(theta)  \n",
        "  #print(theta.shape)\n",
        "  #print(\"theta: \",theta)\n",
        "  for i in range(iterations):\n",
        "    y1 = hypothesis(theta,X)\n",
        "    #print(\"y1.shape: \",y1.shape)\n",
        "    partial_derivative=(1/len(X))*(np.dot(X.T,(y1-y)))\n",
        "    #print(\"partial_derivative.shape: \",partial_derivative.shape)\n",
        "    #print(\"theta.shape: \",theta.shape)\n",
        "    theta=theta-(alpha*partial_derivative)\n",
        "  return theta\n",
        "def fit(X,y,alpha,iterations):\n",
        "  print(\"Fitting the given dataset..\")\n",
        "  theta__=[]\n",
        "  #cost__=[]\n",
        "  X=np.insert(X, 0, 1, axis=1)\n",
        "  m=len(y)\n",
        "  for i in np.unique(y):\n",
        "    print('Descending the gradient for label type ' + str(i) + ' vs Rest')\n",
        "    y_onevsall=np.where(y == i, 1, 0)\n",
        "    theta=[]\n",
        "    theta=gradient_descent(X,y_onevsall,alpha,iterations)\n",
        "    #cost__.append((cost(X,y_onevsall,theta),i)) \n",
        "    theta__.append((theta))\n",
        "  return theta__"
      ],
      "execution_count": null,
      "outputs": []
    },
    {
      "cell_type": "markdown",
      "metadata": {
        "id": "A444kw-sfpgE"
      },
      "source": [
        "Split the dataset.\n",
        "\n",
        "Fit the dataset in logistic regression procedure. "
      ]
    },
    {
      "cell_type": "code",
      "metadata": {
        "colab": {
          "base_uri": "https://localhost:8080/"
        },
        "id": "vW_jFTK9tVEO",
        "outputId": "7f93b42b-cb49-4e69-8e23-a41512063dcc"
      },
      "source": [
        "from sklearn.model_selection import train_test_split\n",
        "X_train, X_test, Y_train, Y_test = train_test_split(X_scaled, y, test_size=0.3, random_state=42)\n",
        "theta__=fit(X_train,Y_train,0.1,30000)"
      ],
      "execution_count": null,
      "outputs": [
        {
          "output_type": "stream",
          "text": [
            "Fitting the given dataset..\n",
            "Descending the gradient for label type 0 vs Rest\n",
            "Descending the gradient for label type 1 vs Rest\n",
            "Descending the gradient for label type 2 vs Rest\n"
          ],
          "name": "stdout"
        }
      ]
    },
    {
      "cell_type": "markdown",
      "metadata": {
        "id": "NTJvH-fIgD2e"
      },
      "source": [
        "We got the theta for each i vs Rest."
      ]
    },
    {
      "cell_type": "code",
      "metadata": {
        "colab": {
          "base_uri": "https://localhost:8080/"
        },
        "id": "K_h94SN0x21O",
        "outputId": "203bb135-1238-4ac4-97e7-ba23b254aa4c"
      },
      "source": [
        "print(len(theta__))\n",
        "theta__"
      ],
      "execution_count": null,
      "outputs": [
        {
          "output_type": "stream",
          "text": [
            "3\n"
          ],
          "name": "stdout"
        },
        {
          "output_type": "execute_result",
          "data": {
            "text/plain": [
              "[array([[-2.46688149],\n",
              "        [-2.46688149],\n",
              "        [-1.99984895],\n",
              "        [ 2.81079799],\n",
              "        [-4.2876011 ],\n",
              "        [-3.82027555]]), array([[-0.54946772],\n",
              "        [-0.54946772],\n",
              "        [-0.1256841 ],\n",
              "        [-1.48460785],\n",
              "        [ 1.820633  ],\n",
              "        [-1.78903856]]), array([[-5.89569342],\n",
              "        [-5.89569342],\n",
              "        [-1.13383637],\n",
              "        [-2.16203172],\n",
              "        [ 9.26664591],\n",
              "        [ 8.51816915]])]"
            ]
          },
          "metadata": {
            "tags": []
          },
          "execution_count": 165
        }
      ]
    },
    {
      "cell_type": "markdown",
      "metadata": {
        "id": "AwOqPrkzgSjg"
      },
      "source": [
        "Preprocess the X_test."
      ]
    },
    {
      "cell_type": "code",
      "metadata": {
        "id": "hYyqnDyWcrK7"
      },
      "source": [
        "X_test1 = np.insert(X_test, 0, values=1, axis=1)"
      ],
      "execution_count": null,
      "outputs": []
    },
    {
      "cell_type": "markdown",
      "metadata": {
        "id": "5eeAsa5Pgbn0"
      },
      "source": [
        "Predict the y for 0 vs Rest."
      ]
    },
    {
      "cell_type": "code",
      "metadata": {
        "colab": {
          "base_uri": "https://localhost:8080/"
        },
        "id": "WSvEqqyGUS6g",
        "outputId": "6e69681b-df33-41e3-9b11-01d3f4cd3e1d"
      },
      "source": [
        "y_predict=X_test1.dot(theta__[0])\n",
        "print(y_predict.shape)"
      ],
      "execution_count": null,
      "outputs": [
        {
          "output_type": "stream",
          "text": [
            "(45, 1)\n"
          ],
          "name": "stdout"
        }
      ]
    },
    {
      "cell_type": "code",
      "metadata": {
        "id": "cEw7XeErah5I"
      },
      "source": [
        "Y_predict0=hypothesis(theta__[0],X_test1)\n",
        "Y_label0=np.zeros(len(Y_predict0))\n",
        "for i in range(len(Y_predict0)):\n",
        "  if(Y_predict0[i]>=0.5):\n",
        "    Y_label0[i]=1"
      ],
      "execution_count": null,
      "outputs": []
    },
    {
      "cell_type": "code",
      "metadata": {
        "colab": {
          "base_uri": "https://localhost:8080/"
        },
        "id": "weiZlCBYgUVg",
        "outputId": "c1fc4405-732b-4264-bc1d-99ff47aba5d9"
      },
      "source": [
        "np.unique(Y_label0)"
      ],
      "execution_count": null,
      "outputs": [
        {
          "output_type": "execute_result",
          "data": {
            "text/plain": [
              "array([0., 1.])"
            ]
          },
          "metadata": {
            "tags": []
          },
          "execution_count": 169
        }
      ]
    },
    {
      "cell_type": "code",
      "metadata": {
        "colab": {
          "base_uri": "https://localhost:8080/"
        },
        "id": "pXrESUsam6B8",
        "outputId": "082e27dc-c542-4320-a68a-d12e0a211beb"
      },
      "source": [
        "Y_test1=[]\n",
        "for i in range(len(Y_test)):\n",
        "  Y_test1.append(Y_test[i][0])\n",
        "Y_test1=np.array(Y_test1)\n",
        "Y_test1"
      ],
      "execution_count": null,
      "outputs": [
        {
          "output_type": "execute_result",
          "data": {
            "text/plain": [
              "array([1, 0, 2, 1, 1, 0, 1, 2, 1, 1, 2, 0, 0, 0, 0, 1, 2, 1, 1, 2, 0, 2,\n",
              "       0, 2, 2, 2, 2, 2, 0, 0, 0, 0, 1, 0, 0, 2, 1, 0, 0, 0, 2, 1, 1, 0,\n",
              "       0])"
            ]
          },
          "metadata": {
            "tags": []
          },
          "execution_count": 170
        }
      ]
    },
    {
      "cell_type": "code",
      "metadata": {
        "colab": {
          "base_uri": "https://localhost:8080/",
          "height": 265
        },
        "id": "OX-BdVjGhBk1",
        "outputId": "aca031b4-df53-4022-8247-3d0286e465f2"
      },
      "source": [
        "TP=0\n",
        "TN=0\n",
        "FP=0\n",
        "FN=0\n",
        "Y_test1=np.array(Y_test1).reshape(-1,1)\n",
        "for i in range(len(Y_label0)):\n",
        "  if ((Y_test1[i]==1 or Y_test1[i]==2) and Y_label0[i]==1):\n",
        "    TP=TP+1\n",
        "  if ((Y_test1[i]==1 or Y_test1[i]==2) and Y_label0[i]==0):\n",
        "    FN=FN+1\n",
        "  if (Y_test1[i]==0 and Y_label0[i]==1):\n",
        "    FP=FP+1\n",
        "  if (Y_test1[i]==0 and Y_label0[i]==0):\n",
        "    TN=TN+1\n",
        "print(\"TP: \",TP,\"TN: \",TN,\"FP: \",FP,\"FN: \",FN)\n",
        "accuracy=(TP+TN)/(TP+TN+FP+FN)\n",
        "print(\"accuracy: \",accuracy)\n",
        "#For positive class:\n",
        "precision_pos=TP/(TP+FP)\n",
        "recall_pos=TP/(TP+FN)\n",
        "f1_score_pos=2*precision_pos*recall_pos/(precision_pos+recall_pos)\n",
        "print(precision_pos,recall_pos,f1_score_pos)\n",
        "#For negative class\n",
        "precision_neg=TN/(TN+FN)\n",
        "recall_neg=TN/(TN+FP)\n",
        "f1_score_neg=2*precision_neg*recall_neg/(precision_neg+recall_neg)\n",
        "print(precision_neg,recall_neg,f1_score_neg)"
      ],
      "execution_count": null,
      "outputs": [
        {
          "output_type": "stream",
          "text": [
            "TP:  0 TN:  0 FP:  19 FN:  26\n",
            "accuracy:  0.0\n"
          ],
          "name": "stdout"
        },
        {
          "output_type": "error",
          "ename": "ZeroDivisionError",
          "evalue": "ignored",
          "traceback": [
            "\u001b[0;31m---------------------------------------------------------------------------\u001b[0m",
            "\u001b[0;31mZeroDivisionError\u001b[0m                         Traceback (most recent call last)",
            "\u001b[0;32m<ipython-input-171-a1ad74ff0173>\u001b[0m in \u001b[0;36m<module>\u001b[0;34m()\u001b[0m\n\u001b[1;32m     19\u001b[0m \u001b[0mprecision_pos\u001b[0m\u001b[0;34m=\u001b[0m\u001b[0mTP\u001b[0m\u001b[0;34m/\u001b[0m\u001b[0;34m(\u001b[0m\u001b[0mTP\u001b[0m\u001b[0;34m+\u001b[0m\u001b[0mFP\u001b[0m\u001b[0;34m)\u001b[0m\u001b[0;34m\u001b[0m\u001b[0;34m\u001b[0m\u001b[0m\n\u001b[1;32m     20\u001b[0m \u001b[0mrecall_pos\u001b[0m\u001b[0;34m=\u001b[0m\u001b[0mTP\u001b[0m\u001b[0;34m/\u001b[0m\u001b[0;34m(\u001b[0m\u001b[0mTP\u001b[0m\u001b[0;34m+\u001b[0m\u001b[0mFN\u001b[0m\u001b[0;34m)\u001b[0m\u001b[0;34m\u001b[0m\u001b[0;34m\u001b[0m\u001b[0m\n\u001b[0;32m---> 21\u001b[0;31m \u001b[0mf1_score_pos\u001b[0m\u001b[0;34m=\u001b[0m\u001b[0;36m2\u001b[0m\u001b[0;34m*\u001b[0m\u001b[0mprecision_pos\u001b[0m\u001b[0;34m*\u001b[0m\u001b[0mrecall_pos\u001b[0m\u001b[0;34m/\u001b[0m\u001b[0;34m(\u001b[0m\u001b[0mprecision_pos\u001b[0m\u001b[0;34m+\u001b[0m\u001b[0mrecall_pos\u001b[0m\u001b[0;34m)\u001b[0m\u001b[0;34m\u001b[0m\u001b[0;34m\u001b[0m\u001b[0m\n\u001b[0m\u001b[1;32m     22\u001b[0m \u001b[0mprint\u001b[0m\u001b[0;34m(\u001b[0m\u001b[0mprecision_pos\u001b[0m\u001b[0;34m,\u001b[0m\u001b[0mrecall_pos\u001b[0m\u001b[0;34m,\u001b[0m\u001b[0mf1_score_pos\u001b[0m\u001b[0;34m)\u001b[0m\u001b[0;34m\u001b[0m\u001b[0;34m\u001b[0m\u001b[0m\n\u001b[1;32m     23\u001b[0m \u001b[0;31m#For negative class\u001b[0m\u001b[0;34m\u001b[0m\u001b[0;34m\u001b[0m\u001b[0;34m\u001b[0m\u001b[0m\n",
            "\u001b[0;31mZeroDivisionError\u001b[0m: float division by zero"
          ]
        }
      ]
    },
    {
      "cell_type": "markdown",
      "metadata": {
        "id": "dlwiLKPpgpie"
      },
      "source": [
        "Predict the y for 1 vs Rest."
      ]
    },
    {
      "cell_type": "code",
      "metadata": {
        "id": "Zx9PmP4DicRh"
      },
      "source": [
        "Y_predict1=hypothesis(theta__[1],X_test1)\n",
        "Y_label1=np.zeros(len(Y_predict1))\n",
        "for i in range(len(Y_predict1)):\n",
        "  if(Y_predict1[i]>=0.5):\n",
        "    Y_label1[i]=1"
      ],
      "execution_count": null,
      "outputs": []
    },
    {
      "cell_type": "code",
      "metadata": {
        "colab": {
          "base_uri": "https://localhost:8080/"
        },
        "id": "eyX6Jt6Uija7",
        "outputId": "691ae9a4-138b-474c-ef3c-7ffea1092a9e"
      },
      "source": [
        "Y_label1"
      ],
      "execution_count": null,
      "outputs": [
        {
          "output_type": "execute_result",
          "data": {
            "text/plain": [
              "array([1., 0., 1., 0., 1., 0., 0., 0., 1., 1., 0., 0., 0., 0., 0., 0., 0.,\n",
              "       1., 1., 0., 0., 0., 0., 0., 0., 0., 1., 0., 0., 0., 0., 0., 0., 0.,\n",
              "       0., 1., 0., 0., 0., 0., 0., 0., 0., 0., 0.])"
            ]
          },
          "metadata": {
            "tags": []
          },
          "execution_count": 173
        }
      ]
    },
    {
      "cell_type": "code",
      "metadata": {
        "colab": {
          "base_uri": "https://localhost:8080/"
        },
        "id": "j4m88-9zh_r9",
        "outputId": "b4e373a3-3042-46f5-b0b0-aecdccee1d64"
      },
      "source": [
        "TP=0\n",
        "TN=0\n",
        "FP=0\n",
        "FN=0\n",
        "Y_test1=np.array(Y_test1).reshape(-1,1)\n",
        "for i in range(len(Y_label1)):\n",
        "  if(Y_test1[i]==2 and Y_label1[i]==1):\n",
        "    TP=TP+1\n",
        "  if(Y_test1[i]==2 and Y_label1[i]==0):\n",
        "    FN=FN+1\n",
        "  if((Y_test1[i]==0 or Y_test1[i]==1) and Y_label1[i]==1):\n",
        "    FP=FP+1\n",
        "  if((Y_test1[i]==0 or Y_test1[i]==1) and Y_label1[i]==0):\n",
        "    TN=TN+1\n",
        "print(\"TP: \",TP,\"TN: \",TN,\"FP: \",FP,\"FN: \",FN)\n",
        "accuracy=(TP+TN)/(TP+TN+FP+FN)\n",
        "print(\"accuracy: \",accuracy)\n",
        "#For positive class:\n",
        "precision_pos=TP/(TP+FP)\n",
        "recall_pos=TP/(TP+FN)\n",
        "f1_score_pos=2*precision_pos*recall_pos/(precision_pos+recall_pos)\n",
        "print(\"\\npresision_pos: \",precision_pos,\"\\nrecall_pos: \",recall_pos,\"\\nf1_score_pos: \", f1_score_pos)\n",
        "#For negative class\n",
        "precision_neg=TN/(TN+FN)\n",
        "recall_neg=TN/(TN+FP)\n",
        "f1_score_neg=2*precision_neg*recall_neg/(precision_neg+recall_neg)\n",
        "print(\"\\nprecision_neg: \", precision_neg,\"\\nrecall_neg: \",recall_neg,\"\\nf1_score_neg: \",f1_score_neg)"
      ],
      "execution_count": null,
      "outputs": [
        {
          "output_type": "stream",
          "text": [
            "TP:  3 TN:  26 FP:  6 FN:  10\n",
            "accuracy:  0.6444444444444445\n",
            "\n",
            "presision_pos:  0.3333333333333333 \n",
            "recall_pos:  0.23076923076923078 \n",
            "f1_score_pos:  0.27272727272727276\n",
            "\n",
            "precision_neg:  0.7222222222222222 \n",
            "recall_neg:  0.8125 \n",
            "f1_score_neg:  0.7647058823529411\n"
          ],
          "name": "stdout"
        }
      ]
    },
    {
      "cell_type": "markdown",
      "metadata": {
        "id": "kbeTsRyeguBO"
      },
      "source": [
        "Predict the y for 2 vs Rest."
      ]
    },
    {
      "cell_type": "code",
      "metadata": {
        "id": "eG--0yNcinkt"
      },
      "source": [
        "Y_predict2=hypothesis(theta__[2],X_test1)\n",
        "Y_label2=np.zeros(len(Y_predict2))\n",
        "for i in range(len(Y_predict2)):\n",
        "  if(Y_predict2[i]>=0.5):\n",
        "    Y_label2[i]=1"
      ],
      "execution_count": null,
      "outputs": []
    },
    {
      "cell_type": "code",
      "metadata": {
        "colab": {
          "base_uri": "https://localhost:8080/"
        },
        "id": "pP-LAUxAq9rT",
        "outputId": "2cc3e48a-1534-46d6-b1c1-7246ead5eb1e"
      },
      "source": [
        "Y_label2"
      ],
      "execution_count": null,
      "outputs": [
        {
          "output_type": "execute_result",
          "data": {
            "text/plain": [
              "array([0., 0., 1., 0., 0., 0., 0., 1., 0., 0., 1., 0., 0., 0., 0., 0., 1.,\n",
              "       0., 0., 1., 0., 1., 0., 1., 1., 1., 1., 1., 0., 0., 0., 0., 0., 0.,\n",
              "       0., 1., 0., 0., 0., 0., 1., 0., 0., 0., 0.])"
            ]
          },
          "metadata": {
            "tags": []
          },
          "execution_count": 176
        }
      ]
    },
    {
      "cell_type": "code",
      "metadata": {
        "colab": {
          "base_uri": "https://localhost:8080/"
        },
        "id": "B1QeSbC_iouG",
        "outputId": "b4701888-59f8-4c09-89a1-70be5769cf82"
      },
      "source": [
        "TP=0\n",
        "TN=0\n",
        "FP=0\n",
        "FN=0\n",
        "Y_test1=np.array(Y_test1).reshape(-1,1)\n",
        "for i in range(len(Y_label2)):\n",
        "  if (Y_test1[i]==2 and Y_label2[i]==1):\n",
        "    TP=TP+1\n",
        "  if (Y_test1[i]==2 and Y_label2[i]==0):\n",
        "    FN=FN+1\n",
        "  if ((Y_test1[i]==0 or Y_test1[i]==1) and Y_label2[i]==1):\n",
        "    FP=FP+1\n",
        "  if ((Y_test1[i]==0 or Y_test[i]==1) and Y_label2[i]==0):\n",
        "    TN=TN+1\n",
        "print(\"TP: \",TP,\"TN: \",TN,\"FP: \",FP,\"FN: \",FN)\n",
        "accuracy=(TP+TN)/(TP+TN+FP+FN)\n",
        "print(\"accuracy: \",accuracy)\n",
        "#For positive class:\n",
        "precision_pos=TP/(TP+FP)\n",
        "recall_pos=TP/(TP+FN)\n",
        "f1_score_pos=2*precision_pos*recall_pos/(precision_pos+recall_pos)\n",
        "print(\"\\npresision_pos: \",precision_pos,\"\\nrecall_pos: \",recall_pos,\"\\nf1_score_pos: \", f1_score_pos)\n",
        "#For negative class\n",
        "precision_neg=TN/(TN+FN)\n",
        "recall_neg=TN/(TN+FP)\n",
        "f1_score_neg=2*precision_neg*recall_neg/(precision_neg+recall_neg)\n",
        "print(\"\\nprecision_neg: \", precision_neg,\"\\nrecall_neg: \",recall_neg,\"\\nf1_score_neg: \",f1_score_neg)"
      ],
      "execution_count": null,
      "outputs": [
        {
          "output_type": "stream",
          "text": [
            "TP:  13 TN:  32 FP:  0 FN:  0\n",
            "accuracy:  1.0\n",
            "\n",
            "presision_pos:  1.0 \n",
            "recall_pos:  1.0 \n",
            "f1_score_pos:  1.0\n",
            "\n",
            "precision_neg:  1.0 \n",
            "recall_neg:  1.0 \n",
            "f1_score_neg:  1.0\n"
          ],
          "name": "stdout"
        }
      ]
    },
    {
      "cell_type": "code",
      "metadata": {
        "colab": {
          "base_uri": "https://localhost:8080/"
        },
        "id": "mLkjv1t6_3eQ",
        "outputId": "c510d2f7-abce-4272-8d93-b4c9bc126e5d"
      },
      "source": [
        "macro_precision=(precision_pos+precision_neg)/2\n",
        "macro_recall=(recall_pos+recall_neg)/2\n",
        "macro_f1_score=(f1_score_pos+f1_score_neg)/2\n",
        "print(\"macro_precision: \",macro_precision,\"\\nmacro_recall: \",macro_recall,\"\\nmacro_f1_score: \",macro_f1_score)"
      ],
      "execution_count": null,
      "outputs": [
        {
          "output_type": "stream",
          "text": [
            "macro_precision:  1.0 \n",
            "macro_recall:  1.0 \n",
            "macro_f1_score:  1.0\n"
          ],
          "name": "stdout"
        }
      ]
    },
    {
      "cell_type": "code",
      "metadata": {
        "colab": {
          "base_uri": "https://localhost:8080/"
        },
        "id": "Sw9xUN3hAHQ-",
        "outputId": "6e8981d7-6eff-46d5-e882-6302446d9601"
      },
      "source": [
        "#Weighted Average:\n",
        "l1=len(Y_test[Y_test==0])\n",
        "l2=len(Y_test[Y_test==1])\n",
        "weighted_precision=(l1*precision_neg+l2*precision_pos)/(l1+l2)\n",
        "weighted_recall=(l1*recall_neg+l2*recall_pos)/(l1+l2)\n",
        "weighted_f1_score=(l1*f1_score_neg+l2*f1_score_pos)/(l1+l2)\n",
        "print(\"weighted_precision: \",weighted_precision,\"\\nweighted_recall: \",weighted_recall,\"\\nweighted_f1_score: \",weighted_f1_score)"
      ],
      "execution_count": null,
      "outputs": [
        {
          "output_type": "stream",
          "text": [
            "weighted_precision:  1.0 \n",
            "weighted_recall:  1.0 \n",
            "weighted_f1_score:  1.0\n"
          ],
          "name": "stdout"
        }
      ]
    },
    {
      "cell_type": "markdown",
      "metadata": {
        "id": "u1a9yAMpjCb8"
      },
      "source": [
        "Logistic regression with In-built fuction."
      ]
    },
    {
      "cell_type": "code",
      "metadata": {
        "colab": {
          "base_uri": "https://localhost:8080/"
        },
        "id": "kbegh6DTfygK",
        "outputId": "9f751637-2d05-45d5-95d3-5dbe27da4ce1"
      },
      "source": [
        "from sklearn.linear_model import LogisticRegression\n",
        "from sklearn import metrics\n",
        "lr=LogisticRegression(multi_class=\"multinomial\", solver=\"sag\")\n",
        "#sag denote Stochastic Average Gradient\n",
        "model=lr.fit(X_train,Y_train)\n",
        "Y_label_inbuilt=model.predict(X_test)\n",
        "print(metrics.classification_report(Y_test,Y_label_inbuilt))"
      ],
      "execution_count": null,
      "outputs": [
        {
          "output_type": "stream",
          "text": [
            "              precision    recall  f1-score   support\n",
            "\n",
            "           0       1.00      1.00      1.00        19\n",
            "           1       1.00      1.00      1.00        13\n",
            "           2       1.00      1.00      1.00        13\n",
            "\n",
            "    accuracy                           1.00        45\n",
            "   macro avg       1.00      1.00      1.00        45\n",
            "weighted avg       1.00      1.00      1.00        45\n",
            "\n"
          ],
          "name": "stdout"
        },
        {
          "output_type": "stream",
          "text": [
            "/usr/local/lib/python3.7/dist-packages/sklearn/utils/validation.py:760: DataConversionWarning: A column-vector y was passed when a 1d array was expected. Please change the shape of y to (n_samples, ), for example using ravel().\n",
            "  y = column_or_1d(y, warn=True)\n"
          ],
          "name": "stderr"
        }
      ]
    },
    {
      "cell_type": "code",
      "metadata": {
        "colab": {
          "base_uri": "https://localhost:8080/"
        },
        "id": "ov-rqjnjRJSp",
        "outputId": "b20a978e-06f2-478b-df7b-b035f6ac33cd"
      },
      "source": [
        "model"
      ],
      "execution_count": null,
      "outputs": [
        {
          "output_type": "execute_result",
          "data": {
            "text/plain": [
              "LogisticRegression(C=1.0, class_weight=None, dual=False, fit_intercept=True,\n",
              "                   intercept_scaling=1, l1_ratio=None, max_iter=100,\n",
              "                   multi_class='multinomial', n_jobs=None, penalty='l2',\n",
              "                   random_state=None, solver='sag', tol=0.0001, verbose=0,\n",
              "                   warm_start=False)"
            ]
          },
          "metadata": {
            "tags": []
          },
          "execution_count": 181
        }
      ]
    },
    {
      "cell_type": "code",
      "metadata": {
        "colab": {
          "base_uri": "https://localhost:8080/"
        },
        "id": "IsF0MWGkxGQq",
        "outputId": "48bd409b-a57d-4347-f152-6ae77caadbef"
      },
      "source": [
        "metrics.accuracy_score(Y_test, Y_label_inbuilt)*100"
      ],
      "execution_count": null,
      "outputs": [
        {
          "output_type": "execute_result",
          "data": {
            "text/plain": [
              "100.0"
            ]
          },
          "metadata": {
            "tags": []
          },
          "execution_count": 182
        }
      ]
    },
    {
      "cell_type": "code",
      "metadata": {
        "colab": {
          "base_uri": "https://localhost:8080/"
        },
        "id": "XcwI232sf9FM",
        "outputId": "9750748c-fbd0-4ea3-b7ad-bf1090915b06"
      },
      "source": [
        "Y_label_inbuilt"
      ],
      "execution_count": null,
      "outputs": [
        {
          "output_type": "execute_result",
          "data": {
            "text/plain": [
              "array([1, 0, 2, 1, 1, 0, 1, 2, 1, 1, 2, 0, 0, 0, 0, 1, 2, 1, 1, 2, 0, 2,\n",
              "       0, 2, 2, 2, 2, 2, 0, 0, 0, 0, 1, 0, 0, 2, 1, 0, 0, 0, 2, 1, 1, 0,\n",
              "       0])"
            ]
          },
          "metadata": {
            "tags": []
          },
          "execution_count": 183
        }
      ]
    },
    {
      "cell_type": "markdown",
      "metadata": {
        "id": "AmjPqcV3jbo7"
      },
      "source": [
        "#Q2"
      ]
    },
    {
      "cell_type": "code",
      "metadata": {
        "colab": {
          "base_uri": "https://localhost:8080/"
        },
        "id": "QndbbdnGjc4O",
        "outputId": "4338670a-5ac5-46b0-d858-da6a102c60be"
      },
      "source": [
        "import pandas as pd\n",
        "url=\"/content/drive/MyDrive/ML assignments/Assignment 6/Dataset/exam.txt\"\n",
        "dataset=pd.read_csv(url, sep=\",\",header=None)\n",
        "print(dataset)"
      ],
      "execution_count": null,
      "outputs": [
        {
          "output_type": "stream",
          "text": [
            "            0         1  2\n",
            "0    0.051267  0.699560  1\n",
            "1   -0.092742  0.684940  1\n",
            "2   -0.213710  0.692250  1\n",
            "3   -0.375000  0.502190  1\n",
            "4   -0.513250  0.465640  1\n",
            "..        ...       ... ..\n",
            "113 -0.720620  0.538740  0\n",
            "114 -0.593890  0.494880  0\n",
            "115 -0.484450  0.999270  0\n",
            "116 -0.006336  0.999270  0\n",
            "117  0.632650 -0.030612  0\n",
            "\n",
            "[118 rows x 3 columns]\n"
          ],
          "name": "stdout"
        }
      ]
    },
    {
      "cell_type": "code",
      "metadata": {
        "colab": {
          "base_uri": "https://localhost:8080/",
          "height": 297
        },
        "id": "aOuJ8nQzk8Ht",
        "outputId": "a99caee5-fa61-48aa-db1e-cee6b80aafd3"
      },
      "source": [
        "dataset.describe()"
      ],
      "execution_count": null,
      "outputs": [
        {
          "output_type": "execute_result",
          "data": {
            "text/html": [
              "<div>\n",
              "<style scoped>\n",
              "    .dataframe tbody tr th:only-of-type {\n",
              "        vertical-align: middle;\n",
              "    }\n",
              "\n",
              "    .dataframe tbody tr th {\n",
              "        vertical-align: top;\n",
              "    }\n",
              "\n",
              "    .dataframe thead th {\n",
              "        text-align: right;\n",
              "    }\n",
              "</style>\n",
              "<table border=\"1\" class=\"dataframe\">\n",
              "  <thead>\n",
              "    <tr style=\"text-align: right;\">\n",
              "      <th></th>\n",
              "      <th>0</th>\n",
              "      <th>1</th>\n",
              "      <th>2</th>\n",
              "    </tr>\n",
              "  </thead>\n",
              "  <tbody>\n",
              "    <tr>\n",
              "      <th>count</th>\n",
              "      <td>118.000000</td>\n",
              "      <td>118.000000</td>\n",
              "      <td>118.000000</td>\n",
              "    </tr>\n",
              "    <tr>\n",
              "      <th>mean</th>\n",
              "      <td>0.054779</td>\n",
              "      <td>0.183102</td>\n",
              "      <td>0.491525</td>\n",
              "    </tr>\n",
              "    <tr>\n",
              "      <th>std</th>\n",
              "      <td>0.496654</td>\n",
              "      <td>0.519743</td>\n",
              "      <td>0.502060</td>\n",
              "    </tr>\n",
              "    <tr>\n",
              "      <th>min</th>\n",
              "      <td>-0.830070</td>\n",
              "      <td>-0.769740</td>\n",
              "      <td>0.000000</td>\n",
              "    </tr>\n",
              "    <tr>\n",
              "      <th>25%</th>\n",
              "      <td>-0.372120</td>\n",
              "      <td>-0.254385</td>\n",
              "      <td>0.000000</td>\n",
              "    </tr>\n",
              "    <tr>\n",
              "      <th>50%</th>\n",
              "      <td>-0.006336</td>\n",
              "      <td>0.213455</td>\n",
              "      <td>0.000000</td>\n",
              "    </tr>\n",
              "    <tr>\n",
              "      <th>75%</th>\n",
              "      <td>0.478970</td>\n",
              "      <td>0.646562</td>\n",
              "      <td>1.000000</td>\n",
              "    </tr>\n",
              "    <tr>\n",
              "      <th>max</th>\n",
              "      <td>1.070900</td>\n",
              "      <td>1.108900</td>\n",
              "      <td>1.000000</td>\n",
              "    </tr>\n",
              "  </tbody>\n",
              "</table>\n",
              "</div>"
            ],
            "text/plain": [
              "                0           1           2\n",
              "count  118.000000  118.000000  118.000000\n",
              "mean     0.054779    0.183102    0.491525\n",
              "std      0.496654    0.519743    0.502060\n",
              "min     -0.830070   -0.769740    0.000000\n",
              "25%     -0.372120   -0.254385    0.000000\n",
              "50%     -0.006336    0.213455    0.000000\n",
              "75%      0.478970    0.646562    1.000000\n",
              "max      1.070900    1.108900    1.000000"
            ]
          },
          "metadata": {
            "tags": []
          },
          "execution_count": 215
        }
      ]
    },
    {
      "cell_type": "code",
      "metadata": {
        "colab": {
          "base_uri": "https://localhost:8080/",
          "height": 296
        },
        "id": "ircmNj3edrrW",
        "outputId": "ce9cd7ea-4abd-4349-9db0-ddb0693ede35"
      },
      "source": [
        "X=dataset.iloc[:,:-1].values\n",
        "y=dataset.iloc[:,-1].values\n",
        "\n",
        "pos , neg = (y==1).reshape(118,1) , (y==0).reshape(118,1)\n",
        "plt.scatter(X[pos[:,0],0],X[pos[:,0],1],c=\"r\",marker=\"+\")\n",
        "plt.scatter(X[neg[:,0],0],X[neg[:,0],1],marker=\"o\",s=10)\n",
        "plt.xlabel(\"Test 1\")\n",
        "plt.ylabel(\"Test 2\")\n",
        "plt.legend([\"Accepted\",\"Rejected\"],loc=0)"
      ],
      "execution_count": null,
      "outputs": [
        {
          "output_type": "execute_result",
          "data": {
            "text/plain": [
              "<matplotlib.legend.Legend at 0x7fe452254fd0>"
            ]
          },
          "metadata": {
            "tags": []
          },
          "execution_count": 216
        },
        {
          "output_type": "display_data",
          "data": {
            "image/png": "[encoded data removed]",
            "text/plain": [
              "<Figure size 432x288 with 1 Axes>"
            ]
          },
          "metadata": {
            "tags": [],
            "needs_background": "light"
          }
        }
      ]
    },
    {
      "cell_type": "markdown",
      "metadata": {
        "id": "FkJbghlGgpOz"
      },
      "source": [
        "Normal logistic regression can only to able to fit a linear decision boundary which will not do well in this case. It is decided in the assignment that we will add polynomial terms up to the 6th power."
      ]
    },
    {
      "cell_type": "code",
      "metadata": {
        "colab": {
          "base_uri": "https://localhost:8080/"
        },
        "id": "tG5pjKteei9I",
        "outputId": "9fd8fac3-dba6-420d-e0e5-61c7e915b88a"
      },
      "source": [
        "degree=6\n",
        "\n",
        "X_new = np.ones(len(X[:,0])).reshape(len(X[:,0]),1)\n",
        "for i in range(1,degree+1):\n",
        "  for j in range(i+1):\n",
        "    terms= (X[:,0]**(i-j) * X[:,1]**j).reshape(len(X[:,0]),1)\n",
        "    X_new= np.hstack((X_new,terms))\n",
        "X_new"
      ],
      "execution_count": null,
      "outputs": [
        {
          "output_type": "execute_result",
          "data": {
            "text/plain": [
              "array([[ 1.00000000e+00,  5.12670000e-02,  6.99560000e-01, ...,\n",
              "         6.29470940e-04,  8.58939846e-03,  1.17205992e-01],\n",
              "       [ 1.00000000e+00, -9.27420000e-02,  6.84940000e-01, ...,\n",
              "         1.89305413e-03, -1.39810280e-02,  1.03255971e-01],\n",
              "       [ 1.00000000e+00, -2.13710000e-01,  6.92250000e-01, ...,\n",
              "         1.04882142e-02, -3.39734512e-02,  1.10046893e-01],\n",
              "       ...,\n",
              "       [ 1.00000000e+00, -4.84450000e-01,  9.99270000e-01, ...,\n",
              "         2.34007252e-01, -4.82684337e-01,  9.95627986e-01],\n",
              "       [ 1.00000000e+00, -6.33640000e-03,  9.99270000e-01, ...,\n",
              "         4.00328554e-05, -6.31330588e-03,  9.95627986e-01],\n",
              "       [ 1.00000000e+00,  6.32650000e-01, -3.06120000e-02, ...,\n",
              "         3.51474517e-07, -1.70067777e-08,  8.22905998e-10]])"
            ]
          },
          "metadata": {
            "tags": []
          },
          "execution_count": 217
        }
      ]
    },
    {
      "cell_type": "markdown",
      "metadata": {
        "id": "yfvUpPABjdGO"
      },
      "source": [
        "Preprocessing"
      ]
    },
    {
      "cell_type": "code",
      "metadata": {
        "colab": {
          "base_uri": "https://localhost:8080/"
        },
        "id": "jZmayBUyfCF1",
        "outputId": "216c4970-8fd7-419a-a57d-a826e89949b9"
      },
      "source": [
        "X_new.shape"
      ],
      "execution_count": null,
      "outputs": [
        {
          "output_type": "execute_result",
          "data": {
            "text/plain": [
              "(118, 28)"
            ]
          },
          "metadata": {
            "tags": []
          },
          "execution_count": 218
        }
      ]
    },
    {
      "cell_type": "code",
      "metadata": {
        "id": "DZ21N5u7ZNbq"
      },
      "source": [
        "y=np.array(y)\n",
        "y=y.reshape(-1,1)\n",
        "from sklearn.preprocessing import StandardScaler\n",
        "scaler=StandardScaler()\n",
        "X_scaled=scaler.fit_transform(X_new)\n",
        "X_scaled= np.insert(X_scaled, 0, values=1, axis=1)"
      ],
      "execution_count": null,
      "outputs": []
    },
    {
      "cell_type": "code",
      "metadata": {
        "id": "a6whf63tZezY"
      },
      "source": [
        "from sklearn.model_selection import train_test_split\n",
        "X_train, X_test, Y_train, Y_test = train_test_split(X_scaled, y, test_size=0.3, random_state=42)"
      ],
      "execution_count": null,
      "outputs": []
    },
    {
      "cell_type": "markdown",
      "metadata": {
        "id": "2D9HDvmajgjB"
      },
      "source": [
        "Step-by-Step Logistic Regression (with no regularization; alpha=10; number of iterations=1000)"
      ]
    },
    {
      "cell_type": "code",
      "metadata": {
        "colab": {
          "base_uri": "https://localhost:8080/"
        },
        "id": "_GtYUTCPY28C",
        "outputId": "1cddf9a1-8ec1-456f-a4dd-d4fd452bbed8"
      },
      "source": [
        "n=1000 #number of iterations\n",
        "alpha=10\n",
        "m,k=X_train.shape \n",
        "beta=np.zeros(k)\n",
        "for i in range(n): \n",
        "  cost_gradient=np.zeros(k) \n",
        "  z=X_train.dot(beta) \n",
        "  predicted=1/(1+np.exp(-z)) \n",
        "  difference=predicted-Y_train\n",
        "  for j in range(k): \n",
        "    cost_gradient[j]=np.sum(difference.dot(X_train[:,j]))\n",
        "  for j in range(k): \n",
        "    beta[j]=beta[j]-(alpha/m)*cost_gradient[j] \n",
        "print(beta)"
      ],
      "execution_count": null,
      "outputs": [
        {
          "output_type": "stream",
          "text": [
            "/usr/local/lib/python3.7/dist-packages/ipykernel_launcher.py:8: RuntimeWarning: overflow encountered in exp\n",
            "  \n"
          ],
          "name": "stderr"
        },
        {
          "output_type": "stream",
          "text": [
            "[-374.48802612    0.           45.02095192  367.65149592  204.66762246\n",
            "   36.19129792  100.25167932  100.74139611  112.44807816   15.64159475\n",
            "  134.25115559   50.25739483 -153.25950727  -25.36341299   18.89155427\n",
            "   43.77702574   38.60827299   38.83075006    4.12620632   -0.94784279\n",
            "   55.81110426    4.21399033   86.68701015  170.10843469   87.25135406\n",
            "  149.67486513   85.35833508   20.60944115  -29.69501204]\n"
          ],
          "name": "stdout"
        }
      ]
    },
    {
      "cell_type": "code",
      "metadata": {
        "colab": {
          "base_uri": "https://localhost:8080/"
        },
        "id": "8N9abKKNiHdE",
        "outputId": "bfcd20dc-1eaf-4b3a-eaa3-83df33237831"
      },
      "source": [
        "Y_predict=1/(1+np.exp(-(X_test.dot(beta))))\n",
        "Y_label=np.zeros(len(Y_predict))\n",
        "for i in range(len(Y_predict)):\n",
        "  if(Y_predict[i]>=0.5):\n",
        "    Y_label[i]=1"
      ],
      "execution_count": null,
      "outputs": [
        {
          "output_type": "stream",
          "text": [
            "/usr/local/lib/python3.7/dist-packages/ipykernel_launcher.py:1: RuntimeWarning: overflow encountered in exp\n",
            "  \"\"\"Entry point for launching an IPython kernel.\n"
          ],
          "name": "stderr"
        }
      ]
    },
    {
      "cell_type": "code",
      "metadata": {
        "colab": {
          "base_uri": "https://localhost:8080/"
        },
        "id": "gEAOZtD2iLm6",
        "outputId": "92104eca-1d4a-49ee-ddfd-f507c1cd6de3"
      },
      "source": [
        "TP=0\n",
        "TN=0\n",
        "FP=0\n",
        "FN=0\n",
        "for i in range(len(Y_label)):\n",
        "  if (Y_test[i]==1 and Y_label[i]==1):\n",
        "    TP=TP+1\n",
        "  if (Y_test[i]==1 and Y_label[i]==0):\n",
        "    FN=FN+1\n",
        "  if (Y_test[i]==0 and Y_label[i]==1):\n",
        "    FP=FP+1\n",
        "  if (Y_test[i]==0 and Y_label[i]==0):\n",
        "    TN=TN+1\n",
        "print(\"TP: \",TP,\"TN: \",TN,\"FP: \",FP,\"FN: \",FN)\n",
        "accuracy=(TP+TN)/(TP+TN+FP+FN)\n",
        "print(\"accuracy: \",accuracy)\n",
        "#For positive class:\n",
        "precision_pos=TP/(TP+FP)\n",
        "recall_pos=TP/(TP+FN)\n",
        "f1_score_pos=2*precision_pos*recall_pos/(precision_pos+recall_pos)\n",
        "print(\"\\nprecision_pos: \",precision_pos,\"\\nrecall_pos: \",recall_pos,\"\\nf1_score_pos: \",f1_score_pos)\n",
        "#For negative class\n",
        "precision_neg=TN/(TN+FN)\n",
        "recall_neg=TN/(TN+FP)\n",
        "f1_score_neg=2*precision_neg*recall_neg/(precision_neg+recall_neg)\n",
        "print(\"\\nprecision_neg: \",precision_neg,\"\\nrecall_neg: \",recall_neg,\"\\nf1_score_neg: \",f1_score_neg)"
      ],
      "execution_count": null,
      "outputs": [
        {
          "output_type": "stream",
          "text": [
            "TP:  1 TN:  7 FP:  9 FN:  19\n",
            "accuracy:  0.2222222222222222\n",
            "\n",
            "precision_pos:  0.1 \n",
            "recall_pos:  0.05 \n",
            "f1_score_pos:  0.06666666666666667\n",
            "\n",
            "precision_neg:  0.2692307692307692 \n",
            "recall_neg:  0.4375 \n",
            "f1_score_neg:  0.33333333333333337\n"
          ],
          "name": "stdout"
        }
      ]
    },
    {
      "cell_type": "code",
      "metadata": {
        "colab": {
          "base_uri": "https://localhost:8080/"
        },
        "id": "DWhaz0Nvi0mv",
        "outputId": "7801696d-77ab-42e2-a919-a12650ae2766"
      },
      "source": [
        "macro_precision=(precision_pos+precision_neg)/2\n",
        "macro_recall=(recall_pos+recall_neg)/2\n",
        "macro_f1_score=(f1_score_pos+f1_score_neg)/2\n",
        "print(\"macro_precision: \",macro_precision,\"\\nmacro_recall: \",macro_recall,\"\\nmacro_f1_score: \",macro_f1_score)"
      ],
      "execution_count": null,
      "outputs": [
        {
          "output_type": "stream",
          "text": [
            "macro_precision:  0.18461538461538463 \n",
            "macro_recall:  0.24375 \n",
            "macro_f1_score:  0.2\n"
          ],
          "name": "stdout"
        }
      ]
    },
    {
      "cell_type": "code",
      "metadata": {
        "colab": {
          "base_uri": "https://localhost:8080/"
        },
        "id": "EyrUCxHCjHof",
        "outputId": "632a249f-20f3-4b39-8290-f49a2d9aac96"
      },
      "source": [
        "#Weighted Average:\n",
        "l1=len(Y_test[Y_test==0])\n",
        "l2=len(Y_test[Y_test==1])\n",
        "weighted_precision=(l1*precision_neg+l2*precision_pos)/(l1+l2)\n",
        "weighted_recall=(l1*recall_neg+l2*recall_pos)/(l1+l2)\n",
        "weighted_f1_score=(l1*f1_score_neg+l2*f1_score_pos)/(l1+l2)\n",
        "print(\"weighted_precision: \",weighted_precision,\"\\nweighted_recall: \",weighted_recall,\"\\nweighted_f1_score: \",weighted_f1_score)"
      ],
      "execution_count": null,
      "outputs": [
        {
          "output_type": "stream",
          "text": [
            "weighted_precision:  0.1752136752136752 \n",
            "weighted_recall:  0.2222222222222222 \n",
            "weighted_f1_score:  0.1851851851851852\n"
          ],
          "name": "stdout"
        }
      ]
    },
    {
      "cell_type": "markdown",
      "metadata": {
        "id": "_poaJNnejlAw"
      },
      "source": [
        "Step-by-Step Logistic Regression (with ridge regularization; alpha=10; number of iterations=1000; lambda=0.2)"
      ]
    },
    {
      "cell_type": "code",
      "metadata": {
        "colab": {
          "base_uri": "https://localhost:8080/"
        },
        "id": "9gYYpo6zjoT0",
        "outputId": "479c7575-cde3-424c-ba72-556fb69e197c"
      },
      "source": [
        "n=1000 #number of iterations\n",
        "alpha=10\n",
        "Lambda=0.2\n",
        "m,k=X_train.shape \n",
        "beta1=np.zeros(k)\n",
        "for i in range(n): \n",
        "  cost_gradient=np.zeros(k) \n",
        "  z=X_train.dot(beta) \n",
        "  predicted=1/(1+np.exp(-z)) \n",
        "  difference=predicted-Y_train\n",
        "  cost_gradient[0]=np.sum(difference.dot(X_train[:,0]))\n",
        "  for j in range(1,k): \n",
        "    cost_gradient[j]=np.sum(difference.dot(X_train[:,j])) + (Lambda/m)* beta[j]\n",
        "  for j in range(k): \n",
        "    beta1[j]=beta[j]-(alpha/m)*cost_gradient[j] \n",
        "print(beta1)"
      ],
      "execution_count": null,
      "outputs": [
        {
          "output_type": "stream",
          "text": [
            "/usr/local/lib/python3.7/dist-packages/ipykernel_launcher.py:9: RuntimeWarning: overflow encountered in exp\n",
            "  if __name__ == '__main__':\n"
          ],
          "name": "stderr"
        },
        {
          "output_type": "stream",
          "text": [
            "[-1.95770653e+02  0.00000000e+00 -1.26370373e+02  1.83563841e+02\n",
            "  7.26757257e+01 -1.36455783e+02 -3.52568425e+01 -7.45522149e+01\n",
            " -8.21793207e+01 -9.48725963e+01 -5.01975546e+01 -9.04592953e+01\n",
            " -3.29260694e+02 -1.92012829e+02 -9.66762230e+01 -9.74433249e+01\n",
            " -1.27260873e+02 -1.34717697e+02 -1.20361851e+02 -2.07358553e+02\n",
            " -2.65030749e-01 -1.51590347e+02 -5.32519102e+01  1.13703130e+00\n",
            " -5.75917811e+01  1.31099239e+01 -8.71530252e+01 -3.54651478e+01\n",
            " -1.55377419e+02]\n"
          ],
          "name": "stdout"
        }
      ]
    },
    {
      "cell_type": "code",
      "metadata": {
        "colab": {
          "base_uri": "https://localhost:8080/"
        },
        "id": "jh-rqmWrnL8T",
        "outputId": "c6232601-d8c6-4dba-e071-dbb9bd2fb5b8"
      },
      "source": [
        "Y_predict1=1/(1+np.exp(-(X_test.dot(beta1))))\n",
        "Y_label1=np.zeros(len(Y_predict1))\n",
        "for i in range(len(Y_predict1)):\n",
        "  if(Y_predict1[i]>=0.5):\n",
        "    Y_label1[i]=1"
      ],
      "execution_count": null,
      "outputs": [
        {
          "output_type": "stream",
          "text": [
            "/usr/local/lib/python3.7/dist-packages/ipykernel_launcher.py:1: RuntimeWarning: overflow encountered in exp\n",
            "  \"\"\"Entry point for launching an IPython kernel.\n"
          ],
          "name": "stderr"
        }
      ]
    },
    {
      "cell_type": "code",
      "metadata": {
        "colab": {
          "base_uri": "https://localhost:8080/"
        },
        "id": "Cw3UgOoZnU1j",
        "outputId": "85261db8-468e-4e97-dd3c-a13ef308f3eb"
      },
      "source": [
        "TP=0\n",
        "TN=0\n",
        "FP=0\n",
        "FN=0\n",
        "\n",
        "for i in range(len(Y_label1)):\n",
        "  if (Y_test[i]==1 and Y_label1[i]==1):\n",
        "    TP=TP+1\n",
        "  if (Y_test[i]==1 and Y_label1[i]==0):\n",
        "    FN=FN+1\n",
        "  if (Y_test[i]==0 and Y_label1[i]==1):\n",
        "    FP=FP+1\n",
        "  if (Y_test[i]==0 and Y_label1[i]==0):\n",
        "    TN=TN+1\n",
        "print(\"TP: \",TP,\"TN: \",TN,\"FP: \",FP,\"FN: \",FN)\n",
        "accuracy=(TP+TN)/(TP+TN+FP+FN)\n",
        "print(\"accuracy: \",accuracy)\n",
        "#For positive class:\n",
        "precision_pos=TP/(TP+FP)\n",
        "recall_pos=TP/(TP+FN)\n",
        "f1_score_pos=2*precision_pos*recall_pos/(precision_pos+recall_pos)\n",
        "print(\"\\nprecision_pos: \",precision_pos,\"\\nrecall_pos: \",recall_pos,\"\\nf1_score_pos: \",f1_score_pos)\n",
        "#For negative class\n",
        "precision_neg=TN/(TN+FN)\n",
        "recall_neg=TN/(TN+FP)\n",
        "f1_score_neg=2*precision_neg*recall_neg/(precision_neg+recall_neg)\n",
        "print(\"\\nprecision_neg: \",precision_neg,\"\\nrecall_neg: \",recall_neg,\"\\nf1_score_neg: \",f1_score_neg)"
      ],
      "execution_count": null,
      "outputs": [
        {
          "output_type": "stream",
          "text": [
            "TP:  16 TN:  9 FP:  7 FN:  4\n",
            "accuracy:  0.6944444444444444\n",
            "\n",
            "precision_pos:  0.6956521739130435 \n",
            "recall_pos:  0.8 \n",
            "f1_score_pos:  0.7441860465116279\n",
            "\n",
            "precision_neg:  0.6923076923076923 \n",
            "recall_neg:  0.5625 \n",
            "f1_score_neg:  0.6206896551724138\n"
          ],
          "name": "stdout"
        }
      ]
    },
    {
      "cell_type": "code",
      "metadata": {
        "colab": {
          "base_uri": "https://localhost:8080/"
        },
        "id": "VTLZ6DhTretJ",
        "outputId": "abea2d43-26a3-4675-8699-b01f8b3d7a5e"
      },
      "source": [
        "macro_precision=(precision_pos+precision_neg)/2\n",
        "macro_recall=(recall_pos+recall_neg)/2\n",
        "macro_f1_score=(f1_score_pos+f1_score_neg)/2\n",
        "print(\"macro_precision: \",macro_precision,\"\\nmacro_recall: \",macro_recall,\"\\nmacro_f1_score: \",macro_f1_score)"
      ],
      "execution_count": null,
      "outputs": [
        {
          "output_type": "stream",
          "text": [
            "macro_precision:  0.6939799331103679 \n",
            "macro_recall:  0.68125 \n",
            "macro_f1_score:  0.6824378508420208\n"
          ],
          "name": "stdout"
        }
      ]
    },
    {
      "cell_type": "code",
      "metadata": {
        "colab": {
          "base_uri": "https://localhost:8080/"
        },
        "id": "lE9xMG5Krh3x",
        "outputId": "2a2a37a2-d209-4823-e56a-e0f6347fa13e"
      },
      "source": [
        "#Weighted Average:\n",
        "l1=len(Y_test[Y_test==0])\n",
        "l2=len(Y_test[Y_test==1])\n",
        "weighted_precision=(l1*precision_neg+l2*precision_pos)/(l1+l2)\n",
        "weighted_recall=(l1*recall_neg+l2*recall_pos)/(l1+l2)\n",
        "weighted_f1_score=(l1*f1_score_neg+l2*f1_score_pos)/(l1+l2)\n",
        "print(\"weighted_precision: \",weighted_precision,\"\\nweighted_recall: \",weighted_recall,\"\\nweighted_f1_score: \",weighted_f1_score)"
      ],
      "execution_count": null,
      "outputs": [
        {
          "output_type": "stream",
          "text": [
            "weighted_precision:  0.6941657376439986 \n",
            "weighted_recall:  0.6944444444444444 \n",
            "weighted_f1_score:  0.6892987614719772\n"
          ],
          "name": "stdout"
        }
      ]
    }
  ]
}