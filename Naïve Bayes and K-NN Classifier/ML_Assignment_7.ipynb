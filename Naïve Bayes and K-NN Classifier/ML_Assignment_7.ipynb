{
  "nbformat": 4,
  "nbformat_minor": 0,
  "metadata": {
    "colab": {
      "name": "ML Assignment 7.ipynb",
      "provenance": [],
      "collapsed_sections": [],
      "toc_visible": true,
      "mount_file_id": "1JxwHRG7p7CD37qEAXGvUpMsOgALXwqxB",
      "authorship_tag": "ABX9TyMenNGemhA2acRoC5ijEuu8",
      "include_colab_link": true
    },
    "kernelspec": {
      "name": "python3",
      "display_name": "Python 3"
    },
    "language_info": {
      "name": "python"
    }
  },
  "cells": [
    {
      "cell_type": "markdown",
      "metadata": {
        "id": "view-in-github",
        "colab_type": "text"
      },
      "source": [
        "<a href=\"https://colab.research.google.com/github/gsingla21/Machine_Learning/blob/main/Na%C3%AFve%20Bayes%20and%20K-NN%20Classifier/ML_Assignment_7.ipynb\" target=\"_parent\"><img src=\"https://colab.research.google.com/assets/colab-badge.svg\" alt=\"Open In Colab\"/></a>"
      ]
    },
    {
      "cell_type": "markdown",
      "metadata": {
        "id": "zxqRgadLArJA"
      },
      "source": [
        "#Gourish Singla\n",
        "#101803698\n",
        "#CoE-15"
      ]
    },
    {
      "cell_type": "markdown",
      "metadata": {
        "id": "vTuTsuDYiH7f"
      },
      "source": [
        "#Q1"
      ]
    },
    {
      "cell_type": "markdown",
      "metadata": {
        "id": "h-2hcIYelRqG"
      },
      "source": [
        "Loading dataset"
      ]
    },
    {
      "cell_type": "code",
      "metadata": {
        "id": "admkr86xiGoN"
      },
      "source": [
        "import pandas as pd\n",
        "url='/content/drive/MyDrive/ML assignments/Assignment 7/Dataset/message.txt'\n",
        "dataset=pd.read_csv(url,sep='\\t',header=None)"
      ],
      "execution_count": null,
      "outputs": []
    },
    {
      "cell_type": "code",
      "metadata": {
        "colab": {
          "base_uri": "https://localhost:8080/",
          "height": 419
        },
        "id": "MAPlFzQDjHzB",
        "outputId": "a18951f0-3909-45b7-ed2b-e7219e84d723"
      },
      "source": [
        "dataset"
      ],
      "execution_count": null,
      "outputs": [
        {
          "output_type": "execute_result",
          "data": {
            "text/html": [
              "<div>\n",
              "<style scoped>\n",
              "    .dataframe tbody tr th:only-of-type {\n",
              "        vertical-align: middle;\n",
              "    }\n",
              "\n",
              "    .dataframe tbody tr th {\n",
              "        vertical-align: top;\n",
              "    }\n",
              "\n",
              "    .dataframe thead th {\n",
              "        text-align: right;\n",
              "    }\n",
              "</style>\n",
              "<table border=\"1\" class=\"dataframe\">\n",
              "  <thead>\n",
              "    <tr style=\"text-align: right;\">\n",
              "      <th></th>\n",
              "      <th>0</th>\n",
              "      <th>1</th>\n",
              "    </tr>\n",
              "  </thead>\n",
              "  <tbody>\n",
              "    <tr>\n",
              "      <th>0</th>\n",
              "      <td>ham</td>\n",
              "      <td>Go until jurong point, crazy.. Available only ...</td>\n",
              "    </tr>\n",
              "    <tr>\n",
              "      <th>1</th>\n",
              "      <td>ham</td>\n",
              "      <td>Ok lar... Joking wif u oni...</td>\n",
              "    </tr>\n",
              "    <tr>\n",
              "      <th>2</th>\n",
              "      <td>spam</td>\n",
              "      <td>Free entry in 2 a wkly comp to win FA Cup fina...</td>\n",
              "    </tr>\n",
              "    <tr>\n",
              "      <th>3</th>\n",
              "      <td>ham</td>\n",
              "      <td>U dun say so early hor... U c already then say...</td>\n",
              "    </tr>\n",
              "    <tr>\n",
              "      <th>4</th>\n",
              "      <td>ham</td>\n",
              "      <td>Nah I don't think he goes to usf, he lives aro...</td>\n",
              "    </tr>\n",
              "    <tr>\n",
              "      <th>...</th>\n",
              "      <td>...</td>\n",
              "      <td>...</td>\n",
              "    </tr>\n",
              "    <tr>\n",
              "      <th>5567</th>\n",
              "      <td>spam</td>\n",
              "      <td>This is the 2nd time we have tried 2 contact u...</td>\n",
              "    </tr>\n",
              "    <tr>\n",
              "      <th>5568</th>\n",
              "      <td>ham</td>\n",
              "      <td>Will ü b going to esplanade fr home?</td>\n",
              "    </tr>\n",
              "    <tr>\n",
              "      <th>5569</th>\n",
              "      <td>ham</td>\n",
              "      <td>Pity, * was in mood for that. So...any other s...</td>\n",
              "    </tr>\n",
              "    <tr>\n",
              "      <th>5570</th>\n",
              "      <td>ham</td>\n",
              "      <td>The guy did some bitching but I acted like i'd...</td>\n",
              "    </tr>\n",
              "    <tr>\n",
              "      <th>5571</th>\n",
              "      <td>ham</td>\n",
              "      <td>Rofl. Its true to its name</td>\n",
              "    </tr>\n",
              "  </tbody>\n",
              "</table>\n",
              "<p>5572 rows × 2 columns</p>\n",
              "</div>"
            ],
            "text/plain": [
              "         0                                                  1\n",
              "0      ham  Go until jurong point, crazy.. Available only ...\n",
              "1      ham                      Ok lar... Joking wif u oni...\n",
              "2     spam  Free entry in 2 a wkly comp to win FA Cup fina...\n",
              "3      ham  U dun say so early hor... U c already then say...\n",
              "4      ham  Nah I don't think he goes to usf, he lives aro...\n",
              "...    ...                                                ...\n",
              "5567  spam  This is the 2nd time we have tried 2 contact u...\n",
              "5568   ham               Will ü b going to esplanade fr home?\n",
              "5569   ham  Pity, * was in mood for that. So...any other s...\n",
              "5570   ham  The guy did some bitching but I acted like i'd...\n",
              "5571   ham                         Rofl. Its true to its name\n",
              "\n",
              "[5572 rows x 2 columns]"
            ]
          },
          "metadata": {
            "tags": []
          },
          "execution_count": 665
        }
      ]
    },
    {
      "cell_type": "markdown",
      "metadata": {
        "id": "_F-LAMsalUMx"
      },
      "source": [
        "Importing Packages"
      ]
    },
    {
      "cell_type": "code",
      "metadata": {
        "id": "Mu-Kh3nJjQS2"
      },
      "source": [
        "import re\n",
        "import nltk\n",
        "from nltk.corpus import stopwords\n",
        "from nltk.stem.porter import PorterStemmer"
      ],
      "execution_count": null,
      "outputs": []
    },
    {
      "cell_type": "markdown",
      "metadata": {
        "id": "WVWIzQb6lcFq"
      },
      "source": [
        "Downloading Stopwords"
      ]
    },
    {
      "cell_type": "code",
      "metadata": {
        "colab": {
          "base_uri": "https://localhost:8080/"
        },
        "id": "8VYUq27rjwfa",
        "outputId": "7bfe0aac-0ce3-43c1-f13d-4d788071737f"
      },
      "source": [
        "nltk.download('stopwords')"
      ],
      "execution_count": null,
      "outputs": [
        {
          "output_type": "stream",
          "text": [
            "[nltk_data] Downloading package stopwords to /root/nltk_data...\n",
            "[nltk_data]   Package stopwords is already up-to-date!\n"
          ],
          "name": "stdout"
        },
        {
          "output_type": "execute_result",
          "data": {
            "text/plain": [
              "True"
            ]
          },
          "metadata": {
            "tags": []
          },
          "execution_count": 667
        }
      ]
    },
    {
      "cell_type": "markdown",
      "metadata": {
        "id": "2bb1RIgvlhjE"
      },
      "source": [
        "Preprocessing with corpus, \n",
        "\n",
        "case matching,stopword removal, stemming, tokenization"
      ]
    },
    {
      "cell_type": "code",
      "metadata": {
        "colab": {
          "base_uri": "https://localhost:8080/"
        },
        "id": "Kb9sstrLjVBf",
        "outputId": "7cd928bd-4170-4c46-a8d2-ea8d7cb875fa"
      },
      "source": [
        "stemming = PorterStemmer()\n",
        "corpus = []\n",
        "\n",
        "for i in range (0,len(dataset)):\n",
        "  s1=re.sub('[^a-zA-Z]', repl=' ', string=dataset[1][i])\n",
        "  s1.lower()\n",
        "  s1 = s1.split()\n",
        "  s1 = [stemming.stem(word) for word in s1 if word not in set(stopwords.words('english'))]\n",
        "  s1 = ' '.join(s1)\n",
        "  corpus.append(s1)\n",
        "corpus"
      ],
      "execution_count": null,
      "outputs": [
        {
          "output_type": "execute_result",
          "data": {
            "text/plain": [
              "['Go jurong point crazi avail bugi n great world la e buffet cine got amor wat',\n",
              " 'Ok lar joke wif u oni',\n",
              " 'free entri wkli comp win FA cup final tkt st may text FA receiv entri question std txt rate T C appli',\n",
              " 'U dun say earli hor U c alreadi say',\n",
              " 'nah I think goe usf live around though',\n",
              " 'freemsg hey darl week word back I like fun still Tb ok xxx std chg send rcv',\n",
              " 'even brother like speak they treat like aid patent',\n",
              " 'As per request mell mell oru minnaminungint nurungu vettam set callertun caller press copi friend callertun',\n",
              " 'winner As valu network custom select receivea prize reward To claim call claim code KL valid hour',\n",
              " 'had mobil month U R entitl updat latest colour mobil camera free call the mobil updat Co free',\n",
              " 'I gonna home soon want talk stuff anymor tonight k I cri enough today',\n",
              " 'six chanc win cash from pound txt csh send cost p day day tsandc appli repli HL info',\n",
              " 'urgent you week free membership prize jackpot txt word claim No T C www dbuk net lccltd pobox ldnw A RW',\n",
              " 'I search right word thank breather I promis wont take help grant fulfil promis you wonder bless time',\n",
              " 'I have A date ON sunday with will',\n",
              " 'xxxmobilemovieclub To use credit click wap link next txt messag click http wap xxxmobilemovieclub com n qjkgighjjgcbl',\n",
              " 'Oh k watch',\n",
              " 'Eh u rememb spell name ye He v naughti make v wet',\n",
              " 'fine way u feel that way gota b',\n",
              " 'england v macedonia dont miss goal team news txt ur nation team eg england tri wale scotland txt poboxox W WQ',\n",
              " 'Is serious spell name',\n",
              " 'I go tri month ha ha joke',\n",
              " 'So pay first lar then da stock comin',\n",
              " 'aft finish lunch go str lor ard smth lor U finish ur lunch alreadi',\n",
              " 'ffffffffff alright way I meet sooner',\n",
              " 'just forc eat slice I realli hungri tho thi suck mark get worri He know I sick I turn pizza lol',\n",
              " 'lol alway convinc',\n",
              " 'did catch bu are fri egg did make tea are eat mom left dinner Do feel love',\n",
              " 'I back amp pack car I let know room',\n",
              " 'ahhh work I vagu rememb what feel like lol',\n",
              " 'wait still clear sure sarcast x want live us',\n",
              " 'yeah got v apologet n fallen actin like spoilt child got caught till but go not badli cheer you',\n",
              " 'K tell anyth',\n",
              " 'for fear faint housework quick cuppa',\n",
              " 'thank subscript rington UK mobil charg month pleas confirm repli ye NO If repli NO charg',\n",
              " 'yup Ok go home look time msg xuhui go learn nd may lesson',\n",
              " 'oop I let know roommat done',\n",
              " 'I see letter B car',\n",
              " 'anyth lor U decid',\n",
              " 'hello how saturday go I text see decid anyth tomo not tri invit anyth',\n",
              " 'pl go ahead watt I want sure Do great weekend abiola',\n",
              " 'did I forget tell I want I need I crave but I love sweet arabian steed mmmmmm yummi',\n",
              " 'rodger burn msg We tri call repli sm free nokia mobil free camcord pleas call deliveri tomorrow',\n",
              " 'who are you see',\n",
              " 'great I hope like man well endow I lt gt inch',\n",
              " 'No call messag miss call',\n",
              " 'didn get hep b immunis nigeria',\n",
              " 'fair enough anyth go',\n",
              " 'yeah hope tyler I could mayb ask around bit',\n",
              " 'U know stubborn I I even want go hospit I kept tell mark I weak sucker hospit weak sucker',\n",
              " 'what think first time saw class',\n",
              " 'A gram usual run like lt gt half eighth smarter though get almost whole second gram lt gt',\n",
              " 'K fyi x ride earli tomorrow morn crash place tonight',\n",
              " 'wow I never realiz embarass accomod I thought like sinc best could alway seem happi cave I sorri I give I sorri offer I sorri room embarass',\n",
              " 'sm ac sptv the new jersey devil detroit red wing play ice hockey correct incorrect end repli end sptv',\n",
              " 'Do know mallika sherawat yesterday find lt url gt',\n",
              " 'congrat year special cinema pass call C suprman V matrix starwar etc free bx ip pm dont miss',\n",
              " 'sorri I call later meet',\n",
              " 'tell reach',\n",
              " 'ye gauti sehwag odi seri',\n",
              " 'your gonna pick burger way home I even move pain kill',\n",
              " 'Ha ha ha good joke girl situat seeker',\n",
              " 'it part check IQ',\n",
              " 'sorri roommat took forev ok I come',\n",
              " 'Ok lar doubl check wif da hair dresser alreadi said wun cut v short He said cut look nice',\n",
              " 'As valu custom I pleas advis follow recent review mob No award bonu prize call',\n",
              " 'today song dedic day which song u dedic send ur valuabl frnd first rpli',\n",
              " 'urgent UR award complimentari trip eurodisinc trav aco entri Or To claim txt di morefrmmob shracomorsglsuplt LS AJ',\n",
              " 'did hear new divorc barbi It come ken stuff',\n",
              " 'I plane give month end',\n",
              " 'wah lucki man then save money hee',\n",
              " 'finish class',\n",
              " 'HI babe IM AT home now wanna DO someth XX',\n",
              " 'K k perform',\n",
              " 'U call',\n",
              " 'I wait machan call free',\n",
              " 'that cool gentleman treat digniti respect',\n",
              " 'I like peopl much shi pa',\n",
              " 'doe oper lt gt',\n",
              " 'it still look job how much Ta earn',\n",
              " 'sorri I call later',\n",
              " 'K did call ah',\n",
              " 'Ok way home hi hi',\n",
              " 'you place man',\n",
              " 'yup next stop',\n",
              " 'I call later network If urgnt sm',\n",
              " 'for real u get yo I need ticket one jacket I done I alreadi use multi',\n",
              " 'ye I start send request make pain came back I back bed doubl coin factori I gotta cash nitro',\n",
              " 'I realli still tonight babe',\n",
              " 'ela kano il download come wen ur free',\n",
              " 'yeah don stand close tho catch someth',\n",
              " 'sorri pain Is ok meet anoth night I spent late afternoon casualti mean done stuff moro includ time sheet sorri',\n",
              " 'smile pleasur smile pain smile troubl pour like rain smile sum hurt U smile becoz someon still love see u smile',\n",
              " 'pleas call custom servic repres pm won guarante cash prize',\n",
              " 'havent plan buy later I check alreadi lido got show e afternoon U finish work alreadi',\n",
              " 'your free rington wait collect simpli text password mix verifi get usher britney fml PO box MK H ppw',\n",
              " 'watch telugu movi wat abt u',\n",
              " 'see when finish load loan pay',\n",
              " 'Hi Wk ok hol ye bit run forgot hairdress appoint four need get home n shower beforehand doe caus prob u',\n",
              " 'I see cup coffe anim',\n",
              " 'pleas text anymor I noth els say',\n",
              " 'okay name ur price long legal wen I pick Y u ave x am xx',\n",
              " 'I still look car buy and gone drive test yet',\n",
              " 'As per request mell mell oru minnaminungint nurungu vettam set callertun caller press copi friend callertun',\n",
              " 'wow you right I mean I guess gave boston men chang search locat nyc someth chang cuz signin page still say boston',\n",
              " 'umma life vava umma love lot dear',\n",
              " 'thank lot wish birthday thank make birthday truli memor',\n",
              " 'aight I hit I get cash',\n",
              " 'how would ip address test consid comput minecraft server',\n",
              " 'I know grumpi old peopl My mom like better lie then I alway one play joke',\n",
              " 'dont worri I guess busi',\n",
              " 'what plural noun research',\n",
              " 'go dinner msg',\n",
              " 'I ok wif co like tri new thing but scare u dun like mah co u said loud',\n",
              " 'gent We tri contact last weekend draw show prize guarante call claim code K valid hr ppm',\n",
              " 'Wa ur openin sentenc formal anyway fine juz tt eatin much n puttin weight haha So anythin special happen',\n",
              " 'As I enter cabin PA said happi B day boss I felt special she askd lunch after lunch invit apart We went',\n",
              " 'you winner U special select receiv holiday flight inc speak live oper claim p min',\n",
              " 'goodo ye must speak friday egg potato ratio tortilla need',\n",
              " 'hmm uncl inform pay school directli So pl buy food',\n",
              " 'privat your account statement show unredeem bonu point To claim call identifi code expir',\n",
              " 'urgent your mobil No award bonu caller prize thi final tri contact U call landlin box WR C ppm',\n",
              " 'new address appl pair malarki',\n",
              " 'today voda number end select receiv award If match pleas call quot claim code standard rate app',\n",
              " 'I go sao mu today will done',\n",
              " 'predict wat time finish buy',\n",
              " 'good stuff',\n",
              " 'just know yetund sent money yet I sent text bother send So dont involv anyth I impos anyth first place apologis',\n",
              " 'are room',\n",
              " 'hey girl how R U hope U R well ME AN del R bak again long time NO C give ME A call sum time from lucyxx',\n",
              " 'K k much cost',\n",
              " 'I home',\n",
              " 'dear call tmorrow pl accomod',\n",
              " 'first answer question',\n",
              " 'sunshin quiz wkli Q win top soni dvd player u know countri algarv txt ansr SP tyron',\n",
              " 'want get laid tonight want real dog locat sent direct ur mob join UK largest dog network bt txting gravel Nt ec p msg p',\n",
              " 'I haf msn It yiju hotmail com',\n",
              " 'He you call meet',\n",
              " 'No I check room befor activ',\n",
              " 'you rcv msg chat svc for free hardcor servic text GO If u get noth u must age verifi yr network tri',\n",
              " 'got c I lazi type I forgot lect I saw pouch like v nice',\n",
              " 'K text way',\n",
              " 'sir wait mail',\n",
              " 'A swt thought nver get tire littl thing lovabl person coz somtim littl thing occupi biggest part heart gud ni',\n",
              " 'I know can pl open back',\n",
              " 'ye see ya dot',\n",
              " 'what staff name take class us',\n",
              " 'freemsg whi repli text I randi sexi femal live local luv hear u netcollex ltd p per msg repli stop end',\n",
              " 'ummma call check life begin qatar pl pray hard',\n",
              " 'K delet contact',\n",
              " 'sindu got job birla soft',\n",
              " 'the wine flow never',\n",
              " 'yup thk cine better co need go plaza mah',\n",
              " 'Ok Ur typic repli',\n",
              " 'As per request mell mell oru minnaminungint nurungu vettam set callertun caller press copi friend callertun',\n",
              " 'you everywher dirt floor window even shirt and sometim open mouth come flow I dream world without half chore A time joy lot tv show see but guess like thing must exist like rain hail mist time done becom one',\n",
              " 'aaooooright work',\n",
              " 'I leav hous',\n",
              " 'hello love what did get interview today are happi are good boy Do think are miss',\n",
              " 'custom servic annonc you new year deliveri wait pleas call arrang deliveri',\n",
              " 'you winner U special select receiv cash holiday flight inc speak live oper claim',\n",
              " 'keep safe I need I miss alreadi I envi everyon see real life',\n",
              " 'new car hous parent new job hand',\n",
              " 'I love I excit day spend you make happi',\n",
              " 'pl stop bootydeli F invit friend repli ye NO see www sm ac u bootydeli stop send stop frnd',\n",
              " 'bangbab Ur order way U should receiv servic msg download UR content If U goto wap bangb tv UR mobil internet servic menu',\n",
              " 'I place ur point e cultur modul alreadi',\n",
              " 'urgent We tri contact last weekend draw show prize guarante call claim code S valid hr',\n",
              " 'Hi frnd best way avoid missunderstd wit belov one',\n",
              " 'great escap I fanci bridg need lager see tomo',\n",
              " 'ye complet form clark also utter wast',\n",
              " 'sir I need axi bank account bank address',\n",
              " 'hmmm thk sure got time hop ard Ya go free abt muz call u discuss liao',\n",
              " 'what time come later',\n",
              " 'bloodi hell cant believ forgot surnam Mr ill give u clue spanish begin',\n",
              " 'well gonna finish bath have good fine night',\n",
              " 'let know got money carlo make call',\n",
              " 'U still go mall',\n",
              " 'turn friend stay whole show back til lt gt feel free go ahead smoke lt gt worth',\n",
              " 'text If doesnt repli let know log',\n",
              " 'Hi you spoke maneesha V We like know satisfi experi repli toll free ye No',\n",
              " 'you lift hope offer money I need especi end month approach hurt studi anyway gr weekend',\n",
              " 'lol U trust',\n",
              " 'ok I gentleman treat digniti respect',\n",
              " 'He guy close',\n",
              " 'go noth great bye',\n",
              " 'hello handsom are find job not lazi work toward get back net mummi where boytoy doe miss',\n",
              " 'haha awesom minut',\n",
              " 'pleas call custom servic repres freephon pm won guarante cash prize',\n",
              " 'have got xma radio time If get',\n",
              " 'I ju reach home I go bath first but si use net tell u finish k',\n",
              " 'are uniqu enough find th august www areyouuniqu co uk',\n",
              " 'I sorri I join leagu peopl dont keep touch you mean great deal you friend time even great person cost Do great week',\n",
              " 'Hi final complet cours',\n",
              " 'It stop I howev suggest stay someon abl give or everi stool',\n",
              " 'how hope settl new school year just wishin gr day',\n",
              " 'gud mrng dear hav nice day',\n",
              " 'did u got person stori',\n",
              " 'hamster dead hey tmr meet pm orchard mrt',\n",
              " 'Hi kate even I hope see tomorrow bit bloodi babyjontet txt back u xxx',\n",
              " 'found enc lt gt',\n",
              " 'I sent lt gt buck',\n",
              " 'hello darlin ive finish colleg txt u finish u love kate xxx',\n",
              " 'your account refil success inr lt decim gt your keralacircl prepaid account balanc Rs lt decim gt your transact ID KR lt gt',\n",
              " 'goodmorn sleep ga',\n",
              " 'U call alter ok',\n",
              " 'say like dat dun buy ericsson oso cannot oredi lar',\n",
              " 'As I enter cabin PA said happi B day boss I felt special she askd lunch after lunch invit apart We went',\n",
              " 'aight yo dat straight dogg',\n",
              " 'you pleas give us connect today lt decim gt refund bill',\n",
              " 'both shoot big load get readi',\n",
              " 'what bruv hope great break Do reward semest',\n",
              " 'home alway chat',\n",
              " 'K k good studi well',\n",
              " 'yup how noe leh',\n",
              " 'sound great are home',\n",
              " 'final match head toward draw predict',\n",
              " 'tire I slept well past night',\n",
              " 'easi ah sen got select mean good',\n",
              " 'I take exam march',\n",
              " 'yeah I think use gt atm regist not sure anyway help let know but sure readi',\n",
              " 'Ok prob take ur time',\n",
              " 'there os call ubandu run without instal hard disk use os copi import file system give repair shop',\n",
              " 'sorri I call later',\n",
              " 'U say leh Of cours noth happen lar not say v romant ju bit lor I thk e nite sceneri nice leh',\n",
              " 'new mobil must GO txt nokia No collect today from onli www tc biz optout gbp mtmsg',\n",
              " 'would realli appreci call just need someon talk',\n",
              " 'will u meet ur dream partner soon Is ur career flyng start find free txt horo follow ur star sign e g horo ari',\n",
              " 'hey compani elama po mudyadhu',\n",
              " 'life strict teacher bcoz teacher teach lesson amp conduct exam but life first conduct exam amp teach lesson happi morn',\n",
              " 'dear good morn',\n",
              " 'get gandhipuram walk cross cut road right side lt gt street road turn first right',\n",
              " 'dear go rubber place',\n",
              " 'sorri batteri die yeah I',\n",
              " 'ye tv alway avail work place',\n",
              " 'text meet someon sexi today U find date even flirt U join p repli name age eg sam msg recd thirtyeight penc',\n",
              " 'I print oh So lt gt come upstair',\n",
              " 'Or ill littl closer like bu stop street',\n",
              " 'where wil reach',\n",
              " 'new theori argument win situat lose person So dont argu ur friend kick amp say I alway correct',\n",
              " 'U secret admir look make contact U find R reveal think UR special call',\n",
              " 'tomarrow final hear laptop case cant',\n",
              " 'pleassssssseeeee tel ME V avent done sportsx',\n",
              " 'okay No shine that meant sign sound better',\n",
              " 'although told u dat baig face watch realli like e watch u gave co fr u thanx everyth dat u done today touch',\n",
              " 'U rememb old commerci',\n",
              " 'too late I said websit I dont slipper',\n",
              " 'I ask call ok',\n",
              " 'kalli wont bat nd inning',\n",
              " 'It didnt work oh Ok goodnight I fix readi time wake you dearli miss good night sleep',\n",
              " 'congratul ur award CD voucher gift guarante free entri wkli draw txt music tnc www ldew com win ppmx age',\n",
              " 'ranjith cal drpd deeraj deepak min hold',\n",
              " 'wen ur lovabl bcum angri wid u dnt take serious coz angri childish n true way show deep affect care n luv kettoda manda have nice day da',\n",
              " 'what',\n",
              " 'up day also ship compani take wk the way usp take week get lag may bribe nipost get stuff',\n",
              " 'I back lemm know readi',\n",
              " 'don necessarili expect done get back though I headin',\n",
              " 'mmm yummi babe nice jolt suzi',\n",
              " 'where lover I need',\n",
              " 'We tri contact repli offer video handset anytim network min unlimit text camcord repli call now',\n",
              " 'I park next mini when come today think',\n",
              " 'yup',\n",
              " 'anyway go shop co si done yet dun disturb u liao',\n",
              " 'MY NO IN luton ring ME IF UR around H',\n",
              " 'hey I realli horni want chat see nake text hot text charg pm unsubscrib text stop',\n",
              " 'whi dint come us',\n",
              " 'same wana plan trip sometm',\n",
              " 'not sure yet still tri get hold',\n",
              " 'Ur rington servic chang free credit Go club mobil com choos content stop txt club stop p wk club PO box MK WT',\n",
              " 'the evo I download flash jealou',\n",
              " 'rington club get UK singl chart mobil week choos top qualiti rington thi messag free charg',\n",
              " 'come mu sort narcot situat',\n",
              " 'night end anoth day morn come special way may smile like sunni ray leav worri blue blue bay',\n",
              " 'hmv bonu special pound genuin hmv voucher just answer easi question play now send hmv more info www percent real com',\n",
              " 'usf I guess might well take car',\n",
              " 'No object My bf come',\n",
              " 'thanx',\n",
              " 'tell rob mack gf theater',\n",
              " 'awesom I see bit',\n",
              " 'just sent So type food like',\n",
              " 'all done all hand celebr full swing yet',\n",
              " 'you got call tool',\n",
              " 'wen u miss someon person definit special u but person special miss keep touch gdeve',\n",
              " 'Ok I ask money far',\n",
              " 'oki',\n",
              " 'yeah I think usual guy still pass last night get ahold anybodi let know I throw',\n",
              " 'K I might come tonight class let earli',\n",
              " 'Ok',\n",
              " 'hi babi im cruisin girl friend r u give call hour home that alright fone fone love jenni xxx',\n",
              " 'My life mean lot not I love life but I love peopl life the world call friend I call world Ge',\n",
              " 'dear shall mail tonit busi street shall updat tonit thing look ok varunnathu edukkukaye raksha ollu good one real sens',\n",
              " 'hey told name gautham ah',\n",
              " 'haf u found I feel stupid da v cam work',\n",
              " 'oop got bit',\n",
              " 'are much buzi',\n",
              " 'I accident delet messag resend pleas',\n",
              " 'T mobil custom may claim free camera phone upgrad pay go sim card loyalti call offer end thfeb T C appli',\n",
              " 'unless situat you GO gurl would appropri',\n",
              " 'hurt teas make cri but end life die plz keep one rose grave say stupid I miss U have A nice day bslvyl',\n",
              " 'I cant pick phone right pl send messag',\n",
              " 'need coffe run tomo can believ time week alreadi',\n",
              " 'awesom I rememb last time got somebodi high first time diesel V',\n",
              " 'shit realli shock scari cant imagin second def night Do u think somewher could crash night save taxi',\n",
              " 'Oh way food fridg want go meal tonight',\n",
              " 'He womdarful actor',\n",
              " 'sm ac blind date U rodd aberdeen unit kingdom check him http img sm ac W icmb cktz r blind date send hide',\n",
              " 'yup from remb I think book',\n",
              " 'jo ask u wana meet',\n",
              " 'lol ye our friendship hang thread caus u buy stuff',\n",
              " 'themob check newest select content game tone gossip babe sport keep mobil fit funki text wap',\n",
              " 'where garag key they bookshelf',\n",
              " 'today accept day U accept brother sister lover dear best clo lvblefrnd jstfrnd cutefrnd lifpartnr belovd swtheart bstfrnd No rpli mean enemi',\n",
              " 'think ur smart win week weekli quiz text play T Cs winnersclub PO box M UZ gbp week',\n",
              " 'He say give call friend got money definit buy end week',\n",
              " 'Hi way I u day normal way real UR uniqu I hope I know u rest mylif hope u find wot lost',\n",
              " 'you made day Do great day',\n",
              " 'K k advanc happi pongal',\n",
              " 'hmmm guess go kb n power yoga haha dunno tahan power yoga anot thk got lo oso forgot liao',\n",
              " 'not realli dude friend afraid',\n",
              " 'decemb had mobil mth you entitl updat latest colour camera mobil free call the mobil updat Co free',\n",
              " 'coffe cake guess',\n",
              " 'merri christma babe love ya kiss',\n",
              " 'hey whi dont go watch x men lunch haha',\n",
              " 'cud u tell ppl im gona b bit l co buse hav gon past co full im still waitin pete x',\n",
              " 'that would great We guild could meet bristol road somewher get touch weekend our plan take flight have good week',\n",
              " 'No problem how',\n",
              " 'No call messag miss call',\n",
              " 'Hi da today class',\n",
              " 'I say good sign well know track record read women',\n",
              " 'cool text park',\n",
              " 'I read text sent it meant joke So read light',\n",
              " 'K k apo k good movi',\n",
              " 'mayb could get book tomo return immedi Or someth',\n",
              " 'call germani penc per minut call fix line via access number No prepay direct access',\n",
              " 'ani chanc might evapor soon violat privaci steal phone number employ paperwork not cool pleas contact I report supervisor',\n",
              " 'valentin day special win quiz take partner trip lifetim send GO p msg rcvd custcar',\n",
              " 'Ta daaaaa I home babe still',\n",
              " 'cool So come havent wine dine',\n",
              " 'just sleep surf',\n",
              " 'sorri I call later',\n",
              " 'U call right call hand phone',\n",
              " 'Ok great thanx lot',\n",
              " 'I take post come you must text happi read My one wiv hello carolin end favourit bless',\n",
              " 'where u hide stranger',\n",
              " 'Am interest like',\n",
              " 'My sister clear two round birla soft yesterday',\n",
              " 'gudnit tc practic go',\n",
              " 'di yiju I ju saw ur mail In case huim havent sent u num di num',\n",
              " 'one small prestig problem',\n",
              " 'fanci shag I interest sextextuk com txt xxuk suzi txt cost per msg tnc websit X',\n",
              " 'just check realli miss see jeremiah Do great month',\n",
              " 'nah help I never iphon',\n",
              " 'If car hour half I go apeshit',\n",
              " 'today sorri day If ever angri ever misbehav hurt plz plz just slap urself bcoz it ur fault I basic good',\n",
              " 'Yo guy ever figur much need alcohol jay I tri figur much safe spend weed',\n",
              " 'lt gt ish minut wa minut ago wtf',\n",
              " 'thank you call forgot say happi onam sirji I fine rememb met insur person meet you qatar insha allah rakhesh ex tata aig join tissco tayseer',\n",
              " 'congratul ur award CD voucher gift guarante free entri wkli draw txt music tnc www ldew com win ppmx age',\n",
              " 'Ur cash balanc current pound maxim ur cash send cash p msg CC HG suit land row W J HL',\n",
              " 'I actor when work work even sleep late sinc unemploy moment alway sleep late when unemploy everi day saturday',\n",
              " 'hello just got st andrew boy long way it cold I keep post',\n",
              " 'Ha ha cool cool chikku chikku DB',\n",
              " 'Oh ok prob',\n",
              " 'check audrey statu right',\n",
              " 'busi tri finish new year I look forward final meet',\n",
              " 'good afternoon sunshin how dawn day are refresh happi aliv Do breath air smile I think love As alway',\n",
              " 'well know Z take care So worri',\n",
              " 'updat now xma offer latest motorola sonyericsson nokia free bluetooth doubl min txt orang call mobileupd call optout F Q',\n",
              " 'here discount code RP To stop messag repli stop www regalportfolio co uk custom servic',\n",
              " 'wat uniform In get',\n",
              " 'cool text readi',\n",
              " 'hello boytoy geeee I miss alreadi I woke I wish bed cuddl I love',\n",
              " 'I spoil bed well',\n",
              " 'I go bath msg next lt gt min',\n",
              " 'I cant keep talk peopl sure pay agre price So pl tell want realli buy much will pay',\n",
              " 'thank rington order refer T you charg gbp per week you unsubscrib anytim call custom servic',\n",
              " 'can say happen',\n",
              " 'you could seen recognis face',\n",
              " 'well lot thing happen lindsay new year sigh some bar ptbo blue heron someth go',\n",
              " 'keep payasam rinu bring',\n",
              " 'I taught ranjith sir call So sm like becau he verifi project prabu told today pa dont mistak',\n",
              " 'I guess worri you must know way bodi repair and quit sure worri We take slow first test guid ovul relax noth said reason worri keep followin',\n",
              " 'yeah sure give coupl minut track wallet',\n",
              " 'hey leav big deal take care',\n",
              " 'hey late ah meet',\n",
              " 'doubl min txt month free bluetooth orang avail soni nokia motorola phone call mobileupd call optout N DX',\n",
              " 'It took Mr owl lick',\n",
              " 'custom place call',\n",
              " 'Mm time dont like fun',\n",
              " 'mth half price orang line rental latest camera phone free had phone mth call mobilesdirect free updat stoptxt',\n",
              " 'yup lunch buffet U eat alreadi',\n",
              " 'huh late Fr dinner',\n",
              " 'hey sat go intro pilat Or kickbox',\n",
              " 'morn ok',\n",
              " 'ye think I offic lap room think that last day I didnt shut',\n",
              " 'pick bout ish what time go',\n",
              " 'from the perform award calcul everi two month current one month period',\n",
              " 'wa actual sleep still might u call back So text gr you rock si will send u text wen wake',\n",
              " 'you alway put busi you put pictur ass facebook you one open peopl ever met whi would think pictur room would hurt make feel violat',\n",
              " 'good even sir Al salam wahleykkum share happi news By grace god got offer tayseer tissco join hope fine inshah allah meet sometim rakhesh visitor india',\n",
              " 'hmmm k want chang field quickli da wanna get system administr network administr',\n",
              " 'free rington text first poli text get true tone help st free tone x pw e nd txt stop',\n",
              " 'dear chechi did talk',\n",
              " 'the hair cream ship',\n",
              " 'none happen til get though',\n",
              " 'yep great loxahatche xma tree burn lt gt start hour',\n",
              " 'haha get use drive usf man I know lot stoner',\n",
              " 'all well slightli disastr class pm fav darl hope day ok coffe wld good stay late tomorrow same time place alway',\n",
              " 'hello good week fanci drink someth later',\n",
              " 'headin toward busetop',\n",
              " 'messag text miss sender name miss number miss sent date miss miss U lot that everyth miss sent via fullonsm com',\n",
              " 'come room point iron plan weekend',\n",
              " 'co want thing',\n",
              " 'oki I go yan jiu We skip ard oso go cine den go mrt one blah blah blah',\n",
              " 'bring home wendi D',\n",
              " 'date servic cal l box sk ch',\n",
              " 'whatsup dont u want sleep',\n",
              " 'alright new goal',\n",
              " 'free entri weekli competit text word win now T C www txttowin co uk',\n",
              " 'alright I head minut text meet',\n",
              " 'send logo ur lover name join heart txt love name name mobno eg love adam eve yahoo pobox W WQ txtno ad p',\n",
              " 'ye last week take live call',\n",
              " 'someon contact date servic enter phone fanci To find call landlin pobox n tf p',\n",
              " 'siva hostel aha',\n",
              " 'urgent your mobil number award prize guarante call land line claim valid hr',\n",
              " 'send ur friend receiv someth ur voic how speak express childish naughti sentiment rowdi ful attitud romant shi attract funni lt gt irrit lt gt lovabl repli',\n",
              " 'Ok she ok I guess',\n",
              " 'aathi dear',\n",
              " 'ani pain urin thing els',\n",
              " 'esplanad Do mind give lift co got car today',\n",
              " 'I wnt buy bmw car urgent vri urgent hv shortag lt gt lac sourc arng di amt lt gt lac that prob',\n",
              " 'At home watch tv lor',\n",
              " 'doe usual take fifteen fuck minut respond ye question',\n",
              " 'congrat nokia video camera phone call call cost ppm ave call min vari mobil close post bcm ldn WC N XX',\n",
              " 'book ticket pongal',\n",
              " 'you avail I like right around hillsborough amp lt gt th',\n",
              " 'the messag sent askin lt gt dollar shoul pay lt gt lt gt',\n",
              " 'ask g iouri I told stori like ten time alreadi',\n",
              " 'how long applebe fuck take',\n",
              " 'Hi hope u get txt journey hasnt gd min late I think',\n",
              " 'but I like love arrang',\n",
              " 'ye realli great bhaji told kalli best cricket sachin world tough get',\n",
              " 'you suppos wake ME gt',\n",
              " 'oic I saw tot din c I found group liao',\n",
              " 'sorri I call later',\n",
              " 'hey hey wereth monkeespeopl say WE monkeyaround howdi gorgeou howu doin foundurself A jobyet sausag love jen xxx',\n",
              " 'sorri batteri die I come I get gram place',\n",
              " 'well done blimey exercis yeah kinda rememb wot hmm',\n",
              " 'I wont get concentr dear know mind everyth',\n",
              " 'lol have made plan new year',\n",
              " 'min later k',\n",
              " 'hank lotsli',\n",
              " 'thank hope good day today',\n",
              " 'K k detail want transfer acc enough',\n",
              " 'Ok tell stay yeah tough optimist thing improv month',\n",
              " 'loan purpos homeown tenant welcom have previous refus We still help call free text back help',\n",
              " 'Si si I think ill go make oreo truffl',\n",
              " 'look AT ami ure A beauti intellig woman and I like U A lot I know U don T like ME like that SO don T worri',\n",
              " 'I hope result consist intellig kind start ask practicum link keep ear open best ttyl',\n",
              " 'call cost which guess isnt bad miss ya need ya want ya love ya',\n",
              " 'go thru differ feel waver decis cope individu time heal everyth believ',\n",
              " 'where u go My phone gonna die stay',\n",
              " 'great never better each day give even reason thank god',\n",
              " 'upgrdcentr orang custom may claim free camera phone upgrad loyalti call offer end th juli T C appli opt avail',\n",
              " 'sorri I call later ok bye',\n",
              " 'Ok way railway',\n",
              " 'great princess I love give receiv oral doggi style fave posit how I enjoy make love lt gt time per night',\n",
              " 'they put stuff road keep get slipperi',\n",
              " 'when go ride bike',\n",
              " 'yup need I ju wait e rain stop',\n",
              " 'there mani compani tell languag',\n",
              " 'okmail dear dave final notic collect tenerif holiday cash award call landlin tc sae box CW WX ppm',\n",
              " 'how long sinc scream princess',\n",
              " 'noth I meant money enter account bank remov flat rate someon transfer lt gt account lt gt dollar got remov So bank differ charg also differ sure trust ja person send account detail co',\n",
              " 'want get laid tonight want real dog locat sent direct ur mob join UK largest dog network txting moan nyt ec p msg p',\n",
              " 'nice line said broken heart plz cum time infront other wise I trust U good',\n",
              " 'Ok I gonna head usf like fifteen minut',\n",
              " 'love aathi love u lot',\n",
              " 'tension ah machi problem',\n",
              " 'K I pick anoth th done',\n",
              " 'when guy get back G said think stay mcr',\n",
              " 'almost see u sec',\n",
              " 'Yo carlo friend alreadi ask work weekend',\n",
              " 'watch tv lor',\n",
              " 'thank babi I cant wait tast real thing',\n",
              " 'you chang fb jaykwon thuglyf falconerf',\n",
              " 'If win realli side long time',\n",
              " 'free messag activ free text messag repli messag word free for term condit visit www com',\n",
              " 'dear reach railway what happen',\n",
              " 'depend qualiti If want type sent boy fade glori If want ralph mayb',\n",
              " 'I think fix send test messag',\n",
              " 'sorri man account dri I would want could trade back half I could buy shit credit card',\n",
              " 'congrat year special cinema pass call C suprman V matrix starwar etc free bx ip pm dont miss',\n",
              " 'sorri meet I call later',\n",
              " 'what class lt gt reunion',\n",
              " 'are free call',\n",
              " 'got meh when',\n",
              " 'nope think go monday sorri repli late',\n",
              " 'some told accentur confirm Is true',\n",
              " 'kate jackson rec center ish right',\n",
              " 'dear reach room',\n",
              " 'fight world easi u either win lose bt fightng close u dificult u lose u lose u win u still lose',\n",
              " 'when come',\n",
              " 'check nuerologist',\n",
              " 'lolnic I went fish water',\n",
              " 'congratul week competit draw u prize claim call b T Cs stop sm over ppm',\n",
              " 'No wait e car dat bore wat co wait outsid got noth At home stuff watch tv wat',\n",
              " 'mayb westshor hyde park villag place near hous',\n",
              " 'you know So anthoni are bring money I school fee pay rent stuff like that need help A friend need',\n",
              " 'what signific',\n",
              " 'your opinion over jada kusruthi lovabl silent spl charact not matur stylish simpl pl repli',\n",
              " 'latest g still scroung ammo want give new ak tri',\n",
              " 'prabha soryda reali frm heart sori',\n",
              " 'lol ok forgiven',\n",
              " 'No jst chang tat',\n",
              " 'you guarante latest nokia phone GB ipod MP player prize txt word collect No ibhltd ldnw H p mtmsgrcvd',\n",
              " 'S competit',\n",
              " 'boltblu tone p repli poli mono eg poli cha cha slide yeah slow jamz toxic come with Me stop tone txt more',\n",
              " 'your credit top http www bubbletext com your renew pin tgxxrz',\n",
              " 'that way transport less problemat sat night By way u want ask n join bday feel free but need know definit no book fri',\n",
              " 'usual person unconsci children adult may behav abnorm I call',\n",
              " 'but ebay might less elsewher',\n",
              " 'shall come get pickl',\n",
              " 'were gonna go get taco',\n",
              " 'that rude campu',\n",
              " 'urgent your mobil No award bonu caller prize thi nd attempt contact you call box QU',\n",
              " 'Hi b ard christma but enjoy n merri x ma',\n",
              " 'today offer claim ur worth discount voucher text ye savamob member offer mobil T Cs sub unsub repli X',\n",
              " 'ye how pretti ladi like singl',\n",
              " 'you reciev tone within next hr for term condit pleas see channel U teletext Pg',\n",
              " 'jay say doubl faggot',\n",
              " 'privat your account statement show un redeem S I M point call identifi code expir',\n",
              " 'what today sunday sunday holiday work',\n",
              " 'gudnit tc practic go',\n",
              " 'I late',\n",
              " 'I call thi hope l r malaria know miss guy I miss bani big pl give love especi have great day',\n",
              " 'good afternoon love how goe day I hope mayb got lead job I think boytoy send passion kiss across sea',\n",
              " 'probabl gonna see later tonight lt',\n",
              " 'Or mayb fat finger press button know',\n",
              " 'ummmmmaah mani mani happi return day dear sweet heart happi birthday dear',\n",
              " 'I tirupur da start offic call',\n",
              " 'www applausestor com monthlysubscript p msg max month T csc web age stop txt stop',\n",
              " 'A famou quot develop abil listen anyth uncondit without lose temper self confid mean marri',\n",
              " 'but go colleg pa what els ill come self Pa',\n",
              " 'oclock mine just bash flat plan',\n",
              " 'thi girl stay bed thi girl need recoveri time Id rather pass fun coop bed',\n",
              " 'then special',\n",
              " 'I know need get hotel I got invit apologis cali sweet come english bloke weddin',\n",
              " 'sorri took long omw',\n",
              " 'wait lt gt min',\n",
              " 'Ok give minut I think I see btw alibi you cut hair whole time',\n",
              " 'imagin final get sink bath I put pace mayb even eat I left but also imagin feel cage cock surround bath water remind alway own enjoy cuck',\n",
              " 'hurri I weed defici like three day',\n",
              " 'sure I get acknowledg astoundingli tactless gener faggi demand blood oath fo',\n",
              " 'Ok everi night take warm bath drink cup milk see work magic you still need loos weight just know',\n",
              " 'I look fri pan case cheap book perhap No silli fri pan like book',\n",
              " 'O well uv caus mutat sunscreen like essenti theseday',\n",
              " 'have lunch onlin',\n",
              " 'I know friend alreadi told',\n",
              " 'Hi princess thank pic you pretti how',\n",
              " 'aiyo U alway c ex one I dunno abt mei repli first time u repli fast Y lucki workin huh got bao ur sugardad ah gee',\n",
              " 'Hi msg offic',\n",
              " 'thanx e browni v nice',\n",
              " 'geeeee I love much I bare stand',\n",
              " 'gent We tri contact last weekend draw show prize guarante call claim code K valid hr ppm',\n",
              " 'fuck babe I miss alreadi know can let send money toward net I need I want I crave',\n",
              " 'ill call u mrw ninish address icki american freek wont stop callin bad jen k eh',\n",
              " 'oooh bed ridden ey what you think',\n",
              " 'So anyway go gym whatev love smile I hope ok good day babe I miss much alreadi',\n",
              " 'love daddi make scream pleasur I go slap ass dick',\n",
              " 'wot U wanna DO then missi',\n",
              " 'yar lor wait mum finish sch lunch lor I whole morn stay home clean room room quit clean hee',\n",
              " 'Do know lab goggl went',\n",
              " 'can open door',\n",
              " 'wait call',\n",
              " 'nope wait sch daddi',\n",
              " 'you cash prize To claim call',\n",
              " 'I tire argu week week Do want',\n",
              " 'wait sch finish ard',\n",
              " 'mobil number claim call us back ring claim hot line',\n",
              " 'arngd marriag u r walkin unfortuntli snake bite u bt love marriag danc frnt snake amp sayin bite bite',\n",
              " 'huh earli then dinner outsid izzit',\n",
              " 'Ok anyway need chang said',\n",
              " 'We tri contact repli offer min textand new video phone call repli free deliveri tomorrow',\n",
              " 'ex wife abl kid Do want kid one day',\n",
              " 'So scotland hope show jjc tendenc take care live dream',\n",
              " 'tell u headach want use hour sick time',\n",
              " 'I dun thk quit yet hmmm go jazz yogasana oso We go meet em lesson den',\n",
              " 'pete pleas ring meiv hardli gotani credit',\n",
              " 'Ya srsli better yi tho',\n",
              " 'I meet call later',\n",
              " 'for ur chanc win wkli shop spree txt shop T C www txt shop com custcar x p wk',\n",
              " 'you special select receiv pound award call befor line close cost ppm T Cs appli AG promo',\n",
              " 'privat your account statement show un redeem S I M point call identifi code expir',\n",
              " 'you still grand prix',\n",
              " 'I met stranger choos friend As long world stand friendship never end let friend forev gud nitz',\n",
              " 'I great how',\n",
              " 'gud mrng dear nice day',\n",
              " 'you import custom servic announc call freephon',\n",
              " 'will wa exhaust train morn too much wine pie you sleep well',\n",
              " 'I go buy mum present ar',\n",
              " 'mind blastin No tsunami occur rajnik stop swim indian ocean D',\n",
              " 'If u send home first ok lor I readi yet',\n",
              " 'speak cash yet',\n",
              " 'Be happi I come noon',\n",
              " 'meet lunch la',\n",
              " 'take care n get well soon',\n",
              " 'xclusiv clubsaisai morow soire special zouk with nichol from pari free rose all ladi info',\n",
              " 'I meant say cant wait see u get bore bridgwat banter',\n",
              " 'neva mind ok',\n",
              " 'It fine imma get drink somethin want come find',\n",
              " 'day kick for euro U kept date latest news result daili To remov send get txt stop',\n",
              " 'it valentin game send di msg ur friend If answer r someon realli love u que colour suit best rpli',\n",
              " 'I mani depend',\n",
              " 'thanx today cer IT wa nice catch UP but WE ave find more time more often OH well take care C U soon C',\n",
              " 'I call said choos futur',\n",
              " 'happi valentin day I know earli hundr handsom beauti wish So thought finish aunti uncl st',\n",
              " 'He like v shock leh co tell shuhui like tell leona also like dat almost know liao He got ask abt ur reaction lor',\n",
              " 'for famili happi',\n",
              " 'I come n pick come immedi aft ur lesson',\n",
              " 'let snow let snow thi kind weather bring ppl togeth friendship grow',\n",
              " 'dear got lt gt dollar hi hi',\n",
              " 'good word but word may leav u dismay mani time',\n",
              " 'make sure alex know hi birthday IS over IN fifteen minut AS far AS you RE concern',\n",
              " 'sorri got thing may pub later',\n",
              " 'nah straight bring bud drink someth actual littl use straight cash',\n",
              " 'haha good hear I offici paid market th',\n",
              " 'how mani lick take get center tootsi pop',\n",
              " 'yup thk r e teacher said make face look longer darren ask cut short',\n",
              " 'new textbuddi chat horni guy ur area p free receiv search postcod gaytextbuddi com txt one name',\n",
              " 'today vodafon number end select receiv award If number match call receiv award',\n",
              " 'pleas dont say like Hi hi hi',\n",
              " 'thank u',\n",
              " 'Oh forward messag I thought send',\n",
              " 'got seventeen pound seven hundr ml hope ok',\n",
              " 'dear voucher holder claim week offer PC go http www e tlp co uk expressoff Ts Cs appli stop text txt stop',\n",
              " 'Me n funni',\n",
              " 'sweetheart hope kind day have one load reason smile biola',\n",
              " 'when login dat time dad fetch home',\n",
              " 'what shower babi',\n",
              " 'I askd u question hour it answer',\n",
              " 'well imma definit need restock thanksgiv I let know I',\n",
              " 'said kiss kiss sound effect He gorgeou man kind person need smile brighten day',\n",
              " 'probabl gonna swing wee bit',\n",
              " 'Ya nice readi thursday',\n",
              " 'allo We brave buse taken train triumph I mean b ham have jolli good rest week',\n",
              " 'watch cartoon listen music amp eve go templ amp church what u',\n",
              " 'Do mind I ask happen you dont say uncomfort',\n",
              " 'privat your account statement show un redeem S I M point call identifi code expir',\n",
              " 'No prob I send email',\n",
              " 'you cash prize To claim call T C rstm SW SS ppm',\n",
              " 'that cool sometim slow gentl sonetim rough hard',\n",
              " 'I gonna say sorri I would normal start panic time sorri are see tuesday',\n",
              " 'wait know wesley town I bet hella drug',\n",
              " 'fine miss much',\n",
              " 'did u got person stori',\n",
              " 'tell drug dealer get impati',\n",
              " 'sun cant come earth send luv ray cloud cant come river send luv rain I cant come meet U send care msg U gud evng',\n",
              " 'you place man',\n",
              " 'It doesnt make sens take unless free If need know wikipedia com',\n",
              " 'premium phone servic call',\n",
              " 'under sea lay rock In rock envelop In envelop paper On paper word',\n",
              " 'then mum repent',\n",
              " 'sorri go home first daddi come fetch later',\n",
              " 'leav de start prepar next',\n",
              " 'ye babi We studi posit kama sutra',\n",
              " 'En chikku nang bakra msg kalstiya tea coffe',\n",
              " 'carlo minut still need buy',\n",
              " 'thi pay lt decim gt lakh',\n",
              " 'have good even ttyl',\n",
              " 'did u receiv msg',\n",
              " 'Ho ho big belli laugh see ya tomo',\n",
              " 'sm ac sun post hello you seem cool want say hi HI stop send stop',\n",
              " 'get ur st rington free now repli msg tone Gr top tone phone everi week per wk opt send stop',\n",
              " 'ditto and worri say anyth anymor like said last night whatev want peac',\n",
              " 'I got lt gt way I could pick',\n",
              " 'I dont knw pa drink milk',\n",
              " 'mayb say hi find got card great escap wetherspoon',\n",
              " 'piggi r u awak I bet u still sleep I go lunch',\n",
              " 'caus I freaki lol',\n",
              " 'miss call caus I yell scrappi miss u can wait u come home I lone today',\n",
              " 'what hex place talk explain',\n",
              " 'log wat It sdryb',\n",
              " 'Is xy go e lunch',\n",
              " 'Hi I sue I year old work lapdanc I love sex text live I bedroom text sue By textoper G DA ppmsg',\n",
              " 'I want ask wait finish lect co lect finish hour anyway',\n",
              " 'have finish work yet',\n",
              " 'everi king wa onc A cri babi and everi great build wa onc A map not imprtant where U r today but where U wil reach tomorw gud ni',\n",
              " 'dear Me cherthala case u r come cochin pl call bfore u start shall also reach accordingli tell day u r come tmorow engag an holiday',\n",
              " 'thank love but torch bold',\n",
              " 'forward pleas call immedi urgent messag wait',\n",
              " 'wa farm open',\n",
              " 'sorri troubl u can buy dad all big small sat n sun thanx',\n",
              " 'My sister law hope great month just say hey abiola',\n",
              " 'will purchas stuff today mail Do po box number',\n",
              " 'Ah poop look like ill prob send laptop get fix cuz gpu problem',\n",
              " 'good good job I like entrepreneur',\n",
              " 'aight close still around alex place',\n",
              " 'meet corpor st outsid gap see mind work',\n",
              " 'mum ask buy food home',\n",
              " 'K u also dont msg repli msg',\n",
              " 'how much r will pay',\n",
              " 'sorri I call later',\n",
              " 'what import prevent dehydr give enough fluid',\n",
              " 'that bit weird even suppos happen but good idea sure pub',\n",
              " 'true dear sat pray even felt sm time',\n",
              " 'I think I get away trek long famili town sorri',\n",
              " 'So wanna gym harri',\n",
              " 'quit late lar ard anyway wun b drivin',\n",
              " 'To review keep fantast nokia N gage game deck club nokia go www cnupdat com newslett unsubscrib alert repli word out',\n",
              " 'mth half price orang line rental latest camera phone free had phone mth call mobilesdirect free updat stoptxt T Cs',\n",
              " 'height confid all aeronaut professor wer calld amp wer askd sit aeroplan aftr sat wer told dat plane ws made student dey hurri plane Bt didnt move He said made student wont even start datz confid',\n",
              " 'It seem like weird time night g want come smoke day shitstorm attribut alway come make everyon smoke',\n",
              " 'pm cost p',\n",
              " 'save stress If person dorm account send account detail money sent',\n",
              " 'He also know lunch menu da I know',\n",
              " 'when stuff sell tell',\n",
              " 'urgent thi nd attempt contact U U won call b T csbcm WC N XX callcost ppm mobilesvari max',\n",
              " 'book lesson msg I call work sth I go get spec My membership PX',\n",
              " 'you won guarante cash prize To claim yr prize call custom servic repres pm',\n",
              " 'macha dont feel upset assum mindset believ one even wonder plan us let life begin again call anytim',\n",
              " 'Oh send address',\n",
              " 'S fine anytim all best',\n",
              " 'that wondar full flim',\n",
              " 'Ya even cooki jelli',\n",
              " 'the world run still mayb feel admit mad correct let call life keep run world may u r also run let run',\n",
              " 'got It look scrumptiou daddi want eat night long',\n",
              " 'Of co lar ba dao ok pm lor Y u never ask go ah I said u would ask fri said u ask today',\n",
              " 'alright omw gotta chang order half th',\n",
              " 'exactli anyway far Is jide studi visit',\n",
              " 'dunno u ask',\n",
              " 'email alertfrom jeri stewarts kbsubject low cost prescripiton drvgsto listen email call',\n",
              " 'No spring come earli yay',\n",
              " 'lol feel bad I use money take steak dinner D',\n",
              " 'even u dont get troubl convinc tel twice tel neglect msg dont c read dont repli',\n",
              " 'leav qatar tonit search opportun went fast pl add ur prayer dear rakhesh',\n",
              " 'then one talk',\n",
              " 'thank look I realli appreci',\n",
              " 'Hi custom loyalti offer the new nokia mobil onli txtauction txt word start No get now T ctxt TC p mtmsg',\n",
              " 'wish',\n",
              " 'haha mayb u rite U know well Da feel like someon gd lor U faster go find one gal group attach liao',\n",
              " 'ye glad made',\n",
              " 'Do well littl time thing good time ahead',\n",
              " 'just got room soon put clock back til shout everyon get realis wahay anoth hour bed',\n",
              " 'Ok there may free gym',\n",
              " 'men like shorter ladi gaze eye',\n",
              " 'dunno ju say go lido same time',\n",
              " 'I promis take good care princess I run pleas send pic get chanc ttyl',\n",
              " 'U subscrib best mobil content servic UK per day send stop helplin',\n",
              " 'Is reason spoken year anyway great week best exam',\n",
              " 'By monday next week give full gist',\n",
              " 'Do realiz year thousand old ladi run around tattoo',\n",
              " 'you import custom servic announc premier',\n",
              " 'dont gimm lip caveboy',\n",
              " 'when get librari',\n",
              " 'reali sorri recognis number confus r u pleas',\n",
              " 'So didnt holla',\n",
              " 'cant think anyon spare room top head',\n",
              " 'faith make thing possibl hope make thing work love make thing beauti may three christma merri christma',\n",
              " 'U made appoint',\n",
              " 'call carlo phone vibrat act I might hear text',\n",
              " 'romant pari night flight book next year call Ts Cs appli',\n",
              " 'We grandma Oh dear u still ill I felt shit morn think hungov anoth night We leav sat',\n",
              " 'urgent Ur guarante award still unclaim call now closingd claimcod M M pmmorefrommobil bremov mobypobox LS YF',\n",
              " 'noth ju tot u would ask co u ba gua but went mt faber yest yest ju went alreadi mah today go ju call lor',\n",
              " 'wish famili merri X ma happi new year advanc',\n",
              " 'UR award citi break could win summer shop spree everi WK txt store skilgm tsc winawk age perwksub',\n",
              " 'I nt goin got somethin unless meetin dinner lor haha wonder go ti time',\n",
              " 'sorri I call later',\n",
              " 'I cant pick phone right pl send messag',\n",
              " 'lol I know they dramat school alreadi close tomorrow appar drive inch snow suppos get',\n",
              " 'not get anywher damn job hunt',\n",
              " 'lol U drunkard just hair moment yeah still tonight wat plan',\n",
              " 'idc get weasel way shit twice row',\n",
              " 'I wil lt gt minut got space',\n",
              " 'just sleep surf',\n",
              " 'thank pick trash',\n",
              " 'whi go tell friend sure want live smoke much spend hour beg come smoke',\n",
              " 'Hi kate love see tonight ill phone tomorrow I got sing guy gave card xxx',\n",
              " 'happi new year dear brother I realli miss just got number decid send text wish happi abiola',\n",
              " 'that mean get door',\n",
              " 'your opinion over jada kusruthi lovabl silent spl charact not matur stylish simpl pl repli',\n",
              " 'hmmm I thought said hour slave you late how I punish',\n",
              " 'beerag',\n",
              " 'you import custom servic announc premier call freephon',\n",
              " 'dont think It turn like randomlli within min open',\n",
              " 'she suppos make still town though',\n",
              " 'It most time fix spell but sometim get complet diff word Go figur',\n",
              " 'ever thought live good life perfect partner just txt back name age join mobil commun p sm',\n",
              " 'free top polyphon tone call nation rate get toppoli tune sent everi week text subpoli per pole unsub',\n",
              " 'gud mrng dear hav nice day',\n",
              " 'thi hope enjoy game yesterday sorri touch pl know fondli bein thot have great week abiola',\n",
              " 'all e best ur drive tmr',\n",
              " 'Y where U AT dogbreath it just sound like jan C that S AL',\n",
              " 'omg I want scream I weigh I lost weight woohoo',\n",
              " 'there gener one It uncount noun u dictionari piec research',\n",
              " 'realli get hang around',\n",
              " 'orang custom may claim free camera phone upgrad loyalti call offer end thmarch T C appli opt availa',\n",
              " 'petey boy wherear friendsar thekingshead come canlov nic',\n",
              " 'Ok msg u b leav hous',\n",
              " 'gimm lt gt minut ago',\n",
              " 'last chanc claim ur worth discount voucher today text shop savamob offer mobil T Cs savamob pobox M UZ sub',\n",
              " 'appt lt time gt not fault u listen I told u twice',\n",
              " 'free st week No nokia tone ur mobil everi week txt nokia get txting tell ur mate www getz co uk pobox W WQ norm p tone',\n",
              " 'you guarante award even cashto claim UR award call free stop getstop php RG JX',\n",
              " 'K I',\n",
              " 'I dled imp',\n",
              " 'sure make sure know smokin yet',\n",
              " 'boooo alway work just quit',\n",
              " 'I take half day leav bec well',\n",
              " 'ugh I wanna get bed It warm',\n",
              " 'S nervou lt gt',\n",
              " 'So ring come guy costum It gift futur yowif hint hint',\n",
              " 'congratul ur award either CD gift voucher free entri weekli draw txt music tnc www ldew com win ppmx age',\n",
              " 'I borrow ur bag ok',\n",
              " 'U outbid simonwatson shinco dvd plyr bid visit sm ac smsreward end bid notif repli end out',\n",
              " 'where boytoy I miss what happen',\n",
              " 'He lot use one babe model help youi bring match',\n",
              " 'also bring galileo dobbi',\n",
              " 'then respond',\n",
              " 'boo babe U enjoyin yourjob U seem B gettin ON well hunni hope ure OK take care I llspeak U soonlot OF lovem xxxx',\n",
              " 'good afternoon starshin how boytoy doe crave yet ach fuck sip cappuccino I miss babe teas kiss',\n",
              " 'On road cant txt',\n",
              " 'smsservic yourinclus text credit pl goto www comuk net login qxj unsubscrib stop extra charg help comuk CM AE',\n",
              " 'p alfi moon children need song ur mob tell ur txt tone chariti nokia poli chariti poli zed profit chariti',\n",
              " 'have good even ttyl',\n",
              " 'hmm bit piec lol sigh',\n",
              " 'hahaha use brain dear',\n",
              " 'hey you got mail',\n",
              " 'sorri light turn green I meant anoth friend want lt gt worth may around',\n",
              " 'thank yesterday sir you wonder hope enjoy burial mojibiola',\n",
              " 'U secret admir reveal think U R So special call To opt repli reveal stop per msg recd cust care',\n",
              " 'Hi mate RV u hav nice hol messag say hello coz sent u age start drive stay road rvx',\n",
              " 'dear voucher holder To claim week offer PC pleas go http www e tlp co uk expressoff Ts Cs appli To stop text txt stop',\n",
              " 'thank much when skype wit kz sura didnt get pleasur compani hope good We given ultimatum oh We countin aburo enjoy thi messag sent day ago',\n",
              " 'sure result offer',\n",
              " 'good morn dear have great amp success day',\n",
              " 'Do want anytim network min text new video phone five pound per week call repli deliveri tomorrow',\n",
              " 'sir I late pay rent past month pay lt gt charg I felt would inconsider nag someth give great cost didnt speak I howev recess wont abl pay charg month henc askin well ahead month end can pleas help thank',\n",
              " 'We tri contact offer new video phone anytim network min half price rental camcord call repli deliveri wed',\n",
              " 'last chanc claim ur worth discount voucher text ye savamob member offer mobil T Cs sub remov txt X stop',\n",
              " 'I luv u soo much u understand special u r ring u morrow luv u xxx',\n",
              " 'pl send comprehens mail pay much',\n",
              " 'our prashanthettan mother pass away last night pray famili',\n",
              " 'urgent call landlin your complimentari ibiza holiday cash await collect sae T Cs PO box SK WP ppm',\n",
              " 'K k go',\n",
              " 'meanwhil shit suit xavier decid give us lt gt second warn samantha come play jay guitar impress shit also I think doug realiz I live anymor',\n",
              " 'My stomach thru much trauma I swear I eat I better lose weight',\n",
              " 'I offic what matter msg call break',\n",
              " 'yeah bare enough room two us x mani fuck shoe sorri man see later',\n",
              " 'today offer claim ur worth discount voucher text ye savamob member offer mobil T Cs sub unsub repli X',\n",
              " 'U reach orchard alreadi U wan go buy ticket first',\n",
              " 'I real babi I want bring inner tigress',\n",
              " 'No da run activ full version da',\n",
              " 'AH poor babi hope urfeel bettersn luv probthat overdos OF work hey GO care spk U SN lot OF lovejen xxx',\n",
              " 'stop stori I told return say order',\n",
              " 'talk sexi make new friend fall love world discreet text date servic just text vip see could meet',\n",
              " 'go take babe',\n",
              " 'hai ana tomarrow come morn lt decim gt ill sathi go rto offic repli came home',\n",
              " 'spoon okay',\n",
              " 'did say somebodi name tampa',\n",
              " 'In work go min',\n",
              " 'your brother geniu',\n",
              " 'sorri I guess whenev I get hold connect mayb hour two I text',\n",
              " 'did u find time bu coz need sort stuff',\n",
              " 'dude ive see lotta corvett late',\n",
              " 'congratul ur award either yr suppli cd virgin record mysteri gift guarante call Ts Cs www smsco net pm approx min',\n",
              " 'same I consid wall bunker shit import I never play peac I guess place high enough matter',\n",
              " 'privat your account statement xxxxxx show un redeem S I M point call identifi code expir',\n",
              " 'hello We need posh bird chap user trial prod champney can put I need address dob asap Ta r',\n",
              " 'what U want xma how free text messag new video phone half price line rental call free find',\n",
              " 'well offici philosoph hole u wanna call home readi save',\n",
              " 'it go good problem still need littl experi understand american custom voic',\n",
              " 'I text I drop x',\n",
              " 'ugh long day I exhaust just want cuddl take nap',\n",
              " 'talk with yourself atleast onc In A day otherwis you will miss your best friend In thi world shakespear shesil lt gt',\n",
              " 'shop till u drop IS IT you either K K cash travel voucher call ntt PO box CR BT fixedlin cost ppm mobil vari',\n",
              " 'are castor you need see someth',\n",
              " 'sunshin quiz wkli Q win top soni dvd player u know countri liverpool play mid week txt ansr SP tyron',\n",
              " 'U secret admir look make contact U find R reveal think UR special call',\n",
              " 'U secret admir look make contact U find R reveal think UR special call stopsm',\n",
              " 'remind you download content alreadi paid goto http doit mymobi tv collect content',\n",
              " 'see knew give break time woul lead alway want miss curfew I gonna gibe til one midnight movi gonna get til you need come home you need getsleep anyth need b studdi ear train',\n",
              " 'I love give massag I use lot babi oil what fave posit',\n",
              " 'dude go sup',\n",
              " 'yoyyooo u know chang permiss drive mac My usb flash drive',\n",
              " 'gibb unsold mike hussey',\n",
              " 'I like talk pa abl I dont know',\n",
              " 'Y dun cut short leh U dun like ah she fail she quit sad',\n",
              " 'you unbeliev faglord',\n",
              " 'wife knew time murder exactli',\n",
              " 'whi ask princess',\n",
              " 'I great princess what think',\n",
              " 'nutter cutter ctter cttergg cttargg ctargg ctagg ie',\n",
              " 'It ok noe u busi realli bore msg u I oso dunno wat colour choos one',\n",
              " 'doesn g class earli tomorrow thu tri smoke lt gt',\n",
              " 'superb thought Be grate u dont everyth u want that mean u still opportun happier tomorrow u today',\n",
              " 'hope good week just check',\n",
              " 'I use I hope agent drop sinc book thing year thi whole boston nyc experi',\n",
              " 'thursday night yeah sure thing work',\n",
              " 'your free rington wait collect simpli text password mix verifi get usher britney fml PO box MK H ppw',\n",
              " 'probabl money worri thing come due sever outstand invoic work two three month ago',\n",
              " 'how possibl teach and',\n",
              " 'I wonder phone batteri went dead I tell I love babe',\n",
              " 'love smell bu tobacco',\n",
              " 'We get worri derek taylor alreadi assum worst',\n",
              " 'hey charl sorri late repli',\n",
              " 'lastest stereophon marley dizze racal libertin the stroke win nookii game flirt click themob wap bookmark text wap',\n",
              " 'I give plu said grinul greet whenev speak',\n",
              " 'white fudg oreo are IN store',\n",
              " 'januari male sale hot gay chat cheaper call nation rate p min cheap p min peak To stop text call p min',\n",
              " 'My love how come took long leav zaher I got word ym happi see sad left I miss',\n",
              " 'I sorri hurt',\n",
              " 'can I feel nauseou I piss I eat sweet week caus today I plan pig I diet week and I hungri',\n",
              " 'Ok lor earli Me still project meet',\n",
              " 'call da wait call',\n",
              " 'I could ask carlo could get anybodi els chip',\n",
              " 'wa actual send remind today have wonder weekend',\n",
              " 'when peopl see msg they think iam addict msging they wrong bcoz they know iam addict sweet friend bslvyl',\n",
              " 'hey gave photo regist drive ah tmr wanna meet yck',\n",
              " 'dont talk ever ok word',\n",
              " 'when u wana see',\n",
              " 'On way school can pl send ashley number',\n",
              " 'It shall fine I avalarr will hollalat',\n",
              " 'she went attend anoth two round today still reach home',\n",
              " 'actual delet old websit blog magicalsong blogspot com',\n",
              " 'K wait chikku il send aftr lt gt min',\n",
              " 'but I diet and I ate mani slice pizza yesterday ugh I alway diet',\n",
              " 'K give kvb acc detail',\n",
              " 'Oh come ah',\n",
              " 'money r lucki winner claim prize text money million give away ppt x normal text rate box w jy',\n",
              " 'I realli sorri b abl friday hope u find altern hope yr term go ok',\n",
              " 'congratul ore mo owo wa enjoy wish mani happi moment fro wherev go',\n",
              " 'So samu shoulder yet',\n",
              " 'what time think need know I near campu',\n",
              " 'dear matthew pleas call landlin complimentari lux tenerif holiday cash await collect ppm sae T Cs box SK XH',\n",
              " 'then dun wear jean lor',\n",
              " 'sinc side fever vomitin',\n",
              " 'K k colleg',\n",
              " 'urgent call landlin your complimentari tenerif holiday cash await collect sae T Cs box HP YF ppm',\n",
              " 'better made friday stuf like pig yesterday now I feel bleh but least writh pain kind bleh',\n",
              " 'No sell ton coin then sell coin someon thru paypal voila money back life pocket',\n",
              " 'theyr lot place onli hospit medic place safe',\n",
              " 'how get touch folk wait compani just txt back name age opt enjoy commun p sm',\n",
              " 'and also I sorta blown coupl time recent id rather text blue look weed',\n",
              " 'I sent score sopha secondari applic school I think think appli research cost also contact joke ogunrind school one less expens one',\n",
              " 'I cant wait see how photo use',\n",
              " 'Ur cash balanc current pound maxim ur cash send GO p msg CC PO box tcr W',\n",
              " 'hey book kb sat alreadi lesson go ah keep sat night free need meet confirm lodg',\n",
              " 'chk ur belovd ms dict',\n",
              " 'Is time want come',\n",
              " 'awesom lemm know whenev around',\n",
              " 'shb b ok lor thanx',\n",
              " 'beauti truth graviti read care our heart feel light someon but feel heavi someon leav good night',\n",
              " 'also rememb get dobbi bowl car',\n",
              " 'filthi stori girl wait',\n",
              " 'sorri c ur msg yar lor poor thing but one night tmr u brand new room sleep',\n",
              " 'love decis feel If could decid love life would much simpler less magic',\n",
              " 'welp appar retir',\n",
              " 'My sort code acc the bank natwest can repli confirm sent right person',\n",
              " 'where',\n",
              " 'U sure u take sick time',\n",
              " 'urgent We tri contact U today draw show prize guarante call land line claim M valid hr',\n",
              " 'watch cartoon listen music amp eve go templ amp church what u',\n",
              " 'Yo chad gymnast class wanna take the site say christian class full',\n",
              " 'are much buzi',\n",
              " 'Or better still catch let ask sell lt gt',\n",
              " 'I sure night menu I know noon menu',\n",
              " 'what u want come back beauti necklac token heart that give onli MY wife OF MY like BE that and see NO one give dont call wait till come',\n",
              " 'are will go aptitud class',\n",
              " 'It wont b tri sort hous ok',\n",
              " 'yar lor wan go c hors race today mah eat earlier lor I ate chicken rice U',\n",
              " 'haha awesom omw back',\n",
              " 'yup thk e shop close lor',\n",
              " 'account number',\n",
              " 'Eh u send wrongli lar',\n",
              " 'hey I ad crap nite borin without ya boggi u bore biatch thanx u wait til nxt time il ave ya',\n",
              " 'Ok shall talk',\n",
              " 'dont hesit you know second time weak like So keep notebook eat day anyth chang day sure noth',\n",
              " 'hey pay with salari de onli lt gt',\n",
              " 'anoth month I need chocol weed alcohol',\n",
              " 'If start search get job day great potenti talent',\n",
              " 'reckon need town eightish walk carpark',\n",
              " 'congrat mobil G videophon R call videochat wid mate play java game dload polyph music nolin rentl',\n",
              " 'look AT the fuckin time what the fuck you think IS UP',\n",
              " 'Yo guess I drop',\n",
              " 'carlo say mu lt gt minut',\n",
              " 'I offic I call lt gt min',\n",
              " 'geeee I miss alreadi know your I think fuck I wait till next year togeth love kiss',\n",
              " 'yun ah ubi one say wan call tomorrow call look iren ere got bu ubi cre ubi tech park ph st wkg day n',\n",
              " 'ugh gotta drive back sd la My butt sore',\n",
              " 'th OF juli',\n",
              " 'Hi im relax time ever get everi day parti good night I get home tomorrow ish',\n",
              " 'Up wan come come lor but din c stripe skirt',\n",
              " 'the xma stori peac the xma msg love the xma miracl jesu hav bless month ahead amp wish U merri xma',\n",
              " 'I I number',\n",
              " 'chang It e one next escal',\n",
              " 'yetund class run water make ok pl',\n",
              " 'not lot happen feel quiet beth aunt charli work lot just helen mo how',\n",
              " 'then wait bu stop aft ur lect lar If dun c go get car come back n pick',\n",
              " ...]"
            ]
          },
          "metadata": {
            "tags": []
          },
          "execution_count": 668
        }
      ]
    },
    {
      "cell_type": "markdown",
      "metadata": {
        "id": "cvXbpTFSl2Ub"
      },
      "source": [
        "Tokenization"
      ]
    },
    {
      "cell_type": "code",
      "metadata": {
        "id": "AXu9uTALj5Jk"
      },
      "source": [
        "from sklearn.feature_extraction.text import CountVectorizer\n",
        "countvectorizer =CountVectorizer()"
      ],
      "execution_count": null,
      "outputs": []
    },
    {
      "cell_type": "code",
      "metadata": {
        "id": "JYYl2zyMj-wz"
      },
      "source": [
        "x = countvectorizer.fit_transform(corpus).toarray()"
      ],
      "execution_count": null,
      "outputs": []
    },
    {
      "cell_type": "markdown",
      "metadata": {
        "id": "FcbLwyaOmCi5"
      },
      "source": [
        "Now we have a numeric vector that has been converted from a string of text."
      ]
    },
    {
      "cell_type": "code",
      "metadata": {
        "colab": {
          "base_uri": "https://localhost:8080/"
        },
        "id": "YRl_scxLj_7s",
        "outputId": "0f2e3acc-663b-46d7-e4cd-71455d679f88"
      },
      "source": [
        "x.shape"
      ],
      "execution_count": null,
      "outputs": [
        {
          "output_type": "execute_result",
          "data": {
            "text/plain": [
              "(5572, 6379)"
            ]
          },
          "metadata": {
            "tags": []
          },
          "execution_count": 671
        }
      ]
    },
    {
      "cell_type": "code",
      "metadata": {
        "colab": {
          "base_uri": "https://localhost:8080/"
        },
        "id": "CAHwtXYakG6U",
        "outputId": "b66ba760-400d-4e21-85e8-08db9f7089ef"
      },
      "source": [
        "y=dataset[0].values\n",
        "y"
      ],
      "execution_count": null,
      "outputs": [
        {
          "output_type": "execute_result",
          "data": {
            "text/plain": [
              "array(['ham', 'ham', 'spam', ..., 'ham', 'ham', 'ham'], dtype=object)"
            ]
          },
          "metadata": {
            "tags": []
          },
          "execution_count": 672
        }
      ]
    },
    {
      "cell_type": "markdown",
      "metadata": {
        "id": "l6rZRza9mGZJ"
      },
      "source": [
        "Divide data into train and test randomly using a train-test split in the ratio of 70:30.\n",
        "\n"
      ]
    },
    {
      "cell_type": "code",
      "metadata": {
        "id": "oaaogoYgkNyk"
      },
      "source": [
        "from sklearn.model_selection import train_test_split\n",
        "x_train,x_test,y_train,y_test = train_test_split(x,y,test_size = 0.3, stratify=y,random_state=100)"
      ],
      "execution_count": null,
      "outputs": []
    },
    {
      "cell_type": "markdown",
      "metadata": {
        "id": "ds4YrkbfmKIJ"
      },
      "source": [
        "**Multinomial Naive Bayes**"
      ]
    },
    {
      "cell_type": "code",
      "metadata": {
        "colab": {
          "base_uri": "https://localhost:8080/"
        },
        "id": "kLn6UQnkkRbY",
        "outputId": "3f90faaf-60af-4387-b1e1-f567e0af92de"
      },
      "source": [
        "from sklearn.naive_bayes import MultinomialNB\n",
        "multinomialnb = MultinomialNB()\n",
        "multinomialnb.fit(x_train,y_train)"
      ],
      "execution_count": null,
      "outputs": [
        {
          "output_type": "execute_result",
          "data": {
            "text/plain": [
              "MultinomialNB(alpha=1.0, class_prior=None, fit_prior=True)"
            ]
          },
          "metadata": {
            "tags": []
          },
          "execution_count": 674
        }
      ]
    },
    {
      "cell_type": "code",
      "metadata": {
        "colab": {
          "base_uri": "https://localhost:8080/"
        },
        "id": "1-SuOaHvkU8i",
        "outputId": "6c9e1ca6-71a1-4261-fe08-7eb9a18575ca"
      },
      "source": [
        "y_pred = multinomialnb.predict(x_test)\n",
        "y_pred"
      ],
      "execution_count": null,
      "outputs": [
        {
          "output_type": "execute_result",
          "data": {
            "text/plain": [
              "array(['ham', 'ham', 'ham', ..., 'spam', 'ham', 'ham'], dtype='<U4')"
            ]
          },
          "metadata": {
            "tags": []
          },
          "execution_count": 675
        }
      ]
    },
    {
      "cell_type": "code",
      "metadata": {
        "colab": {
          "base_uri": "https://localhost:8080/"
        },
        "id": "bzFQGVrBkhbP",
        "outputId": "e80eb402-ac84-48af-954d-e356728ae3e6"
      },
      "source": [
        "from sklearn.metrics import accuracy_score\n",
        "from sklearn.metrics import classification_report, confusion_matrix\n",
        "\n",
        "print(classification_report(y_test,y_pred))\n",
        "accuracy_score(y_test,y_pred)"
      ],
      "execution_count": null,
      "outputs": [
        {
          "output_type": "stream",
          "text": [
            "              precision    recall  f1-score   support\n",
            "\n",
            "         ham       0.99      0.98      0.99      1448\n",
            "        spam       0.89      0.94      0.92       224\n",
            "\n",
            "    accuracy                           0.98      1672\n",
            "   macro avg       0.94      0.96      0.95      1672\n",
            "weighted avg       0.98      0.98      0.98      1672\n",
            "\n"
          ],
          "name": "stdout"
        },
        {
          "output_type": "execute_result",
          "data": {
            "text/plain": [
              "0.9766746411483254"
            ]
          },
          "metadata": {
            "tags": []
          },
          "execution_count": 676
        }
      ]
    },
    {
      "cell_type": "markdown",
      "metadata": {
        "id": "uXq2biI2lOcX"
      },
      "source": [
        "#Q2"
      ]
    },
    {
      "cell_type": "code",
      "metadata": {
        "colab": {
          "base_uri": "https://localhost:8080/"
        },
        "id": "NJQkQP3EmR2p",
        "outputId": "aeff59ce-e26f-4ab7-8bd8-b5f9054f67ec"
      },
      "source": [
        "from sklearn import datasets\n",
        "dataset=datasets.load_iris()\n",
        "dataset"
      ],
      "execution_count": null,
      "outputs": [
        {
          "output_type": "execute_result",
          "data": {
            "text/plain": [
              "{'DESCR': '.. _iris_dataset:\\n\\nIris plants dataset\\n--------------------\\n\\n**Data Set Characteristics:**\\n\\n    :Number of Instances: 150 (50 in each of three classes)\\n    :Number of Attributes: 4 numeric, predictive attributes and the class\\n    :Attribute Information:\\n        - sepal length in cm\\n        - sepal width in cm\\n        - petal length in cm\\n        - petal width in cm\\n        - class:\\n                - Iris-Setosa\\n                - Iris-Versicolour\\n                - Iris-Virginica\\n                \\n    :Summary Statistics:\\n\\n    ============== ==== ==== ======= ===== ====================\\n                    Min  Max   Mean    SD   Class Correlation\\n    ============== ==== ==== ======= ===== ====================\\n    sepal length:   4.3  7.9   5.84   0.83    0.7826\\n    sepal width:    2.0  4.4   3.05   0.43   -0.4194\\n    petal length:   1.0  6.9   3.76   1.76    0.9490  (high!)\\n    petal width:    0.1  2.5   1.20   0.76    0.9565  (high!)\\n    ============== ==== ==== ======= ===== ====================\\n\\n    :Missing Attribute Values: None\\n    :Class Distribution: 33.3% for each of 3 classes.\\n    :Creator: R.A. Fisher\\n    :Donor: Michael Marshall (MARSHALL%PLU@io.arc.nasa.gov)\\n    :Date: July, 1988\\n\\nThe famous Iris database, first used by Sir R.A. Fisher. The dataset is taken\\nfrom Fisher\\'s paper. Note that it\\'s the same as in R, but not as in the UCI\\nMachine Learning Repository, which has two wrong data points.\\n\\nThis is perhaps the best known database to be found in the\\npattern recognition literature.  Fisher\\'s paper is a classic in the field and\\nis referenced frequently to this day.  (See Duda & Hart, for example.)  The\\ndata set contains 3 classes of 50 instances each, where each class refers to a\\ntype of iris plant.  One class is linearly separable from the other 2; the\\nlatter are NOT linearly separable from each other.\\n\\n.. topic:: References\\n\\n   - Fisher, R.A. \"The use of multiple measurements in taxonomic problems\"\\n     Annual Eugenics, 7, Part II, 179-188 (1936); also in \"Contributions to\\n     Mathematical Statistics\" (John Wiley, NY, 1950).\\n   - Duda, R.O., & Hart, P.E. (1973) Pattern Classification and Scene Analysis.\\n     (Q327.D83) John Wiley & Sons.  ISBN 0-471-22361-1.  See page 218.\\n   - Dasarathy, B.V. (1980) \"Nosing Around the Neighborhood: A New System\\n     Structure and Classification Rule for Recognition in Partially Exposed\\n     Environments\".  IEEE Transactions on Pattern Analysis and Machine\\n     Intelligence, Vol. PAMI-2, No. 1, 67-71.\\n   - Gates, G.W. (1972) \"The Reduced Nearest Neighbor Rule\".  IEEE Transactions\\n     on Information Theory, May 1972, 431-433.\\n   - See also: 1988 MLC Proceedings, 54-64.  Cheeseman et al\"s AUTOCLASS II\\n     conceptual clustering system finds 3 classes in the data.\\n   - Many, many more ...',\n",
              " 'data': array([[5.1, 3.5, 1.4, 0.2],\n",
              "        [4.9, 3. , 1.4, 0.2],\n",
              "        [4.7, 3.2, 1.3, 0.2],\n",
              "        [4.6, 3.1, 1.5, 0.2],\n",
              "        [5. , 3.6, 1.4, 0.2],\n",
              "        [5.4, 3.9, 1.7, 0.4],\n",
              "        [4.6, 3.4, 1.4, 0.3],\n",
              "        [5. , 3.4, 1.5, 0.2],\n",
              "        [4.4, 2.9, 1.4, 0.2],\n",
              "        [4.9, 3.1, 1.5, 0.1],\n",
              "        [5.4, 3.7, 1.5, 0.2],\n",
              "        [4.8, 3.4, 1.6, 0.2],\n",
              "        [4.8, 3. , 1.4, 0.1],\n",
              "        [4.3, 3. , 1.1, 0.1],\n",
              "        [5.8, 4. , 1.2, 0.2],\n",
              "        [5.7, 4.4, 1.5, 0.4],\n",
              "        [5.4, 3.9, 1.3, 0.4],\n",
              "        [5.1, 3.5, 1.4, 0.3],\n",
              "        [5.7, 3.8, 1.7, 0.3],\n",
              "        [5.1, 3.8, 1.5, 0.3],\n",
              "        [5.4, 3.4, 1.7, 0.2],\n",
              "        [5.1, 3.7, 1.5, 0.4],\n",
              "        [4.6, 3.6, 1. , 0.2],\n",
              "        [5.1, 3.3, 1.7, 0.5],\n",
              "        [4.8, 3.4, 1.9, 0.2],\n",
              "        [5. , 3. , 1.6, 0.2],\n",
              "        [5. , 3.4, 1.6, 0.4],\n",
              "        [5.2, 3.5, 1.5, 0.2],\n",
              "        [5.2, 3.4, 1.4, 0.2],\n",
              "        [4.7, 3.2, 1.6, 0.2],\n",
              "        [4.8, 3.1, 1.6, 0.2],\n",
              "        [5.4, 3.4, 1.5, 0.4],\n",
              "        [5.2, 4.1, 1.5, 0.1],\n",
              "        [5.5, 4.2, 1.4, 0.2],\n",
              "        [4.9, 3.1, 1.5, 0.2],\n",
              "        [5. , 3.2, 1.2, 0.2],\n",
              "        [5.5, 3.5, 1.3, 0.2],\n",
              "        [4.9, 3.6, 1.4, 0.1],\n",
              "        [4.4, 3. , 1.3, 0.2],\n",
              "        [5.1, 3.4, 1.5, 0.2],\n",
              "        [5. , 3.5, 1.3, 0.3],\n",
              "        [4.5, 2.3, 1.3, 0.3],\n",
              "        [4.4, 3.2, 1.3, 0.2],\n",
              "        [5. , 3.5, 1.6, 0.6],\n",
              "        [5.1, 3.8, 1.9, 0.4],\n",
              "        [4.8, 3. , 1.4, 0.3],\n",
              "        [5.1, 3.8, 1.6, 0.2],\n",
              "        [4.6, 3.2, 1.4, 0.2],\n",
              "        [5.3, 3.7, 1.5, 0.2],\n",
              "        [5. , 3.3, 1.4, 0.2],\n",
              "        [7. , 3.2, 4.7, 1.4],\n",
              "        [6.4, 3.2, 4.5, 1.5],\n",
              "        [6.9, 3.1, 4.9, 1.5],\n",
              "        [5.5, 2.3, 4. , 1.3],\n",
              "        [6.5, 2.8, 4.6, 1.5],\n",
              "        [5.7, 2.8, 4.5, 1.3],\n",
              "        [6.3, 3.3, 4.7, 1.6],\n",
              "        [4.9, 2.4, 3.3, 1. ],\n",
              "        [6.6, 2.9, 4.6, 1.3],\n",
              "        [5.2, 2.7, 3.9, 1.4],\n",
              "        [5. , 2. , 3.5, 1. ],\n",
              "        [5.9, 3. , 4.2, 1.5],\n",
              "        [6. , 2.2, 4. , 1. ],\n",
              "        [6.1, 2.9, 4.7, 1.4],\n",
              "        [5.6, 2.9, 3.6, 1.3],\n",
              "        [6.7, 3.1, 4.4, 1.4],\n",
              "        [5.6, 3. , 4.5, 1.5],\n",
              "        [5.8, 2.7, 4.1, 1. ],\n",
              "        [6.2, 2.2, 4.5, 1.5],\n",
              "        [5.6, 2.5, 3.9, 1.1],\n",
              "        [5.9, 3.2, 4.8, 1.8],\n",
              "        [6.1, 2.8, 4. , 1.3],\n",
              "        [6.3, 2.5, 4.9, 1.5],\n",
              "        [6.1, 2.8, 4.7, 1.2],\n",
              "        [6.4, 2.9, 4.3, 1.3],\n",
              "        [6.6, 3. , 4.4, 1.4],\n",
              "        [6.8, 2.8, 4.8, 1.4],\n",
              "        [6.7, 3. , 5. , 1.7],\n",
              "        [6. , 2.9, 4.5, 1.5],\n",
              "        [5.7, 2.6, 3.5, 1. ],\n",
              "        [5.5, 2.4, 3.8, 1.1],\n",
              "        [5.5, 2.4, 3.7, 1. ],\n",
              "        [5.8, 2.7, 3.9, 1.2],\n",
              "        [6. , 2.7, 5.1, 1.6],\n",
              "        [5.4, 3. , 4.5, 1.5],\n",
              "        [6. , 3.4, 4.5, 1.6],\n",
              "        [6.7, 3.1, 4.7, 1.5],\n",
              "        [6.3, 2.3, 4.4, 1.3],\n",
              "        [5.6, 3. , 4.1, 1.3],\n",
              "        [5.5, 2.5, 4. , 1.3],\n",
              "        [5.5, 2.6, 4.4, 1.2],\n",
              "        [6.1, 3. , 4.6, 1.4],\n",
              "        [5.8, 2.6, 4. , 1.2],\n",
              "        [5. , 2.3, 3.3, 1. ],\n",
              "        [5.6, 2.7, 4.2, 1.3],\n",
              "        [5.7, 3. , 4.2, 1.2],\n",
              "        [5.7, 2.9, 4.2, 1.3],\n",
              "        [6.2, 2.9, 4.3, 1.3],\n",
              "        [5.1, 2.5, 3. , 1.1],\n",
              "        [5.7, 2.8, 4.1, 1.3],\n",
              "        [6.3, 3.3, 6. , 2.5],\n",
              "        [5.8, 2.7, 5.1, 1.9],\n",
              "        [7.1, 3. , 5.9, 2.1],\n",
              "        [6.3, 2.9, 5.6, 1.8],\n",
              "        [6.5, 3. , 5.8, 2.2],\n",
              "        [7.6, 3. , 6.6, 2.1],\n",
              "        [4.9, 2.5, 4.5, 1.7],\n",
              "        [7.3, 2.9, 6.3, 1.8],\n",
              "        [6.7, 2.5, 5.8, 1.8],\n",
              "        [7.2, 3.6, 6.1, 2.5],\n",
              "        [6.5, 3.2, 5.1, 2. ],\n",
              "        [6.4, 2.7, 5.3, 1.9],\n",
              "        [6.8, 3. , 5.5, 2.1],\n",
              "        [5.7, 2.5, 5. , 2. ],\n",
              "        [5.8, 2.8, 5.1, 2.4],\n",
              "        [6.4, 3.2, 5.3, 2.3],\n",
              "        [6.5, 3. , 5.5, 1.8],\n",
              "        [7.7, 3.8, 6.7, 2.2],\n",
              "        [7.7, 2.6, 6.9, 2.3],\n",
              "        [6. , 2.2, 5. , 1.5],\n",
              "        [6.9, 3.2, 5.7, 2.3],\n",
              "        [5.6, 2.8, 4.9, 2. ],\n",
              "        [7.7, 2.8, 6.7, 2. ],\n",
              "        [6.3, 2.7, 4.9, 1.8],\n",
              "        [6.7, 3.3, 5.7, 2.1],\n",
              "        [7.2, 3.2, 6. , 1.8],\n",
              "        [6.2, 2.8, 4.8, 1.8],\n",
              "        [6.1, 3. , 4.9, 1.8],\n",
              "        [6.4, 2.8, 5.6, 2.1],\n",
              "        [7.2, 3. , 5.8, 1.6],\n",
              "        [7.4, 2.8, 6.1, 1.9],\n",
              "        [7.9, 3.8, 6.4, 2. ],\n",
              "        [6.4, 2.8, 5.6, 2.2],\n",
              "        [6.3, 2.8, 5.1, 1.5],\n",
              "        [6.1, 2.6, 5.6, 1.4],\n",
              "        [7.7, 3. , 6.1, 2.3],\n",
              "        [6.3, 3.4, 5.6, 2.4],\n",
              "        [6.4, 3.1, 5.5, 1.8],\n",
              "        [6. , 3. , 4.8, 1.8],\n",
              "        [6.9, 3.1, 5.4, 2.1],\n",
              "        [6.7, 3.1, 5.6, 2.4],\n",
              "        [6.9, 3.1, 5.1, 2.3],\n",
              "        [5.8, 2.7, 5.1, 1.9],\n",
              "        [6.8, 3.2, 5.9, 2.3],\n",
              "        [6.7, 3.3, 5.7, 2.5],\n",
              "        [6.7, 3. , 5.2, 2.3],\n",
              "        [6.3, 2.5, 5. , 1.9],\n",
              "        [6.5, 3. , 5.2, 2. ],\n",
              "        [6.2, 3.4, 5.4, 2.3],\n",
              "        [5.9, 3. , 5.1, 1.8]]),\n",
              " 'feature_names': ['sepal length (cm)',\n",
              "  'sepal width (cm)',\n",
              "  'petal length (cm)',\n",
              "  'petal width (cm)'],\n",
              " 'filename': '/usr/local/lib/python3.7/dist-packages/sklearn/datasets/data/iris.csv',\n",
              " 'target': array([0, 0, 0, 0, 0, 0, 0, 0, 0, 0, 0, 0, 0, 0, 0, 0, 0, 0, 0, 0, 0, 0,\n",
              "        0, 0, 0, 0, 0, 0, 0, 0, 0, 0, 0, 0, 0, 0, 0, 0, 0, 0, 0, 0, 0, 0,\n",
              "        0, 0, 0, 0, 0, 0, 1, 1, 1, 1, 1, 1, 1, 1, 1, 1, 1, 1, 1, 1, 1, 1,\n",
              "        1, 1, 1, 1, 1, 1, 1, 1, 1, 1, 1, 1, 1, 1, 1, 1, 1, 1, 1, 1, 1, 1,\n",
              "        1, 1, 1, 1, 1, 1, 1, 1, 1, 1, 1, 1, 2, 2, 2, 2, 2, 2, 2, 2, 2, 2,\n",
              "        2, 2, 2, 2, 2, 2, 2, 2, 2, 2, 2, 2, 2, 2, 2, 2, 2, 2, 2, 2, 2, 2,\n",
              "        2, 2, 2, 2, 2, 2, 2, 2, 2, 2, 2, 2, 2, 2, 2, 2, 2, 2]),\n",
              " 'target_names': array(['setosa', 'versicolor', 'virginica'], dtype='<U10')}"
            ]
          },
          "metadata": {
            "tags": []
          },
          "execution_count": 813
        }
      ]
    },
    {
      "cell_type": "code",
      "metadata": {
        "id": "DnQdiNwbo-cv"
      },
      "source": [
        "dataset=pd.DataFrame(data= np.c_[dataset['data'], dataset['target']],\n",
        "                     columns= dataset['feature_names'] + ['target'])"
      ],
      "execution_count": null,
      "outputs": []
    },
    {
      "cell_type": "code",
      "metadata": {
        "colab": {
          "base_uri": "https://localhost:8080/",
          "height": 419
        },
        "id": "nh7tuipqmsFr",
        "outputId": "1e6ba264-4c98-41bd-fe4d-b3b1fa8979a5"
      },
      "source": [
        "dataset"
      ],
      "execution_count": null,
      "outputs": [
        {
          "output_type": "execute_result",
          "data": {
            "text/html": [
              "<div>\n",
              "<style scoped>\n",
              "    .dataframe tbody tr th:only-of-type {\n",
              "        vertical-align: middle;\n",
              "    }\n",
              "\n",
              "    .dataframe tbody tr th {\n",
              "        vertical-align: top;\n",
              "    }\n",
              "\n",
              "    .dataframe thead th {\n",
              "        text-align: right;\n",
              "    }\n",
              "</style>\n",
              "<table border=\"1\" class=\"dataframe\">\n",
              "  <thead>\n",
              "    <tr style=\"text-align: right;\">\n",
              "      <th></th>\n",
              "      <th>sepal length (cm)</th>\n",
              "      <th>sepal width (cm)</th>\n",
              "      <th>petal length (cm)</th>\n",
              "      <th>petal width (cm)</th>\n",
              "      <th>target</th>\n",
              "    </tr>\n",
              "  </thead>\n",
              "  <tbody>\n",
              "    <tr>\n",
              "      <th>0</th>\n",
              "      <td>5.1</td>\n",
              "      <td>3.5</td>\n",
              "      <td>1.4</td>\n",
              "      <td>0.2</td>\n",
              "      <td>0.0</td>\n",
              "    </tr>\n",
              "    <tr>\n",
              "      <th>1</th>\n",
              "      <td>4.9</td>\n",
              "      <td>3.0</td>\n",
              "      <td>1.4</td>\n",
              "      <td>0.2</td>\n",
              "      <td>0.0</td>\n",
              "    </tr>\n",
              "    <tr>\n",
              "      <th>2</th>\n",
              "      <td>4.7</td>\n",
              "      <td>3.2</td>\n",
              "      <td>1.3</td>\n",
              "      <td>0.2</td>\n",
              "      <td>0.0</td>\n",
              "    </tr>\n",
              "    <tr>\n",
              "      <th>3</th>\n",
              "      <td>4.6</td>\n",
              "      <td>3.1</td>\n",
              "      <td>1.5</td>\n",
              "      <td>0.2</td>\n",
              "      <td>0.0</td>\n",
              "    </tr>\n",
              "    <tr>\n",
              "      <th>4</th>\n",
              "      <td>5.0</td>\n",
              "      <td>3.6</td>\n",
              "      <td>1.4</td>\n",
              "      <td>0.2</td>\n",
              "      <td>0.0</td>\n",
              "    </tr>\n",
              "    <tr>\n",
              "      <th>...</th>\n",
              "      <td>...</td>\n",
              "      <td>...</td>\n",
              "      <td>...</td>\n",
              "      <td>...</td>\n",
              "      <td>...</td>\n",
              "    </tr>\n",
              "    <tr>\n",
              "      <th>145</th>\n",
              "      <td>6.7</td>\n",
              "      <td>3.0</td>\n",
              "      <td>5.2</td>\n",
              "      <td>2.3</td>\n",
              "      <td>2.0</td>\n",
              "    </tr>\n",
              "    <tr>\n",
              "      <th>146</th>\n",
              "      <td>6.3</td>\n",
              "      <td>2.5</td>\n",
              "      <td>5.0</td>\n",
              "      <td>1.9</td>\n",
              "      <td>2.0</td>\n",
              "    </tr>\n",
              "    <tr>\n",
              "      <th>147</th>\n",
              "      <td>6.5</td>\n",
              "      <td>3.0</td>\n",
              "      <td>5.2</td>\n",
              "      <td>2.0</td>\n",
              "      <td>2.0</td>\n",
              "    </tr>\n",
              "    <tr>\n",
              "      <th>148</th>\n",
              "      <td>6.2</td>\n",
              "      <td>3.4</td>\n",
              "      <td>5.4</td>\n",
              "      <td>2.3</td>\n",
              "      <td>2.0</td>\n",
              "    </tr>\n",
              "    <tr>\n",
              "      <th>149</th>\n",
              "      <td>5.9</td>\n",
              "      <td>3.0</td>\n",
              "      <td>5.1</td>\n",
              "      <td>1.8</td>\n",
              "      <td>2.0</td>\n",
              "    </tr>\n",
              "  </tbody>\n",
              "</table>\n",
              "<p>150 rows × 5 columns</p>\n",
              "</div>"
            ],
            "text/plain": [
              "     sepal length (cm)  sepal width (cm)  ...  petal width (cm)  target\n",
              "0                  5.1               3.5  ...               0.2     0.0\n",
              "1                  4.9               3.0  ...               0.2     0.0\n",
              "2                  4.7               3.2  ...               0.2     0.0\n",
              "3                  4.6               3.1  ...               0.2     0.0\n",
              "4                  5.0               3.6  ...               0.2     0.0\n",
              "..                 ...               ...  ...               ...     ...\n",
              "145                6.7               3.0  ...               2.3     2.0\n",
              "146                6.3               2.5  ...               1.9     2.0\n",
              "147                6.5               3.0  ...               2.0     2.0\n",
              "148                6.2               3.4  ...               2.3     2.0\n",
              "149                5.9               3.0  ...               1.8     2.0\n",
              "\n",
              "[150 rows x 5 columns]"
            ]
          },
          "metadata": {
            "tags": []
          },
          "execution_count": 815
        }
      ]
    },
    {
      "cell_type": "code",
      "metadata": {
        "colab": {
          "base_uri": "https://localhost:8080/",
          "height": 419
        },
        "id": "opIQlKiZp217",
        "outputId": "0163d597-7baf-46c0-fe23-3f5f9ffb49aa"
      },
      "source": [
        "X=dataset.iloc[:,:-1]\n",
        "X"
      ],
      "execution_count": null,
      "outputs": [
        {
          "output_type": "execute_result",
          "data": {
            "text/html": [
              "<div>\n",
              "<style scoped>\n",
              "    .dataframe tbody tr th:only-of-type {\n",
              "        vertical-align: middle;\n",
              "    }\n",
              "\n",
              "    .dataframe tbody tr th {\n",
              "        vertical-align: top;\n",
              "    }\n",
              "\n",
              "    .dataframe thead th {\n",
              "        text-align: right;\n",
              "    }\n",
              "</style>\n",
              "<table border=\"1\" class=\"dataframe\">\n",
              "  <thead>\n",
              "    <tr style=\"text-align: right;\">\n",
              "      <th></th>\n",
              "      <th>sepal length (cm)</th>\n",
              "      <th>sepal width (cm)</th>\n",
              "      <th>petal length (cm)</th>\n",
              "      <th>petal width (cm)</th>\n",
              "    </tr>\n",
              "  </thead>\n",
              "  <tbody>\n",
              "    <tr>\n",
              "      <th>0</th>\n",
              "      <td>5.1</td>\n",
              "      <td>3.5</td>\n",
              "      <td>1.4</td>\n",
              "      <td>0.2</td>\n",
              "    </tr>\n",
              "    <tr>\n",
              "      <th>1</th>\n",
              "      <td>4.9</td>\n",
              "      <td>3.0</td>\n",
              "      <td>1.4</td>\n",
              "      <td>0.2</td>\n",
              "    </tr>\n",
              "    <tr>\n",
              "      <th>2</th>\n",
              "      <td>4.7</td>\n",
              "      <td>3.2</td>\n",
              "      <td>1.3</td>\n",
              "      <td>0.2</td>\n",
              "    </tr>\n",
              "    <tr>\n",
              "      <th>3</th>\n",
              "      <td>4.6</td>\n",
              "      <td>3.1</td>\n",
              "      <td>1.5</td>\n",
              "      <td>0.2</td>\n",
              "    </tr>\n",
              "    <tr>\n",
              "      <th>4</th>\n",
              "      <td>5.0</td>\n",
              "      <td>3.6</td>\n",
              "      <td>1.4</td>\n",
              "      <td>0.2</td>\n",
              "    </tr>\n",
              "    <tr>\n",
              "      <th>...</th>\n",
              "      <td>...</td>\n",
              "      <td>...</td>\n",
              "      <td>...</td>\n",
              "      <td>...</td>\n",
              "    </tr>\n",
              "    <tr>\n",
              "      <th>145</th>\n",
              "      <td>6.7</td>\n",
              "      <td>3.0</td>\n",
              "      <td>5.2</td>\n",
              "      <td>2.3</td>\n",
              "    </tr>\n",
              "    <tr>\n",
              "      <th>146</th>\n",
              "      <td>6.3</td>\n",
              "      <td>2.5</td>\n",
              "      <td>5.0</td>\n",
              "      <td>1.9</td>\n",
              "    </tr>\n",
              "    <tr>\n",
              "      <th>147</th>\n",
              "      <td>6.5</td>\n",
              "      <td>3.0</td>\n",
              "      <td>5.2</td>\n",
              "      <td>2.0</td>\n",
              "    </tr>\n",
              "    <tr>\n",
              "      <th>148</th>\n",
              "      <td>6.2</td>\n",
              "      <td>3.4</td>\n",
              "      <td>5.4</td>\n",
              "      <td>2.3</td>\n",
              "    </tr>\n",
              "    <tr>\n",
              "      <th>149</th>\n",
              "      <td>5.9</td>\n",
              "      <td>3.0</td>\n",
              "      <td>5.1</td>\n",
              "      <td>1.8</td>\n",
              "    </tr>\n",
              "  </tbody>\n",
              "</table>\n",
              "<p>150 rows × 4 columns</p>\n",
              "</div>"
            ],
            "text/plain": [
              "     sepal length (cm)  sepal width (cm)  petal length (cm)  petal width (cm)\n",
              "0                  5.1               3.5                1.4               0.2\n",
              "1                  4.9               3.0                1.4               0.2\n",
              "2                  4.7               3.2                1.3               0.2\n",
              "3                  4.6               3.1                1.5               0.2\n",
              "4                  5.0               3.6                1.4               0.2\n",
              "..                 ...               ...                ...               ...\n",
              "145                6.7               3.0                5.2               2.3\n",
              "146                6.3               2.5                5.0               1.9\n",
              "147                6.5               3.0                5.2               2.0\n",
              "148                6.2               3.4                5.4               2.3\n",
              "149                5.9               3.0                5.1               1.8\n",
              "\n",
              "[150 rows x 4 columns]"
            ]
          },
          "metadata": {
            "tags": []
          },
          "execution_count": 816
        }
      ]
    },
    {
      "cell_type": "code",
      "metadata": {
        "colab": {
          "base_uri": "https://localhost:8080/"
        },
        "id": "1B7PWsnMmwmW",
        "outputId": "40c8e8f4-59ca-470d-d81f-649b02290846"
      },
      "source": [
        "y=dataset.iloc[:,-1]\n",
        "y"
      ],
      "execution_count": null,
      "outputs": [
        {
          "output_type": "execute_result",
          "data": {
            "text/plain": [
              "0      0.0\n",
              "1      0.0\n",
              "2      0.0\n",
              "3      0.0\n",
              "4      0.0\n",
              "      ... \n",
              "145    2.0\n",
              "146    2.0\n",
              "147    2.0\n",
              "148    2.0\n",
              "149    2.0\n",
              "Name: target, Length: 150, dtype: float64"
            ]
          },
          "metadata": {
            "tags": []
          },
          "execution_count": 817
        }
      ]
    },
    {
      "cell_type": "code",
      "metadata": {
        "id": "iwYK4AEKmz_9"
      },
      "source": [
        "from sklearn.model_selection import train_test_split\n",
        "X_train,X_test,y_train,y_test = train_test_split(X,y,test_size = 0.3, stratify=y)"
      ],
      "execution_count": null,
      "outputs": []
    },
    {
      "cell_type": "code",
      "metadata": {
        "colab": {
          "base_uri": "https://localhost:8080/"
        },
        "id": "Tt2pPdRKuYkC",
        "outputId": "148a0585-d40a-40f9-93a4-1c90babaa04e"
      },
      "source": [
        "X_train.shape"
      ],
      "execution_count": null,
      "outputs": [
        {
          "output_type": "execute_result",
          "data": {
            "text/plain": [
              "(105, 4)"
            ]
          },
          "metadata": {
            "tags": []
          },
          "execution_count": 819
        }
      ]
    },
    {
      "cell_type": "code",
      "metadata": {
        "colab": {
          "base_uri": "https://localhost:8080/"
        },
        "id": "uEWVf5Uduaw7",
        "outputId": "78472040-600d-4814-c1c0-50b7b57cfaf4"
      },
      "source": [
        "y_train.shape"
      ],
      "execution_count": null,
      "outputs": [
        {
          "output_type": "execute_result",
          "data": {
            "text/plain": [
              "(105,)"
            ]
          },
          "metadata": {
            "tags": []
          },
          "execution_count": 820
        }
      ]
    },
    {
      "cell_type": "markdown",
      "metadata": {
        "id": "GZ08MTJK8rC3"
      },
      "source": [
        "As the made split is random, indexes are required to be reset."
      ]
    },
    {
      "cell_type": "code",
      "metadata": {
        "id": "UNxNesT5vu4M"
      },
      "source": [
        "X_train=X_train.reset_index(drop=True)\n",
        "y_train=y_train.reset_index(drop=True)\n",
        "X_test=X_test.reset_index(drop=True)\n",
        "y_test=y_test.reset_index(drop=True)"
      ],
      "execution_count": null,
      "outputs": []
    },
    {
      "cell_type": "code",
      "metadata": {
        "colab": {
          "base_uri": "https://localhost:8080/"
        },
        "id": "MW2qkWu9xM6V",
        "outputId": "8a6b1ee8-cbb6-45c8-e3c6-deaea2d52e25"
      },
      "source": [
        "#Computing class_priors\n",
        "\n",
        "import numpy as np\n",
        "train_size=X_train.shape[0]\n",
        "class_priors={}\n",
        "for outcome in np.unique(Y_train):\n",
        "  outcome_count = sum(Y_train == outcome)\n",
        "  class_priors[outcome] = outcome_count / train_size\n",
        "\n",
        "print(class_priors)"
      ],
      "execution_count": null,
      "outputs": [
        {
          "output_type": "stream",
          "text": [
            "{0.0: 0.3333333333333333, 1.0: 0.3333333333333333, 2.0: 0.3333333333333333}\n"
          ],
          "name": "stdout"
        }
      ]
    },
    {
      "cell_type": "code",
      "metadata": {
        "id": "s5vACRaknpRO"
      },
      "source": [
        "def fit(x, y):\n",
        "  mean = x.groupby(by=y).mean()\n",
        "  var = x.groupby(by=y).var()\n",
        "  return mean, var"
      ],
      "execution_count": null,
      "outputs": []
    },
    {
      "cell_type": "code",
      "metadata": {
        "id": "QstqPRBdtFbJ"
      },
      "source": [
        "mean2, var2 = fit(X_train, y_train)"
      ],
      "execution_count": null,
      "outputs": []
    },
    {
      "cell_type": "code",
      "metadata": {
        "colab": {
          "base_uri": "https://localhost:8080/",
          "height": 173
        },
        "id": "2ADGee7YtL7a",
        "outputId": "b7e6fcb7-607e-4a4c-e043-357fc0edc016"
      },
      "source": [
        "mean2"
      ],
      "execution_count": null,
      "outputs": [
        {
          "output_type": "execute_result",
          "data": {
            "text/html": [
              "<div>\n",
              "<style scoped>\n",
              "    .dataframe tbody tr th:only-of-type {\n",
              "        vertical-align: middle;\n",
              "    }\n",
              "\n",
              "    .dataframe tbody tr th {\n",
              "        vertical-align: top;\n",
              "    }\n",
              "\n",
              "    .dataframe thead th {\n",
              "        text-align: right;\n",
              "    }\n",
              "</style>\n",
              "<table border=\"1\" class=\"dataframe\">\n",
              "  <thead>\n",
              "    <tr style=\"text-align: right;\">\n",
              "      <th></th>\n",
              "      <th>sepal length (cm)</th>\n",
              "      <th>sepal width (cm)</th>\n",
              "      <th>petal length (cm)</th>\n",
              "      <th>petal width (cm)</th>\n",
              "    </tr>\n",
              "    <tr>\n",
              "      <th>target</th>\n",
              "      <th></th>\n",
              "      <th></th>\n",
              "      <th></th>\n",
              "      <th></th>\n",
              "    </tr>\n",
              "  </thead>\n",
              "  <tbody>\n",
              "    <tr>\n",
              "      <th>0.0</th>\n",
              "      <td>5.031429</td>\n",
              "      <td>3.488571</td>\n",
              "      <td>1.480000</td>\n",
              "      <td>0.262857</td>\n",
              "    </tr>\n",
              "    <tr>\n",
              "      <th>1.0</th>\n",
              "      <td>5.868571</td>\n",
              "      <td>2.740000</td>\n",
              "      <td>4.254286</td>\n",
              "      <td>1.320000</td>\n",
              "    </tr>\n",
              "    <tr>\n",
              "      <th>2.0</th>\n",
              "      <td>6.557143</td>\n",
              "      <td>3.011429</td>\n",
              "      <td>5.540000</td>\n",
              "      <td>1.994286</td>\n",
              "    </tr>\n",
              "  </tbody>\n",
              "</table>\n",
              "</div>"
            ],
            "text/plain": [
              "        sepal length (cm)  ...  petal width (cm)\n",
              "target                     ...                  \n",
              "0.0              5.031429  ...          0.262857\n",
              "1.0              5.868571  ...          1.320000\n",
              "2.0              6.557143  ...          1.994286\n",
              "\n",
              "[3 rows x 4 columns]"
            ]
          },
          "metadata": {
            "tags": []
          },
          "execution_count": 825
        }
      ]
    },
    {
      "cell_type": "code",
      "metadata": {
        "colab": {
          "base_uri": "https://localhost:8080/",
          "height": 173
        },
        "id": "3o8U-KydtOrA",
        "outputId": "6c53622e-d560-4da8-cc05-25b3edda9654"
      },
      "source": [
        "var2"
      ],
      "execution_count": null,
      "outputs": [
        {
          "output_type": "execute_result",
          "data": {
            "text/html": [
              "<div>\n",
              "<style scoped>\n",
              "    .dataframe tbody tr th:only-of-type {\n",
              "        vertical-align: middle;\n",
              "    }\n",
              "\n",
              "    .dataframe tbody tr th {\n",
              "        vertical-align: top;\n",
              "    }\n",
              "\n",
              "    .dataframe thead th {\n",
              "        text-align: right;\n",
              "    }\n",
              "</style>\n",
              "<table border=\"1\" class=\"dataframe\">\n",
              "  <thead>\n",
              "    <tr style=\"text-align: right;\">\n",
              "      <th></th>\n",
              "      <th>sepal length (cm)</th>\n",
              "      <th>sepal width (cm)</th>\n",
              "      <th>petal length (cm)</th>\n",
              "      <th>petal width (cm)</th>\n",
              "    </tr>\n",
              "    <tr>\n",
              "      <th>target</th>\n",
              "      <th></th>\n",
              "      <th></th>\n",
              "      <th></th>\n",
              "      <th></th>\n",
              "    </tr>\n",
              "  </thead>\n",
              "  <tbody>\n",
              "    <tr>\n",
              "      <th>0.0</th>\n",
              "      <td>0.103983</td>\n",
              "      <td>0.123395</td>\n",
              "      <td>0.034588</td>\n",
              "      <td>0.013580</td>\n",
              "    </tr>\n",
              "    <tr>\n",
              "      <th>1.0</th>\n",
              "      <td>0.268101</td>\n",
              "      <td>0.117765</td>\n",
              "      <td>0.218437</td>\n",
              "      <td>0.045765</td>\n",
              "    </tr>\n",
              "    <tr>\n",
              "      <th>2.0</th>\n",
              "      <td>0.430168</td>\n",
              "      <td>0.108101</td>\n",
              "      <td>0.297176</td>\n",
              "      <td>0.082319</td>\n",
              "    </tr>\n",
              "  </tbody>\n",
              "</table>\n",
              "</div>"
            ],
            "text/plain": [
              "        sepal length (cm)  ...  petal width (cm)\n",
              "target                     ...                  \n",
              "0.0              0.103983  ...          0.013580\n",
              "1.0              0.268101  ...          0.045765\n",
              "2.0              0.430168  ...          0.082319\n",
              "\n",
              "[3 rows x 4 columns]"
            ]
          },
          "metadata": {
            "tags": []
          },
          "execution_count": 826
        }
      ]
    },
    {
      "cell_type": "code",
      "metadata": {
        "id": "nKHLZmVhuaf0"
      },
      "source": [
        "m = np.array(mean2)\n",
        "v = np.array(var2)"
      ],
      "execution_count": null,
      "outputs": []
    },
    {
      "cell_type": "code",
      "metadata": {
        "id": "9lvqFj7eudGW"
      },
      "source": [
        "mean_var = []\n",
        "#len_row = []\n",
        "for i in range(len(m)):\n",
        "  m_row = m[i]\n",
        "  #len_row.append(len(m_row))\n",
        "  v_row = v[i]\n",
        "  for a, b in enumerate(m_row):\n",
        "    mean = b\n",
        "    var = v_row[a]\n",
        "    mean_var.append([mean, var])"
      ],
      "execution_count": null,
      "outputs": []
    },
    {
      "cell_type": "code",
      "metadata": {
        "id": "_vc7iVhEuho-"
      },
      "source": [
        "mean_var2 = np.array(mean_var)\n",
        "n_class = len(np.unique(y))\n",
        "# now to separate mean variance by class, we use numpy vsplit\n",
        "s = np.vsplit(mean_var2, n_class)"
      ],
      "execution_count": null,
      "outputs": []
    },
    {
      "cell_type": "code",
      "metadata": {
        "colab": {
          "base_uri": "https://localhost:8080/"
        },
        "id": "ry4i3FDSwTW2",
        "outputId": "5e2bdb42-bc7c-4117-e760-f1084e1097dc"
      },
      "source": [
        "s"
      ],
      "execution_count": null,
      "outputs": [
        {
          "output_type": "execute_result",
          "data": {
            "text/plain": [
              "[array([[5.03142857, 0.10398319],\n",
              "        [3.48857143, 0.12339496],\n",
              "        [1.48      , 0.03458824],\n",
              "        [0.26285714, 0.01357983]]), array([[5.86857143, 0.26810084],\n",
              "        [2.74      , 0.11776471],\n",
              "        [4.25428571, 0.21843697],\n",
              "        [1.32      , 0.04576471]]), array([[6.55714286, 0.43016807],\n",
              "        [3.01142857, 0.10810084],\n",
              "        [5.54      , 0.29717647],\n",
              "        [1.99428571, 0.08231933]])]"
            ]
          },
          "metadata": {
            "tags": []
          },
          "execution_count": 830
        }
      ]
    },
    {
      "cell_type": "code",
      "metadata": {
        "id": "_viLI79_tQxW"
      },
      "source": [
        "def calculate_probability(x, mean, stdev):\n",
        "    ''' This function calculates the class probability using gaussian distribution '''\n",
        "    exponent = math.exp(-((x - mean) ** 2 / (2 * stdev ** 2)))\n",
        "    return (1 / (math.sqrt(2 * math.pi) * stdev)) * exponent"
      ],
      "execution_count": null,
      "outputs": []
    },
    {
      "cell_type": "code",
      "metadata": {
        "id": "FpVwBuF2vgOi"
      },
      "source": [
        "X_test=np.array(X_test)"
      ],
      "execution_count": null,
      "outputs": []
    },
    {
      "cell_type": "markdown",
      "metadata": {
        "id": "fQkb8uKc9BIA"
      },
      "source": [
        "Probability of each X_test example, corresponding to each individual class."
      ]
    },
    {
      "cell_type": "code",
      "metadata": {
        "id": "--fXMufau03M"
      },
      "source": [
        "prob=[]\n",
        "for j in range(len(X_test)):\n",
        "  xs=X_test[j]\n",
        "  for i in range(n_class):\n",
        "    # first class\n",
        "    probz=[]\n",
        "    class_one = s[i]\n",
        "    for k in range(len(class_one)):\n",
        "      # first value in class one\n",
        "      class_one_x_mean = class_one[k][0]\n",
        "      class_one_x_var = class_one[k][1]\n",
        "\n",
        "\t\t  # pull the x values that correspond to the right index of \n",
        "\t\t  # mean, median, mode. \n",
        "      x_value = xs[k]\n",
        "      # now calculate the probabilities of each class. \n",
        "      probz.append([calculate_probability(x_value, class_one_x_mean, math.sqrt(class_one_x_var))])\n",
        "    prob.append([j,i,probz])\n",
        "  "
      ],
      "execution_count": null,
      "outputs": []
    },
    {
      "cell_type": "code",
      "metadata": {
        "colab": {
          "base_uri": "https://localhost:8080/"
        },
        "id": "i3PJXBWNyRCS",
        "outputId": "d952b1ff-d8fb-4060-e7fb-353d824e47b6"
      },
      "source": [
        "prob"
      ],
      "execution_count": null,
      "outputs": [
        {
          "output_type": "execute_result",
          "data": {
            "text/plain": [
              "[[0,\n",
              "  0,\n",
              "  [[6.324619129404263e-08],\n",
              "   [0.6159664106100949],\n",
              "   [7.24711161427778e-97],\n",
              "   [3.675259923056519e-54]]],\n",
              " [0,\n",
              "  1,\n",
              "  [[0.10595071912920913],\n",
              "   [0.6705513786202724],\n",
              "   [0.04229959497851097],\n",
              "   [0.0024203062782190924]]],\n",
              " [0,\n",
              "  2,\n",
              "  [[0.5305809630730189],\n",
              "   [1.1701380867837663],\n",
              "   [0.7080780139122476],\n",
              "   [1.2992109597154633]]],\n",
              " [1,\n",
              "  0,\n",
              "  [[1.8982421015431294e-06],\n",
              "   [0.6159664106100949],\n",
              "   [5.82148836700315e-107],\n",
              "   [3.1632720825968196e-73]]],\n",
              " [1,\n",
              "  1,\n",
              "  [[0.2122592862361057],\n",
              "   [0.6705513786202724],\n",
              "   [0.01352049402223181],\n",
              "   [5.4479987756452024e-06]]],\n",
              " [1,\n",
              "  2,\n",
              "  [[0.5940035175842134],\n",
              "   [1.1701380867837663],\n",
              "   [0.7273983821788536],\n",
              "   [0.5116298534132512]]],\n",
              " [2,\n",
              "  0,\n",
              "  [[1.8982421015431294e-06],\n",
              "   [0.43171755544004486],\n",
              "   [2.8382493489085277e-87],\n",
              "   [1.4962201131050844e-66]]],\n",
              " [2,\n",
              "  1,\n",
              "  [[0.2122592862361057],\n",
              "   [0.8724776959302192],\n",
              "   [0.1101925434523676],\n",
              "   [5.172240315997897e-05]]],\n",
              " [2,\n",
              "  2,\n",
              "  [[0.5940035175842134],\n",
              "   [1.2126435576548678],\n",
              "   [0.6024677197440383],\n",
              "   [0.7881721812224228]]],\n",
              " [3,\n",
              "  0,\n",
              "  [[0.00015173427035926925],\n",
              "   [0.8104362732909428],\n",
              "   [5.240689306315874e-92],\n",
              "   [1.4962201131050844e-66]]],\n",
              " [3,\n",
              "  1,\n",
              "  [[0.4550079286700875],\n",
              "   [0.47340368395517923],\n",
              "   [0.06985301638439341],\n",
              "   [5.172240315997897e-05]]],\n",
              " [3,\n",
              "  2,\n",
              "  [[0.5910518815041866],\n",
              "   [1.0293572472771193],\n",
              "   [0.664223840295787],\n",
              "   [0.7881721812224228]]],\n",
              " [4,\n",
              "  0,\n",
              "  [[0.14420743935316607],\n",
              "   [0.16630244191458055],\n",
              "   [1.1829550625009179e-57],\n",
              "   [2.1583450627468822e-17]]],\n",
              " [4,\n",
              "  1,\n",
              "  [[0.7307103926166606],\n",
              "   [1.1448917408867163],\n",
              "   [0.7434092467370998],\n",
              "   [1.8567215709789207]]],\n",
              " [4,\n",
              "  2,\n",
              "  [[0.25895258097507723],\n",
              "   [0.98673478730188],\n",
              "   [0.11859770962645264],\n",
              "   [0.07440845451250225]]],\n",
              " [5,\n",
              "  0,\n",
              "  [[1.2313053596457435],\n",
              "   [1.0799693489658375],\n",
              "   [1.9555379025508604],\n",
              "   [2.9599500707506117]]],\n",
              " [5,\n",
              "  1,\n",
              "  [[0.18867935634558627],\n",
              "   [0.050309314415006696],\n",
              "   [6.7983368754852566e-09],\n",
              "   [2.082999152520522e-06]]],\n",
              " [5,\n",
              "  2,\n",
              "  [[0.03631738144413781],\n",
              "   [0.24441776414932218],\n",
              "   [2.1901528132551415e-13],\n",
              "   [4.4735917226028175e-09]]],\n",
              " [6,\n",
              "  0,\n",
              "  [[3.877979317681485e-05],\n",
              "   [0.16630244191458055],\n",
              "   [1.65285753609346e-61],\n",
              "   [1.1501733289719894e-24]]],\n",
              " [6,\n",
              "  1,\n",
              "  [[0.36629736872588375],\n",
              "   [1.1448917408867163],\n",
              "   [0.64928340535658],\n",
              "   [1.3089142023937481]]],\n",
              " [6,\n",
              "  2,\n",
              "  [[0.6059582007045875],\n",
              "   [0.98673478730188],\n",
              "   [0.16548367782691134],\n",
              "   [0.3152683578583099]]],\n",
              " [7,\n",
              "  0,\n",
              "  [[3.877979317681485e-05],\n",
              "   [0.8104362732909428],\n",
              "   [1.1512015101330047e-82],\n",
              "   [1.908629751085005e-48]]],\n",
              " [7,\n",
              "  1,\n",
              "  [[0.36629736872588375],\n",
              "   [0.47340368395517923],\n",
              "   [0.16604941046424515],\n",
              "   [0.011929445727563801]]],\n",
              " [7,\n",
              "  2,\n",
              "  [[0.6059582007045875],\n",
              "   [1.0293572472771193],\n",
              "   [0.5283711288535715],\n",
              "   [1.3901863628184015]]],\n",
              " [8,\n",
              "  0,\n",
              "  [[3.635598424319265e-07],\n",
              "   [0.16630244191458055],\n",
              "   [1.3554571194513215e-69],\n",
              "   [7.200228908944228e-21]]],\n",
              " [8,\n",
              "  1,\n",
              "  [[0.15278642375029025],\n",
              "   [1.1448917408867163],\n",
              "   [0.43171909162207256],\n",
              "   [1.7389120117402377]]],\n",
              " [8,\n",
              "  2,\n",
              "  [[0.567960722620189],\n",
              "   [0.98673478730188],\n",
              "   [0.29125326981056965],\n",
              "   [0.16275336646351443]]],\n",
              " [9,\n",
              "  0,\n",
              "  [[0.43045213538235966],\n",
              "   [0.04632502068155972],\n",
              "   [6.340737034041318e-54],\n",
              "   [3.098039966688566e-14]]],\n",
              " [9,\n",
              "  1,\n",
              "  [[0.5980450875561005],\n",
              "   [1.0696997644843795],\n",
              "   [0.8130920255276074],\n",
              "   [1.593377597132078]]],\n",
              " [9,\n",
              "  2,\n",
              "  [[0.16594164146727083],\n",
              "   [0.5545847887671558],\n",
              "   [0.08218326915745168],\n",
              "   [0.03012709769779214]]],\n",
              " [10,\n",
              "  0,\n",
              "  [[0.3181711634161159],\n",
              "   [0.003708728252424028],\n",
              "   [1.3428778461216255],\n",
              "   [3.253888094355376]]],\n",
              " [10,\n",
              "  1,\n",
              "  [[0.023428353827777568],\n",
              "   [0.5110012597071674],\n",
              "   [1.7987679334493771e-09],\n",
              "   [2.1581900593009048e-05]]],\n",
              " [10,\n",
              "  2,\n",
              "  [[0.004445038554604786],\n",
              "   [0.11676351798213254],\n",
              "   [5.34744968778425e-14],\n",
              "   [3.723010453219443e-08]]],\n",
              " [11,\n",
              "  0,\n",
              "  [[1.6639187245279187e-15],\n",
              "   [0.04632502068155972],\n",
              "   [8.025154898702515e-185],\n",
              "   [1.4962201131050844e-66]]],\n",
              " [11,\n",
              "  1,\n",
              "  [[0.0014794348108892153],\n",
              "   [1.0696997644843795],\n",
              "   [9.392309097600795e-08],\n",
              "   [5.172240315997897e-05]]],\n",
              " [11,\n",
              "  2,\n",
              "  [[0.13328007416189416],\n",
              "   [0.5545847887671558],\n",
              "   [0.03257599457639211],\n",
              "   [0.7881721812224228]]],\n",
              " [12,\n",
              "  0,\n",
              "  [[3.877979317681485e-05],\n",
              "   [0.43171755544004486],\n",
              "   [1.4711528541300341e-117],\n",
              "   [3.388800417580724e-60]]],\n",
              " [12,\n",
              "  1,\n",
              "  [[0.36629736872588375],\n",
              "   [0.8724776959302192],\n",
              "   [0.003598497969585576],\n",
              "   [0.0003946600232792461]]],\n",
              " [12,\n",
              "  2,\n",
              "  [[0.6059582007045875],\n",
              "   [1.2126435576548678],\n",
              "   [0.6531417506503445],\n",
              "   [1.0752984874560574]]],\n",
              " [13,\n",
              "  0,\n",
              "  [[0.14420743935316607],\n",
              "   [0.02165114652648174],\n",
              "   [3.496961287555539e-78],\n",
              "   [1.908629751085005e-48]]],\n",
              " [13,\n",
              "  1,\n",
              "  [[0.7307103926166606],\n",
              "   [0.9103185860509816],\n",
              "   [0.2390234750168683],\n",
              "   [0.011929445727563801]]],\n",
              " [13,\n",
              "  2,\n",
              "  [[0.25895258097507723],\n",
              "   [0.36190059730323215],\n",
              "   [0.44805398991828255],\n",
              "   [1.3901863628184015]]],\n",
              " [14,\n",
              "  0,\n",
              "  [[0.1818956538660481],\n",
              "   [0.27902743572621136],\n",
              "   [1.9555379025508604],\n",
              "   [2.9599500707506117]]],\n",
              " [14,\n",
              "  1,\n",
              "  [[0.013802205318300476],\n",
              "   [1.042793833533476],\n",
              "   [6.7983368754852566e-09],\n",
              "   [2.082999152520522e-06]]],\n",
              " [14,\n",
              "  2,\n",
              "  [[0.002723578870484475],\n",
              "   [1.1456561001527552],\n",
              "   [2.1901528132551415e-13],\n",
              "   [4.4735917226028175e-09]]],\n",
              " [15,\n",
              "  0,\n",
              "  [[0.5055143348105138],\n",
              "   [1.1001606594754292],\n",
              "   [1.9555379025508604],\n",
              "   [3.253888094355376]]],\n",
              " [15,\n",
              "  1,\n",
              "  [[0.03831211629508587],\n",
              "   [0.18289267911890758],\n",
              "   [6.7983368754852566e-09],\n",
              "   [2.1581900593009048e-05]]],\n",
              " [15,\n",
              "  2,\n",
              "  [[0.007087860845643992],\n",
              "   [0.6035306460865851],\n",
              "   [2.1901528132551415e-13],\n",
              "   [3.723010453219443e-08]]],\n",
              " [16,\n",
              "  0,\n",
              "  [[0.0017407746833110157],\n",
              "   [0.27902743572621136],\n",
              "   [2.545364059678223e-50],\n",
              "   [2.1583450627468822e-17]]],\n",
              " [16,\n",
              "  1,\n",
              "  [[0.6277583918021895],\n",
              "   [1.042793833533476],\n",
              "   [0.849512027874937],\n",
              "   [1.8567215709789207]]],\n",
              " [16,\n",
              "  2,\n",
              "  [[0.5244495304080485],\n",
              "   [1.1456561001527552],\n",
              "   [0.05506510827978147],\n",
              "   [0.07440845451250225]]],\n",
              " [17,\n",
              "  0,\n",
              "  [[1.2313053596457435],\n",
              "   [1.1001606594754292],\n",
              "   [2.1327239051814244],\n",
              "   [2.9599500707506117]]],\n",
              " [17,\n",
              "  1,\n",
              "  [[0.18867935634558627],\n",
              "   [0.18289267911890758],\n",
              "   [2.4544167896858874e-08],\n",
              "   [2.082999152520522e-06]]],\n",
              " [17,\n",
              "  2,\n",
              "  [[0.03631738144413781],\n",
              "   [0.6035306460865851],\n",
              "   [8.673374565422561e-13],\n",
              "   [4.4735917226028175e-09]]],\n",
              " [18,\n",
              "  0,\n",
              "  [[0.1818956538660481],\n",
              "   [0.43171755544004486],\n",
              "   [1.3428778461216255],\n",
              "   [2.9599500707506117]]],\n",
              " [18,\n",
              "  1,\n",
              "  [[0.013802205318300476],\n",
              "   [0.8724776959302192],\n",
              "   [1.7987679334493771e-09],\n",
              "   [2.082999152520522e-06]]],\n",
              " [18,\n",
              "  2,\n",
              "  [[0.002723578870484475],\n",
              "   [1.2126435576548678],\n",
              "   [5.34744968778425e-14],\n",
              "   [4.4735917226028175e-09]]],\n",
              " [19,\n",
              "  0,\n",
              "  [[1.2313053596457435],\n",
              "   [0.43171755544004486],\n",
              "   [1.7419741500070944],\n",
              "   [2.9599500707506117]]],\n",
              " [19,\n",
              "  1,\n",
              "  [[0.18867935634558627],\n",
              "   [0.8724776959302192],\n",
              "   [8.464709000042013e-08],\n",
              "   [2.082999152520522e-06]]],\n",
              " [19,\n",
              "  2,\n",
              "  [[0.03631738144413781],\n",
              "   [1.2126435576548678],\n",
              "   [3.3211444084578602e-12],\n",
              "   [4.4735917226028175e-09]]],\n",
              " [20,\n",
              "  0,\n",
              "  [[0.013593713300550212],\n",
              "   [0.0013592641067673708],\n",
              "   [3.496961287555539e-78],\n",
              "   [1.1501733289719894e-24]]],\n",
              " [20,\n",
              "  1,\n",
              "  [[0.7460542321390099],\n",
              "   [0.3370691625105227],\n",
              "   [0.2390234750168683],\n",
              "   [1.3089142023937481]]],\n",
              " [20,\n",
              "  2,\n",
              "  [[0.4240314754354359],\n",
              "   [0.05773028434364907],\n",
              "   [0.44805398991828255],\n",
              "   [0.3152683578583099]]],\n",
              " [21,\n",
              "  0,\n",
              "  [[1.8982421015431294e-06],\n",
              "   [0.6159664106100949],\n",
              "   [6.340737034041318e-54],\n",
              "   [7.200228908944228e-21]]],\n",
              " [21,\n",
              "  1,\n",
              "  [[0.2122592862361057],\n",
              "   [0.6705513786202724],\n",
              "   [0.8130920255276074],\n",
              "   [1.7389120117402377]]],\n",
              " [21,\n",
              "  2,\n",
              "  [[0.5940035175842134],\n",
              "   [1.1701380867837663],\n",
              "   [0.08218326915745168],\n",
              "   [0.16275336646351443]]],\n",
              " [22,\n",
              "  0,\n",
              "  [[1.1385613779487171],\n",
              "   [0.6159664106100949],\n",
              "   [2.1327239051814244],\n",
              "   [1.2893110987724692]]],\n",
              " [22,\n",
              "  1,\n",
              "  [[0.13394475411444026],\n",
              "   [0.6705513786202724],\n",
              "   [2.4544167896858874e-08],\n",
              "   [1.615813554083985e-07]]],\n",
              " [22,\n",
              "  2,\n",
              "  [[0.024995313011317095],\n",
              "   [1.1701380867837663],\n",
              "   [8.673374565422561e-13],\n",
              "   [4.760593996801492e-10]]],\n",
              " [23,\n",
              "  0,\n",
              "  [[1.2313053596457435],\n",
              "   [0.8104362732909428],\n",
              "   [0.6906300176214781],\n",
              "   [2.9599500707506117]]],\n",
              " [23,\n",
              "  1,\n",
              "  [[0.18867935634558627],\n",
              "   [0.47340368395517923],\n",
              "   [4.5463794492441967e-10],\n",
              "   [2.082999152520522e-06]]],\n",
              " [23,\n",
              "  2,\n",
              "  [[0.03631738144413781],\n",
              "   [1.0293572472771193],\n",
              "   [1.2624232080921318e-14],\n",
              "   [4.4735917226028175e-09]]],\n",
              " [24,\n",
              "  0,\n",
              "  [[0.07225540059880534],\n",
              "   [0.39352860235118325],\n",
              "   [0.6906300176214781],\n",
              "   [2.9599500707506117]]],\n",
              " [24,\n",
              "  1,\n",
              "  [[0.763752383148838],\n",
              "   [0.0013740885475343623],\n",
              "   [4.5463794492441967e-10],\n",
              "   [2.082999152520522e-06]]],\n",
              " [24,\n",
              "  2,\n",
              "  [[0.3123983897410054],\n",
              "   [0.01320992527250903],\n",
              "   [1.2624232080921318e-14],\n",
              "   [4.4735917226028175e-09]]],\n",
              " [25,\n",
              "  0,\n",
              "  [[0.03288418833333233],\n",
              "   [0.43171755544004486],\n",
              "   [7.652419031639812e-47],\n",
              "   [1.1501733289719894e-24]]],\n",
              " [25,\n",
              "  1,\n",
              "  [[0.7690612858932583],\n",
              "   [0.8724776959302192],\n",
              "   [0.8478469267186026],\n",
              "   [1.3089142023937481]]],\n",
              " [25,\n",
              "  2,\n",
              "  [[0.36821493831452234],\n",
              "   [1.2126435576548678],\n",
              "   [0.035674307839030896],\n",
              "   [0.3152683578583099]]],\n",
              " [26,\n",
              "  0,\n",
              "  [[0.005104147911813915],\n",
              "   [0.16630244191458055],\n",
              "   [2.90544343509714e-40],\n",
              "   [2.1583450627468822e-17]]],\n",
              " [26,\n",
              "  1,\n",
              "  [[0.6972378003201588],\n",
              "   [1.1448917408867163],\n",
              "   [0.7361520890286253],\n",
              "   [1.8567215709789207]]],\n",
              " [26,\n",
              "  2,\n",
              "  [[0.4770884039475094],\n",
              "   [0.98673478730188],\n",
              "   [0.013535415505387536],\n",
              "   [0.07440845451250225]]],\n",
              " [27,\n",
              "  0,\n",
              "  [[1.0791626636919391],\n",
              "   [1.1350931702325122],\n",
              "   [2.1327239051814244],\n",
              "   [2.9599500707506117]]],\n",
              " [27,\n",
              "  1,\n",
              "  [[0.3347533801851607],\n",
              "   [0.10008325854303037],\n",
              "   [2.4544167896858874e-08],\n",
              "   [2.082999152520522e-06]]],\n",
              " [27,\n",
              "  2,\n",
              "  [[0.07150536800511594],\n",
              "   [0.40225691401106717],\n",
              "   [8.673374565422561e-13],\n",
              "   [4.4735917226028175e-09]]],\n",
              " [28,\n",
              "  0,\n",
              "  [[0.0005392573068630809],\n",
              "   [0.02165114652648174],\n",
              "   [7.955527268802944e-74],\n",
              "   [1.1501733289719894e-24]]],\n",
              " [28,\n",
              "  1,\n",
              "  [[0.5445091814115212],\n",
              "   [0.9103185860509816],\n",
              "   [0.32867135977567635],\n",
              "   [1.3089142023937481]]],\n",
              " [28,\n",
              "  2,\n",
              "  [[0.5632648045945812],\n",
              "   [0.36190059730323215],\n",
              "   [0.36737330275139135],\n",
              "   [0.3152683578583099]]],\n",
              " [29,\n",
              "  0,\n",
              "  [[1.8982421015431294e-06],\n",
              "   [0.9832981704163811],\n",
              "   [3.381633842989972e-112],\n",
              "   [3.675259923056519e-54]]],\n",
              " [29,\n",
              "  1,\n",
              "  [[0.2122592862361057],\n",
              "   [0.30701037625447203],\n",
              "   [0.007136707007681173],\n",
              "   [0.0024203062782190924]]],\n",
              " [29,\n",
              "  2,\n",
              "  [[0.5940035175842134],\n",
              "   [0.8255059298723044],\n",
              "   [0.7009659167041629],\n",
              "   [1.2992109597154633]]],\n",
              " [30,\n",
              "  0,\n",
              "  [[0.07225540059880534],\n",
              "   [0.16630244191458055],\n",
              "   [1.1512015101330047e-82],\n",
              "   [3.1632720825968196e-73]]],\n",
              " [30,\n",
              "  1,\n",
              "  [[0.763752383148838],\n",
              "   [1.1448917408867163],\n",
              "   [0.16604941046424515],\n",
              "   [5.4479987756452024e-06]]],\n",
              " [30,\n",
              "  2,\n",
              "  [[0.3123983897410054],\n",
              "   [0.98673478730188],\n",
              "   [0.5283711288535715],\n",
              "   [0.5116298534132512]]],\n",
              " [31,\n",
              "  0,\n",
              "  [[0.00015173427035926925],\n",
              "   [0.09140182436103923],\n",
              "   [5.240689306315874e-92],\n",
              "   [4.746209267236917e-43]]],\n",
              " [31,\n",
              "  1,\n",
              "  [[0.4550079286700875],\n",
              "   [1.1546549925279708],\n",
              "   [0.06985301638439341],\n",
              "   [0.04725774039688344]]],\n",
              " [31,\n",
              "  2,\n",
              "  [[0.5910518815041866],\n",
              "   [0.7747679854226668],\n",
              "   [0.664223840295787],\n",
              "   [1.317373977057614]]],\n",
              " [32,\n",
              "  0,\n",
              "  [[0.26142022438438545],\n",
              "   [0.43171755544004486],\n",
              "   [1.7230038538726924e-43],\n",
              "   [2.1583450627468822e-17]]],\n",
              " [32,\n",
              "  1,\n",
              "  [[0.6735022752121261],\n",
              "   [0.8724776959302192],\n",
              "   [0.8083202443265542],\n",
              "   [1.8567215709789207]]],\n",
              " [32,\n",
              "  2,\n",
              "  [[0.2097180329915148],\n",
              "   [1.2126435576548678],\n",
              "   [0.022347069883338035],\n",
              "   [0.07440845451250225]]],\n",
              " [33,\n",
              "  0,\n",
              "  [[0.0005392573068630809],\n",
              "   [0.9832981704163811],\n",
              "   [1.7295824407438416e-65],\n",
              "   [8.797754624988102e-29]]],\n",
              " [33,\n",
              "  1,\n",
              "  [[0.5445091814115212],\n",
              "   [0.30701037625447203],\n",
              "   [0.5416998746824943],\n",
              "   [0.7918583503769165]]],\n",
              " [33,\n",
              "  2,\n",
              "  [[0.5632648045945812],\n",
              "   [0.8255059298723044],\n",
              "   [0.2232646678126572],\n",
              "   [0.5408458438657179]]],\n",
              " [34,\n",
              "  0,\n",
              "  [[0.14420743935316607],\n",
              "   [0.04632502068155972],\n",
              "   [5.181116494633113e-26],\n",
              "   [7.007998212276954e-09]]],\n",
              " [34,\n",
              "  1,\n",
              "  [[0.7307103926166606],\n",
              "   [1.0696997644843795],\n",
              "   [0.23209154874864973],\n",
              "   [0.609215295588655]]],\n",
              " [34,\n",
              "  2,\n",
              "  [[0.25895258097507723],\n",
              "   [0.5545847887671558],\n",
              "   [0.0006660643963044395],\n",
              "   [0.0034304843525731392]]],\n",
              " [35,\n",
              "  0,\n",
              "  [[0.14420743935316607],\n",
              "   [0.7666282647088208],\n",
              "   [1.0655833976717468],\n",
              "   [3.253888094355376]]],\n",
              " [35,\n",
              "  1,\n",
              "  [[0.7307103926166606],\n",
              "   [0.009853439744170321],\n",
              "   [2.7886489051702383e-07],\n",
              "   [2.1581900593009048e-05]]],\n",
              " [35,\n",
              "  2,\n",
              "  [[0.25895258097507723],\n",
              "   [0.06837013615188274],\n",
              "   [1.2296270006194567e-11],\n",
              "   [3.723010453219443e-08]]],\n",
              " [36,\n",
              "  0,\n",
              "  [[0.5055143348105138],\n",
              "   [0.6159664106100949],\n",
              "   [2.1327239051814244],\n",
              "   [2.9599500707506117]]],\n",
              " [36,\n",
              "  1,\n",
              "  [[0.03831211629508587],\n",
              "   [0.6705513786202724],\n",
              "   [2.4544167896858874e-08],\n",
              "   [2.082999152520522e-06]]],\n",
              " [36,\n",
              "  2,\n",
              "  [[0.007087860845643992],\n",
              "   [1.1701380867837663],\n",
              "   [8.673374565422561e-13],\n",
              "   [4.4735917226028175e-09]]],\n",
              " [37,\n",
              "  0,\n",
              "  [[1.6639187245279187e-15],\n",
              "   [0.16630244191458055],\n",
              "   [1.8372950910962375e-171],\n",
              "   [1.908629751085005e-48]]],\n",
              " [37,\n",
              "  1,\n",
              "  [[0.0014794348108892153],\n",
              "   [1.1448917408867163],\n",
              "   [9.661526514661136e-07],\n",
              "   [0.011929445727563801]]],\n",
              " [37,\n",
              "  2,\n",
              "  [[0.13328007416189416],\n",
              "   [0.98673478730188],\n",
              "   [0.07606259746001562],\n",
              "   [1.3901863628184015]]],\n",
              " [38,\n",
              "  0,\n",
              "  [[9.002465426360205e-06],\n",
              "   [0.43171755544004486],\n",
              "   [6.340737034041318e-54],\n",
              "   [7.200228908944228e-21]]],\n",
              " [38,\n",
              "  1,\n",
              "  [[0.28408592070644134],\n",
              "   [0.8724776959302192],\n",
              "   [0.8130920255276074],\n",
              "   [1.7389120117402377]]],\n",
              " [38,\n",
              "  2,\n",
              "  [[0.6069652183538492],\n",
              "   [1.2126435576548678],\n",
              "   [0.08218326915745168],\n",
              "   [0.16275336646351443]]],\n",
              " [39,\n",
              "  0,\n",
              "  [[1.1385613779487171],\n",
              "   [1.0799693489658375],\n",
              "   [1.9555379025508604],\n",
              "   [1.2893110987724692]]],\n",
              " [39,\n",
              "  1,\n",
              "  [[0.13394475411444026],\n",
              "   [0.050309314415006696],\n",
              "   [6.7983368754852566e-09],\n",
              "   [1.615813554083985e-07]]],\n",
              " [39,\n",
              "  2,\n",
              "  [[0.024995313011317095],\n",
              "   [0.24441776414932218],\n",
              "   [2.1901528132551415e-13],\n",
              "   [4.760593996801492e-10]]],\n",
              " [40,\n",
              "  0,\n",
              "  [[1.0791626636919391],\n",
              "   [1.1001606594754292],\n",
              "   [1.9555379025508604],\n",
              "   [2.9599500707506117]]],\n",
              " [40,\n",
              "  1,\n",
              "  [[0.3347533801851607],\n",
              "   [0.18289267911890758],\n",
              "   [6.7983368754852566e-09],\n",
              "   [2.082999152520522e-06]]],\n",
              " [40,\n",
              "  2,\n",
              "  [[0.07150536800511594],\n",
              "   [0.6035306460865851],\n",
              "   [2.1901528132551415e-13],\n",
              "   [4.4735917226028175e-09]]],\n",
              " [41,\n",
              "  0,\n",
              "  [[3.635598424319265e-07],\n",
              "   [0.43171755544004486],\n",
              "   [7.505509118016836e-102],\n",
              "   [3.675259923056519e-54]]],\n",
              " [41,\n",
              "  1,\n",
              "  [[0.15278642375029025],\n",
              "   [0.8724776959302192],\n",
              "   [0.024468387009259372],\n",
              "   [0.0024203062782190924]]],\n",
              " [41,\n",
              "  2,\n",
              "  [[0.567960722620189],\n",
              "   [1.2126435576548678],\n",
              "   [0.7298502034952002],\n",
              "   [1.2992109597154633]]],\n",
              " [42,\n",
              "  0,\n",
              "  [[0.00015173427035926925],\n",
              "   [0.27902743572621136],\n",
              "   [2.545364059678223e-50],\n",
              "   [2.1583450627468822e-17]]],\n",
              " [42,\n",
              "  1,\n",
              "  [[0.4550079286700875],\n",
              "   [1.042793833533476],\n",
              "   [0.849512027874937],\n",
              "   [1.8567215709789207]]],\n",
              " [42,\n",
              "  2,\n",
              "  [[0.5910518815041866],\n",
              "   [1.1456561001527552],\n",
              "   [0.05506510827978147],\n",
              "   [0.07440845451250225]]],\n",
              " [43,\n",
              "  0,\n",
              "  [[1.209509427461532],\n",
              "   [0.02165114652648174],\n",
              "   [6.708123425200283e-15],\n",
              "   [2.1293385539346844e-11]]],\n",
              " [43,\n",
              "  1,\n",
              "  [[0.25604962253057045],\n",
              "   [0.9103185860509816],\n",
              "   [0.023297176605316283],\n",
              "   [1.0989890837145848]]],\n",
              " [43,\n",
              "  2,\n",
              "  [[0.05155544616263302],\n",
              "   [0.36190059730323215],\n",
              "   [1.4132213319327285e-05],\n",
              "   [0.010802767154963795]]],\n",
              " [44,\n",
              "  0,\n",
              "  [[2.3814376572082375e-12],\n",
              "   [0.16630244191458055],\n",
              "   [2.1373885188987e-134],\n",
              "   [4.746209267236917e-43]]],\n",
              " [44,\n",
              "  1,\n",
              "  [[0.00970992292859794],\n",
              "   [1.1448917408867163],\n",
              "   [0.00035050964298823713],\n",
              "   [0.04725774039688344]]],\n",
              " [44,\n",
              "  2,\n",
              "  [[0.26636648653658174],\n",
              "   [0.98673478730188],\n",
              "   [0.43177244199424275],\n",
              "   [1.317373977057614]]]]"
            ]
          },
          "metadata": {
            "tags": []
          },
          "execution_count": 834
        }
      ]
    },
    {
      "cell_type": "markdown",
      "metadata": {
        "id": "q2bv-XQk9Ntu"
      },
      "source": [
        "product of probability of each X_test example, corresponding to each individual class."
      ]
    },
    {
      "cell_type": "code",
      "metadata": {
        "id": "zPOtIzU96rYD"
      },
      "source": [
        "prob2=[]\n",
        "for j in range(len(X_test)):\n",
        "  xs=X_test[j]\n",
        "  g=[]\n",
        "  for i in range(n_class):\n",
        "    # first class\n",
        "    probz=[]\n",
        "    class_one = s[i]\n",
        "    f=0\n",
        "    for k in range(len(class_one)):\n",
        "      # first value in class one\n",
        "      class_one_x_mean = class_one[k][0]\n",
        "      class_one_x_var = class_one[k][1]\n",
        "\n",
        "\t\t  # pull the x values that correspond to the right index of \n",
        "\t\t  # mean, median, mode. \n",
        "      x_value = xs[k]\n",
        "      # now calculate the probabilities of each class. \n",
        "      z=calculate_probability(x_value, class_one_x_mean, math.sqrt(class_one_x_var))\n",
        "      f=f+np.log(z)\n",
        "    f=f*class_priors[i]\n",
        "    g.append(f)\n",
        "\n",
        "  prob2.append([j,g])\n",
        "  "
      ],
      "execution_count": null,
      "outputs": []
    },
    {
      "cell_type": "code",
      "metadata": {
        "colab": {
          "base_uri": "https://localhost:8080/"
        },
        "id": "2nyrUKw-3gCl",
        "outputId": "c393f087-1bfb-4bca-eef0-b0cbf48e83b7"
      },
      "source": [
        "prob2"
      ],
      "execution_count": null,
      "outputs": [
        {
          "output_type": "execute_result",
          "data": {
            "text/plain": [
              "[[0, [-120.48963865537769, -3.9437583707500914, -0.18670160912795292]],\n",
              " [1, [-141.73709965687092, -6.1244708459981725, -0.4507277005102986]],\n",
              " [2, [-121.6213186034864, -4.587170160210384, -0.3576090680118639]],\n",
              " [3, [-123.58420400296214, -4.688742928452817, -0.3813638967071288]],\n",
              " [4, [-57.72812973466541, 0.047958586383471793, -2.031556037549152]],\n",
              " [5, [0.6802817441849796, -12.181853636021021, -17.6996814392117]],\n",
              " [6, [-69.00962435769141, -0.34389591555510723, -1.1558373460408324]],\n",
              " [7, [-102.97222137759191, -2.6587773261633743, -0.2601760766178538]],\n",
              " [8, [-73.85855864342297, -0.6767082296587912, -1.2093794516930487]],\n",
              " [9, [-52.504337957734755, -0.06258868689854032, -2.7955961585914673]],\n",
              " [10, [-1.7558554886834599, -11.768336976523035, -18.409763676544628]],\n",
              " [11, [-204.1883364416674, -10.833042081507422, -2.089018817048749]],\n",
              " [12, [-138.98287802172854, -4.868484198912619, -0.22050144919356318]],\n",
              " [13, [-97.99888036205358, -2.0892125793427323, -0.9469665818414127]],\n",
              " [14, [-0.4083098516736908, -12.043104346193495, -18.048180046528373]],\n",
              " [15, [0.4212644185197097, -11.50369606446861, -17.236704396170964]],\n",
              " [16, [-53.39981866635398, 0.010674244597322838, -2.00228443616313]],\n",
              " [17, [0.7153678298314421, -11.323685118892742, -16.939613262675532]],\n",
              " [18, [-0.38810614683753863, -12.545736924305029, -18.499217183192634]],\n",
              " [19, [0.33609420083021835, -10.390200442967505, -16.259480671474766]],\n",
              " [20, [-81.45694403992294, -0.8474732311749247, -1.88903119675185]],\n",
              " [21, [-60.84397309931725, -0.5344176671583396, -1.5593570407131399]],\n",
              " [22, [0.21890356878431844, -11.85701048074828, -17.59025731245483]],\n",
              " [23, [0.23763789285528905, -12.33624485788935, -18.171585576482585]],\n",
              " [24, [-0.9483761204995702, -13.81756594402488, -18.90616510444672]],\n",
              " [25, [-55.18778472849832, -0.09828667858589364, -1.7646470985710672]],\n",
              " [26, [-45.4943571620083, 0.029058376996880443, -2.5513462730170655]],\n",
              " [27, [0.6818241855164697, -11.33353580815667, -16.849023188084303]],\n",
              " [28, [-78.26585803728621, -0.5151100381189134, -1.24869965368432]],\n",
              " [29, [-130.96685592963826, -4.5657284781434395, -0.268722586005933]],\n",
              " [30, [-120.00992389325333, -4.683311220150503, -0.8283134005394169]],\n",
              " [31, [-106.27368596532347, -2.1190465579852384, -0.304846293742638]],\n",
              " [32, [-46.34110148490257, -0.041888904766837744, -2.5894781304199275]],\n",
              " [33, [-73.75426093123806, -0.8783867097011586, -0.9599275318462027]],\n",
              " [34, [-27.335660369670382, -0.7341889971310684, -4.9766079702383585]],\n",
              " [35, [-0.31962755433103035, -10.256622238487086, -15.420600922379116]],\n",
              " [36, [0.22527688774705268, -11.42204580200769, -17.263557479251375]],\n",
              " [37, [-179.61166782143533, -8.219824853617101, -1.4251391134842502]],\n",
              " [38, [-60.44358997876785, -0.34951602792495473, -1.540267968225412]],\n",
              " [39, [0.3771571725957695, -13.14824593094349, -18.571018896951195]],\n",
              " [40, [0.6424931166683363, -11.560502194082817, -17.1725501125475]],\n",
              " [41, [-123.85110632869896, -3.9164556503269434, -0.14201970617938178]],\n",
              " [42, [-54.2131369142932, -0.09660592925757538, -1.962432902660493]],\n",
              " [43, [-20.283521267986544, -1.7071256734997278, -6.558829939105136]],\n",
              " [44, [-144.5992981353362, -5.169186003750827, -0.633484123814503]]]"
            ]
          },
          "metadata": {
            "tags": []
          },
          "execution_count": 836
        }
      ]
    },
    {
      "cell_type": "markdown",
      "metadata": {
        "id": "-Fi9y2Yx9dDv"
      },
      "source": [
        "Max of products of probability of each X_test example, corresponding to each individual class."
      ]
    },
    {
      "cell_type": "code",
      "metadata": {
        "id": "wTtZtf1u7SvO"
      },
      "source": [
        "prob3=[]\n",
        "for j in range(len(X_test)):\n",
        "  xs=X_test[j]\n",
        "  max=-99999999999\n",
        "  g=-10\n",
        "  for i in range(n_class):\n",
        "    # first class\n",
        "    probz=[]\n",
        "    class_one = s[i]\n",
        "    f=0\n",
        "    for k in range(len(class_one)):\n",
        "      # first value in class one\n",
        "      class_one_x_mean = class_one[k][0]\n",
        "      class_one_x_var = class_one[k][1]\n",
        "\n",
        "\t\t  # pull the x values that correspond to the right index of \n",
        "\t\t  # mean, median, mode. \n",
        "      x_value = xs[k]\n",
        "      # now calculate the probabilities of each class. \n",
        "      z=calculate_probability(x_value, class_one_x_mean, math.sqrt(class_one_x_var))\n",
        "      f=f+np.log(z)\n",
        "    if (f>=max):\n",
        "      max=f\n",
        "      g=i\n",
        "  prob3.append([j,g])\n",
        "  "
      ],
      "execution_count": null,
      "outputs": []
    },
    {
      "cell_type": "code",
      "metadata": {
        "colab": {
          "base_uri": "https://localhost:8080/"
        },
        "id": "sru9yjay7xhV",
        "outputId": "73a373bb-c748-464f-d0d0-52a8b9bd60ac"
      },
      "source": [
        "prob3"
      ],
      "execution_count": null,
      "outputs": [
        {
          "output_type": "execute_result",
          "data": {
            "text/plain": [
              "[[0, 2],\n",
              " [1, 2],\n",
              " [2, 2],\n",
              " [3, 2],\n",
              " [4, 1],\n",
              " [5, 0],\n",
              " [6, 1],\n",
              " [7, 2],\n",
              " [8, 1],\n",
              " [9, 1],\n",
              " [10, 0],\n",
              " [11, 2],\n",
              " [12, 2],\n",
              " [13, 2],\n",
              " [14, 0],\n",
              " [15, 0],\n",
              " [16, 1],\n",
              " [17, 0],\n",
              " [18, 0],\n",
              " [19, 0],\n",
              " [20, 1],\n",
              " [21, 1],\n",
              " [22, 0],\n",
              " [23, 0],\n",
              " [24, 0],\n",
              " [25, 1],\n",
              " [26, 1],\n",
              " [27, 0],\n",
              " [28, 1],\n",
              " [29, 2],\n",
              " [30, 2],\n",
              " [31, 2],\n",
              " [32, 1],\n",
              " [33, 1],\n",
              " [34, 1],\n",
              " [35, 0],\n",
              " [36, 0],\n",
              " [37, 2],\n",
              " [38, 1],\n",
              " [39, 0],\n",
              " [40, 0],\n",
              " [41, 2],\n",
              " [42, 1],\n",
              " [43, 1],\n",
              " [44, 2]]"
            ]
          },
          "metadata": {
            "tags": []
          },
          "execution_count": 838
        }
      ]
    },
    {
      "cell_type": "markdown",
      "metadata": {
        "id": "l0-yDdcF9lTa"
      },
      "source": [
        "Second column represent predicted Y_label"
      ]
    },
    {
      "cell_type": "code",
      "metadata": {
        "colab": {
          "base_uri": "https://localhost:8080/"
        },
        "id": "GvHHKqly70Jz",
        "outputId": "98eaf7fd-1914-420f-effd-41e3697f91ab"
      },
      "source": [
        "y_label=[]\n",
        "for i in prob3:\n",
        "  y_label.append(i[1])\n",
        "y_label=np.array(y_label)\n",
        "y_label"
      ],
      "execution_count": null,
      "outputs": [
        {
          "output_type": "execute_result",
          "data": {
            "text/plain": [
              "array([2, 2, 2, 2, 1, 0, 1, 2, 1, 1, 0, 2, 2, 2, 0, 0, 1, 0, 0, 0, 1, 1,\n",
              "       0, 0, 0, 1, 1, 0, 1, 2, 2, 2, 1, 1, 1, 0, 0, 2, 1, 0, 0, 2, 1, 1,\n",
              "       2])"
            ]
          },
          "metadata": {
            "tags": []
          },
          "execution_count": 839
        }
      ]
    },
    {
      "cell_type": "code",
      "metadata": {
        "colab": {
          "base_uri": "https://localhost:8080/"
        },
        "id": "-9ZoLjQB8FUO",
        "outputId": "8d4eb000-5f92-432c-9de2-0e0129f2f104"
      },
      "source": [
        "from sklearn.metrics import accuracy_score\n",
        "from sklearn.metrics import classification_report, confusion_matrix\n",
        "\n",
        "print(classification_report(y_test,y_label))\n",
        "accuracy_score(y_test,y_label)"
      ],
      "execution_count": null,
      "outputs": [
        {
          "output_type": "stream",
          "text": [
            "              precision    recall  f1-score   support\n",
            "\n",
            "         0.0       1.00      1.00      1.00        15\n",
            "         1.0       0.94      1.00      0.97        15\n",
            "         2.0       1.00      0.93      0.97        15\n",
            "\n",
            "    accuracy                           0.98        45\n",
            "   macro avg       0.98      0.98      0.98        45\n",
            "weighted avg       0.98      0.98      0.98        45\n",
            "\n"
          ],
          "name": "stdout"
        },
        {
          "output_type": "execute_result",
          "data": {
            "text/plain": [
              "0.9777777777777777"
            ]
          },
          "metadata": {
            "tags": []
          },
          "execution_count": 840
        }
      ]
    },
    {
      "cell_type": "code",
      "metadata": {
        "colab": {
          "base_uri": "https://localhost:8080/"
        },
        "id": "TAwjkP_w8PWj",
        "outputId": "2ddc8669-344e-4f2c-a8af-2a0126ef00ed"
      },
      "source": [
        "confusion_matrix(y_test,y_label)"
      ],
      "execution_count": null,
      "outputs": [
        {
          "output_type": "execute_result",
          "data": {
            "text/plain": [
              "array([[15,  0,  0],\n",
              "       [ 0, 15,  0],\n",
              "       [ 0,  1, 14]])"
            ]
          },
          "metadata": {
            "tags": []
          },
          "execution_count": 841
        }
      ]
    },
    {
      "cell_type": "markdown",
      "metadata": {
        "id": "NpNiWQd3nnMU"
      },
      "source": [
        "Built-in"
      ]
    },
    {
      "cell_type": "code",
      "metadata": {
        "id": "OJLkgIuy1DtB"
      },
      "source": [
        "from sklearn.naive_bayes import GaussianNB\n",
        "clf = GaussianNB()"
      ],
      "execution_count": null,
      "outputs": []
    },
    {
      "cell_type": "code",
      "metadata": {
        "colab": {
          "base_uri": "https://localhost:8080/"
        },
        "id": "a8JjGdE-1GVp",
        "outputId": "f2125023-e704-44b7-b207-ba03d354af10"
      },
      "source": [
        "clf.fit(X_train,y_train)"
      ],
      "execution_count": null,
      "outputs": [
        {
          "output_type": "execute_result",
          "data": {
            "text/plain": [
              "GaussianNB(priors=None, var_smoothing=1e-09)"
            ]
          },
          "metadata": {
            "tags": []
          },
          "execution_count": 843
        }
      ]
    },
    {
      "cell_type": "code",
      "metadata": {
        "colab": {
          "base_uri": "https://localhost:8080/"
        },
        "id": "Gdm5GG7O1K_x",
        "outputId": "5c137f3f-e03f-47c1-e77f-706d02fe5377"
      },
      "source": [
        "y_pred = clf.predict(X_test)\n",
        "y_pred"
      ],
      "execution_count": null,
      "outputs": [
        {
          "output_type": "execute_result",
          "data": {
            "text/plain": [
              "array([2., 2., 2., 2., 1., 0., 1., 2., 1., 1., 0., 2., 2., 2., 0., 0., 1.,\n",
              "       0., 0., 0., 1., 1., 0., 0., 0., 1., 1., 0., 1., 2., 2., 2., 1., 1.,\n",
              "       1., 0., 0., 2., 1., 0., 0., 2., 1., 1., 2.])"
            ]
          },
          "metadata": {
            "tags": []
          },
          "execution_count": 844
        }
      ]
    },
    {
      "cell_type": "code",
      "metadata": {
        "colab": {
          "base_uri": "https://localhost:8080/"
        },
        "id": "lvXV4iLd1f9y",
        "outputId": "7fb0bb5d-ae82-4684-f151-85fa36d28295"
      },
      "source": [
        "from sklearn.metrics import accuracy_score\n",
        "from sklearn.metrics import classification_report, confusion_matrix\n",
        "\n",
        "print(classification_report(y_test,y_pred))\n",
        "accuracy_score(y_test,y_pred)"
      ],
      "execution_count": null,
      "outputs": [
        {
          "output_type": "stream",
          "text": [
            "              precision    recall  f1-score   support\n",
            "\n",
            "         0.0       1.00      1.00      1.00        15\n",
            "         1.0       0.94      1.00      0.97        15\n",
            "         2.0       1.00      0.93      0.97        15\n",
            "\n",
            "    accuracy                           0.98        45\n",
            "   macro avg       0.98      0.98      0.98        45\n",
            "weighted avg       0.98      0.98      0.98        45\n",
            "\n"
          ],
          "name": "stdout"
        },
        {
          "output_type": "execute_result",
          "data": {
            "text/plain": [
              "0.9777777777777777"
            ]
          },
          "metadata": {
            "tags": []
          },
          "execution_count": 845
        }
      ]
    },
    {
      "cell_type": "code",
      "metadata": {
        "colab": {
          "base_uri": "https://localhost:8080/"
        },
        "id": "xIzq45hG1mP2",
        "outputId": "202c6d6a-8844-416b-bebd-f3809f53077a"
      },
      "source": [
        "confusion_matrix(y_test,y_pred)"
      ],
      "execution_count": null,
      "outputs": [
        {
          "output_type": "execute_result",
          "data": {
            "text/plain": [
              "array([[15,  0,  0],\n",
              "       [ 0, 15,  0],\n",
              "       [ 0,  1, 14]])"
            ]
          },
          "metadata": {
            "tags": []
          },
          "execution_count": 846
        }
      ]
    },
    {
      "cell_type": "markdown",
      "metadata": {
        "id": "uq2QcDO55Wfq"
      },
      "source": [
        "#Q3"
      ]
    },
    {
      "cell_type": "code",
      "metadata": {
        "colab": {
          "base_uri": "https://localhost:8080/"
        },
        "id": "MkJKwNCU5Xea",
        "outputId": "2ce5f148-7682-4d67-d53c-3d4ea9be8246"
      },
      "source": [
        "from sklearn import datasets\n",
        "dataset=datasets.load_iris()\n",
        "dataset"
      ],
      "execution_count": null,
      "outputs": [
        {
          "output_type": "execute_result",
          "data": {
            "text/plain": [
              "{'DESCR': '.. _iris_dataset:\\n\\nIris plants dataset\\n--------------------\\n\\n**Data Set Characteristics:**\\n\\n    :Number of Instances: 150 (50 in each of three classes)\\n    :Number of Attributes: 4 numeric, predictive attributes and the class\\n    :Attribute Information:\\n        - sepal length in cm\\n        - sepal width in cm\\n        - petal length in cm\\n        - petal width in cm\\n        - class:\\n                - Iris-Setosa\\n                - Iris-Versicolour\\n                - Iris-Virginica\\n                \\n    :Summary Statistics:\\n\\n    ============== ==== ==== ======= ===== ====================\\n                    Min  Max   Mean    SD   Class Correlation\\n    ============== ==== ==== ======= ===== ====================\\n    sepal length:   4.3  7.9   5.84   0.83    0.7826\\n    sepal width:    2.0  4.4   3.05   0.43   -0.4194\\n    petal length:   1.0  6.9   3.76   1.76    0.9490  (high!)\\n    petal width:    0.1  2.5   1.20   0.76    0.9565  (high!)\\n    ============== ==== ==== ======= ===== ====================\\n\\n    :Missing Attribute Values: None\\n    :Class Distribution: 33.3% for each of 3 classes.\\n    :Creator: R.A. Fisher\\n    :Donor: Michael Marshall (MARSHALL%PLU@io.arc.nasa.gov)\\n    :Date: July, 1988\\n\\nThe famous Iris database, first used by Sir R.A. Fisher. The dataset is taken\\nfrom Fisher\\'s paper. Note that it\\'s the same as in R, but not as in the UCI\\nMachine Learning Repository, which has two wrong data points.\\n\\nThis is perhaps the best known database to be found in the\\npattern recognition literature.  Fisher\\'s paper is a classic in the field and\\nis referenced frequently to this day.  (See Duda & Hart, for example.)  The\\ndata set contains 3 classes of 50 instances each, where each class refers to a\\ntype of iris plant.  One class is linearly separable from the other 2; the\\nlatter are NOT linearly separable from each other.\\n\\n.. topic:: References\\n\\n   - Fisher, R.A. \"The use of multiple measurements in taxonomic problems\"\\n     Annual Eugenics, 7, Part II, 179-188 (1936); also in \"Contributions to\\n     Mathematical Statistics\" (John Wiley, NY, 1950).\\n   - Duda, R.O., & Hart, P.E. (1973) Pattern Classification and Scene Analysis.\\n     (Q327.D83) John Wiley & Sons.  ISBN 0-471-22361-1.  See page 218.\\n   - Dasarathy, B.V. (1980) \"Nosing Around the Neighborhood: A New System\\n     Structure and Classification Rule for Recognition in Partially Exposed\\n     Environments\".  IEEE Transactions on Pattern Analysis and Machine\\n     Intelligence, Vol. PAMI-2, No. 1, 67-71.\\n   - Gates, G.W. (1972) \"The Reduced Nearest Neighbor Rule\".  IEEE Transactions\\n     on Information Theory, May 1972, 431-433.\\n   - See also: 1988 MLC Proceedings, 54-64.  Cheeseman et al\"s AUTOCLASS II\\n     conceptual clustering system finds 3 classes in the data.\\n   - Many, many more ...',\n",
              " 'data': array([[5.1, 3.5, 1.4, 0.2],\n",
              "        [4.9, 3. , 1.4, 0.2],\n",
              "        [4.7, 3.2, 1.3, 0.2],\n",
              "        [4.6, 3.1, 1.5, 0.2],\n",
              "        [5. , 3.6, 1.4, 0.2],\n",
              "        [5.4, 3.9, 1.7, 0.4],\n",
              "        [4.6, 3.4, 1.4, 0.3],\n",
              "        [5. , 3.4, 1.5, 0.2],\n",
              "        [4.4, 2.9, 1.4, 0.2],\n",
              "        [4.9, 3.1, 1.5, 0.1],\n",
              "        [5.4, 3.7, 1.5, 0.2],\n",
              "        [4.8, 3.4, 1.6, 0.2],\n",
              "        [4.8, 3. , 1.4, 0.1],\n",
              "        [4.3, 3. , 1.1, 0.1],\n",
              "        [5.8, 4. , 1.2, 0.2],\n",
              "        [5.7, 4.4, 1.5, 0.4],\n",
              "        [5.4, 3.9, 1.3, 0.4],\n",
              "        [5.1, 3.5, 1.4, 0.3],\n",
              "        [5.7, 3.8, 1.7, 0.3],\n",
              "        [5.1, 3.8, 1.5, 0.3],\n",
              "        [5.4, 3.4, 1.7, 0.2],\n",
              "        [5.1, 3.7, 1.5, 0.4],\n",
              "        [4.6, 3.6, 1. , 0.2],\n",
              "        [5.1, 3.3, 1.7, 0.5],\n",
              "        [4.8, 3.4, 1.9, 0.2],\n",
              "        [5. , 3. , 1.6, 0.2],\n",
              "        [5. , 3.4, 1.6, 0.4],\n",
              "        [5.2, 3.5, 1.5, 0.2],\n",
              "        [5.2, 3.4, 1.4, 0.2],\n",
              "        [4.7, 3.2, 1.6, 0.2],\n",
              "        [4.8, 3.1, 1.6, 0.2],\n",
              "        [5.4, 3.4, 1.5, 0.4],\n",
              "        [5.2, 4.1, 1.5, 0.1],\n",
              "        [5.5, 4.2, 1.4, 0.2],\n",
              "        [4.9, 3.1, 1.5, 0.2],\n",
              "        [5. , 3.2, 1.2, 0.2],\n",
              "        [5.5, 3.5, 1.3, 0.2],\n",
              "        [4.9, 3.6, 1.4, 0.1],\n",
              "        [4.4, 3. , 1.3, 0.2],\n",
              "        [5.1, 3.4, 1.5, 0.2],\n",
              "        [5. , 3.5, 1.3, 0.3],\n",
              "        [4.5, 2.3, 1.3, 0.3],\n",
              "        [4.4, 3.2, 1.3, 0.2],\n",
              "        [5. , 3.5, 1.6, 0.6],\n",
              "        [5.1, 3.8, 1.9, 0.4],\n",
              "        [4.8, 3. , 1.4, 0.3],\n",
              "        [5.1, 3.8, 1.6, 0.2],\n",
              "        [4.6, 3.2, 1.4, 0.2],\n",
              "        [5.3, 3.7, 1.5, 0.2],\n",
              "        [5. , 3.3, 1.4, 0.2],\n",
              "        [7. , 3.2, 4.7, 1.4],\n",
              "        [6.4, 3.2, 4.5, 1.5],\n",
              "        [6.9, 3.1, 4.9, 1.5],\n",
              "        [5.5, 2.3, 4. , 1.3],\n",
              "        [6.5, 2.8, 4.6, 1.5],\n",
              "        [5.7, 2.8, 4.5, 1.3],\n",
              "        [6.3, 3.3, 4.7, 1.6],\n",
              "        [4.9, 2.4, 3.3, 1. ],\n",
              "        [6.6, 2.9, 4.6, 1.3],\n",
              "        [5.2, 2.7, 3.9, 1.4],\n",
              "        [5. , 2. , 3.5, 1. ],\n",
              "        [5.9, 3. , 4.2, 1.5],\n",
              "        [6. , 2.2, 4. , 1. ],\n",
              "        [6.1, 2.9, 4.7, 1.4],\n",
              "        [5.6, 2.9, 3.6, 1.3],\n",
              "        [6.7, 3.1, 4.4, 1.4],\n",
              "        [5.6, 3. , 4.5, 1.5],\n",
              "        [5.8, 2.7, 4.1, 1. ],\n",
              "        [6.2, 2.2, 4.5, 1.5],\n",
              "        [5.6, 2.5, 3.9, 1.1],\n",
              "        [5.9, 3.2, 4.8, 1.8],\n",
              "        [6.1, 2.8, 4. , 1.3],\n",
              "        [6.3, 2.5, 4.9, 1.5],\n",
              "        [6.1, 2.8, 4.7, 1.2],\n",
              "        [6.4, 2.9, 4.3, 1.3],\n",
              "        [6.6, 3. , 4.4, 1.4],\n",
              "        [6.8, 2.8, 4.8, 1.4],\n",
              "        [6.7, 3. , 5. , 1.7],\n",
              "        [6. , 2.9, 4.5, 1.5],\n",
              "        [5.7, 2.6, 3.5, 1. ],\n",
              "        [5.5, 2.4, 3.8, 1.1],\n",
              "        [5.5, 2.4, 3.7, 1. ],\n",
              "        [5.8, 2.7, 3.9, 1.2],\n",
              "        [6. , 2.7, 5.1, 1.6],\n",
              "        [5.4, 3. , 4.5, 1.5],\n",
              "        [6. , 3.4, 4.5, 1.6],\n",
              "        [6.7, 3.1, 4.7, 1.5],\n",
              "        [6.3, 2.3, 4.4, 1.3],\n",
              "        [5.6, 3. , 4.1, 1.3],\n",
              "        [5.5, 2.5, 4. , 1.3],\n",
              "        [5.5, 2.6, 4.4, 1.2],\n",
              "        [6.1, 3. , 4.6, 1.4],\n",
              "        [5.8, 2.6, 4. , 1.2],\n",
              "        [5. , 2.3, 3.3, 1. ],\n",
              "        [5.6, 2.7, 4.2, 1.3],\n",
              "        [5.7, 3. , 4.2, 1.2],\n",
              "        [5.7, 2.9, 4.2, 1.3],\n",
              "        [6.2, 2.9, 4.3, 1.3],\n",
              "        [5.1, 2.5, 3. , 1.1],\n",
              "        [5.7, 2.8, 4.1, 1.3],\n",
              "        [6.3, 3.3, 6. , 2.5],\n",
              "        [5.8, 2.7, 5.1, 1.9],\n",
              "        [7.1, 3. , 5.9, 2.1],\n",
              "        [6.3, 2.9, 5.6, 1.8],\n",
              "        [6.5, 3. , 5.8, 2.2],\n",
              "        [7.6, 3. , 6.6, 2.1],\n",
              "        [4.9, 2.5, 4.5, 1.7],\n",
              "        [7.3, 2.9, 6.3, 1.8],\n",
              "        [6.7, 2.5, 5.8, 1.8],\n",
              "        [7.2, 3.6, 6.1, 2.5],\n",
              "        [6.5, 3.2, 5.1, 2. ],\n",
              "        [6.4, 2.7, 5.3, 1.9],\n",
              "        [6.8, 3. , 5.5, 2.1],\n",
              "        [5.7, 2.5, 5. , 2. ],\n",
              "        [5.8, 2.8, 5.1, 2.4],\n",
              "        [6.4, 3.2, 5.3, 2.3],\n",
              "        [6.5, 3. , 5.5, 1.8],\n",
              "        [7.7, 3.8, 6.7, 2.2],\n",
              "        [7.7, 2.6, 6.9, 2.3],\n",
              "        [6. , 2.2, 5. , 1.5],\n",
              "        [6.9, 3.2, 5.7, 2.3],\n",
              "        [5.6, 2.8, 4.9, 2. ],\n",
              "        [7.7, 2.8, 6.7, 2. ],\n",
              "        [6.3, 2.7, 4.9, 1.8],\n",
              "        [6.7, 3.3, 5.7, 2.1],\n",
              "        [7.2, 3.2, 6. , 1.8],\n",
              "        [6.2, 2.8, 4.8, 1.8],\n",
              "        [6.1, 3. , 4.9, 1.8],\n",
              "        [6.4, 2.8, 5.6, 2.1],\n",
              "        [7.2, 3. , 5.8, 1.6],\n",
              "        [7.4, 2.8, 6.1, 1.9],\n",
              "        [7.9, 3.8, 6.4, 2. ],\n",
              "        [6.4, 2.8, 5.6, 2.2],\n",
              "        [6.3, 2.8, 5.1, 1.5],\n",
              "        [6.1, 2.6, 5.6, 1.4],\n",
              "        [7.7, 3. , 6.1, 2.3],\n",
              "        [6.3, 3.4, 5.6, 2.4],\n",
              "        [6.4, 3.1, 5.5, 1.8],\n",
              "        [6. , 3. , 4.8, 1.8],\n",
              "        [6.9, 3.1, 5.4, 2.1],\n",
              "        [6.7, 3.1, 5.6, 2.4],\n",
              "        [6.9, 3.1, 5.1, 2.3],\n",
              "        [5.8, 2.7, 5.1, 1.9],\n",
              "        [6.8, 3.2, 5.9, 2.3],\n",
              "        [6.7, 3.3, 5.7, 2.5],\n",
              "        [6.7, 3. , 5.2, 2.3],\n",
              "        [6.3, 2.5, 5. , 1.9],\n",
              "        [6.5, 3. , 5.2, 2. ],\n",
              "        [6.2, 3.4, 5.4, 2.3],\n",
              "        [5.9, 3. , 5.1, 1.8]]),\n",
              " 'feature_names': ['sepal length (cm)',\n",
              "  'sepal width (cm)',\n",
              "  'petal length (cm)',\n",
              "  'petal width (cm)'],\n",
              " 'filename': '/usr/local/lib/python3.7/dist-packages/sklearn/datasets/data/iris.csv',\n",
              " 'target': array([0, 0, 0, 0, 0, 0, 0, 0, 0, 0, 0, 0, 0, 0, 0, 0, 0, 0, 0, 0, 0, 0,\n",
              "        0, 0, 0, 0, 0, 0, 0, 0, 0, 0, 0, 0, 0, 0, 0, 0, 0, 0, 0, 0, 0, 0,\n",
              "        0, 0, 0, 0, 0, 0, 1, 1, 1, 1, 1, 1, 1, 1, 1, 1, 1, 1, 1, 1, 1, 1,\n",
              "        1, 1, 1, 1, 1, 1, 1, 1, 1, 1, 1, 1, 1, 1, 1, 1, 1, 1, 1, 1, 1, 1,\n",
              "        1, 1, 1, 1, 1, 1, 1, 1, 1, 1, 1, 1, 2, 2, 2, 2, 2, 2, 2, 2, 2, 2,\n",
              "        2, 2, 2, 2, 2, 2, 2, 2, 2, 2, 2, 2, 2, 2, 2, 2, 2, 2, 2, 2, 2, 2,\n",
              "        2, 2, 2, 2, 2, 2, 2, 2, 2, 2, 2, 2, 2, 2, 2, 2, 2, 2]),\n",
              " 'target_names': array(['setosa', 'versicolor', 'virginica'], dtype='<U10')}"
            ]
          },
          "metadata": {
            "tags": []
          },
          "execution_count": 801
        }
      ]
    },
    {
      "cell_type": "code",
      "metadata": {
        "id": "P4rBo6Rw5cDd"
      },
      "source": [
        "dataset=pd.DataFrame(data= np.c_[dataset['data'], dataset['target']],\n",
        "                     columns= dataset['feature_names'] + ['target'])"
      ],
      "execution_count": null,
      "outputs": []
    },
    {
      "cell_type": "code",
      "metadata": {
        "colab": {
          "base_uri": "https://localhost:8080/",
          "height": 419
        },
        "id": "_7IRxXxW5gVn",
        "outputId": "5c3fd9e8-85af-4498-de80-fbd53a4c5158"
      },
      "source": [
        "X=dataset.iloc[:,:-1]\n",
        "X"
      ],
      "execution_count": null,
      "outputs": [
        {
          "output_type": "execute_result",
          "data": {
            "text/html": [
              "<div>\n",
              "<style scoped>\n",
              "    .dataframe tbody tr th:only-of-type {\n",
              "        vertical-align: middle;\n",
              "    }\n",
              "\n",
              "    .dataframe tbody tr th {\n",
              "        vertical-align: top;\n",
              "    }\n",
              "\n",
              "    .dataframe thead th {\n",
              "        text-align: right;\n",
              "    }\n",
              "</style>\n",
              "<table border=\"1\" class=\"dataframe\">\n",
              "  <thead>\n",
              "    <tr style=\"text-align: right;\">\n",
              "      <th></th>\n",
              "      <th>sepal length (cm)</th>\n",
              "      <th>sepal width (cm)</th>\n",
              "      <th>petal length (cm)</th>\n",
              "      <th>petal width (cm)</th>\n",
              "    </tr>\n",
              "  </thead>\n",
              "  <tbody>\n",
              "    <tr>\n",
              "      <th>0</th>\n",
              "      <td>5.1</td>\n",
              "      <td>3.5</td>\n",
              "      <td>1.4</td>\n",
              "      <td>0.2</td>\n",
              "    </tr>\n",
              "    <tr>\n",
              "      <th>1</th>\n",
              "      <td>4.9</td>\n",
              "      <td>3.0</td>\n",
              "      <td>1.4</td>\n",
              "      <td>0.2</td>\n",
              "    </tr>\n",
              "    <tr>\n",
              "      <th>2</th>\n",
              "      <td>4.7</td>\n",
              "      <td>3.2</td>\n",
              "      <td>1.3</td>\n",
              "      <td>0.2</td>\n",
              "    </tr>\n",
              "    <tr>\n",
              "      <th>3</th>\n",
              "      <td>4.6</td>\n",
              "      <td>3.1</td>\n",
              "      <td>1.5</td>\n",
              "      <td>0.2</td>\n",
              "    </tr>\n",
              "    <tr>\n",
              "      <th>4</th>\n",
              "      <td>5.0</td>\n",
              "      <td>3.6</td>\n",
              "      <td>1.4</td>\n",
              "      <td>0.2</td>\n",
              "    </tr>\n",
              "    <tr>\n",
              "      <th>...</th>\n",
              "      <td>...</td>\n",
              "      <td>...</td>\n",
              "      <td>...</td>\n",
              "      <td>...</td>\n",
              "    </tr>\n",
              "    <tr>\n",
              "      <th>145</th>\n",
              "      <td>6.7</td>\n",
              "      <td>3.0</td>\n",
              "      <td>5.2</td>\n",
              "      <td>2.3</td>\n",
              "    </tr>\n",
              "    <tr>\n",
              "      <th>146</th>\n",
              "      <td>6.3</td>\n",
              "      <td>2.5</td>\n",
              "      <td>5.0</td>\n",
              "      <td>1.9</td>\n",
              "    </tr>\n",
              "    <tr>\n",
              "      <th>147</th>\n",
              "      <td>6.5</td>\n",
              "      <td>3.0</td>\n",
              "      <td>5.2</td>\n",
              "      <td>2.0</td>\n",
              "    </tr>\n",
              "    <tr>\n",
              "      <th>148</th>\n",
              "      <td>6.2</td>\n",
              "      <td>3.4</td>\n",
              "      <td>5.4</td>\n",
              "      <td>2.3</td>\n",
              "    </tr>\n",
              "    <tr>\n",
              "      <th>149</th>\n",
              "      <td>5.9</td>\n",
              "      <td>3.0</td>\n",
              "      <td>5.1</td>\n",
              "      <td>1.8</td>\n",
              "    </tr>\n",
              "  </tbody>\n",
              "</table>\n",
              "<p>150 rows × 4 columns</p>\n",
              "</div>"
            ],
            "text/plain": [
              "     sepal length (cm)  sepal width (cm)  petal length (cm)  petal width (cm)\n",
              "0                  5.1               3.5                1.4               0.2\n",
              "1                  4.9               3.0                1.4               0.2\n",
              "2                  4.7               3.2                1.3               0.2\n",
              "3                  4.6               3.1                1.5               0.2\n",
              "4                  5.0               3.6                1.4               0.2\n",
              "..                 ...               ...                ...               ...\n",
              "145                6.7               3.0                5.2               2.3\n",
              "146                6.3               2.5                5.0               1.9\n",
              "147                6.5               3.0                5.2               2.0\n",
              "148                6.2               3.4                5.4               2.3\n",
              "149                5.9               3.0                5.1               1.8\n",
              "\n",
              "[150 rows x 4 columns]"
            ]
          },
          "metadata": {
            "tags": []
          },
          "execution_count": 803
        }
      ]
    },
    {
      "cell_type": "code",
      "metadata": {
        "colab": {
          "base_uri": "https://localhost:8080/"
        },
        "id": "MtzOC5Ev5hYX",
        "outputId": "5691fe0c-6522-450f-bbc7-df94b72c8b88"
      },
      "source": [
        "y=dataset.iloc[:,-1]\n",
        "y"
      ],
      "execution_count": null,
      "outputs": [
        {
          "output_type": "execute_result",
          "data": {
            "text/plain": [
              "0      0.0\n",
              "1      0.0\n",
              "2      0.0\n",
              "3      0.0\n",
              "4      0.0\n",
              "      ... \n",
              "145    2.0\n",
              "146    2.0\n",
              "147    2.0\n",
              "148    2.0\n",
              "149    2.0\n",
              "Name: target, Length: 150, dtype: float64"
            ]
          },
          "metadata": {
            "tags": []
          },
          "execution_count": 804
        }
      ]
    },
    {
      "cell_type": "code",
      "metadata": {
        "id": "_rtrDHd_5ksx"
      },
      "source": [
        "from sklearn.model_selection import GridSearchCV"
      ],
      "execution_count": null,
      "outputs": []
    },
    {
      "cell_type": "code",
      "metadata": {
        "colab": {
          "base_uri": "https://localhost:8080/"
        },
        "id": "OKrq_BB0538d",
        "outputId": "9d50f35d-1407-4f0d-bbf4-3c18a5f380e9"
      },
      "source": [
        "k_range = list(range(1, 31))\n",
        "print(k_range)"
      ],
      "execution_count": null,
      "outputs": [
        {
          "output_type": "stream",
          "text": [
            "[1, 2, 3, 4, 5, 6, 7, 8, 9, 10, 11, 12, 13, 14, 15, 16, 17, 18, 19, 20, 21, 22, 23, 24, 25, 26, 27, 28, 29, 30]\n"
          ],
          "name": "stdout"
        }
      ]
    },
    {
      "cell_type": "code",
      "metadata": {
        "colab": {
          "base_uri": "https://localhost:8080/"
        },
        "id": "Z9dAAkzs6JID",
        "outputId": "a631d70e-0deb-4de9-af94-67178d3963a9"
      },
      "source": [
        "param_grid = dict(n_neighbors=k_range)\n",
        "print(param_grid)"
      ],
      "execution_count": null,
      "outputs": [
        {
          "output_type": "stream",
          "text": [
            "{'n_neighbors': [1, 2, 3, 4, 5, 6, 7, 8, 9, 10, 11, 12, 13, 14, 15, 16, 17, 18, 19, 20, 21, 22, 23, 24, 25, 26, 27, 28, 29, 30]}\n"
          ],
          "name": "stdout"
        }
      ]
    },
    {
      "cell_type": "code",
      "metadata": {
        "colab": {
          "base_uri": "https://localhost:8080/"
        },
        "id": "pU6U6Eap6M4Y",
        "outputId": "85ac7e4e-fd80-4015-b780-d744d6c43050"
      },
      "source": [
        "from sklearn.neighbors import KNeighborsClassifier\n",
        "knn = KNeighborsClassifier()\n",
        "grid = GridSearchCV(knn, param_grid, cv=10, scoring='accuracy', return_train_score=False)\n",
        "grid.fit(X, y)"
      ],
      "execution_count": null,
      "outputs": [
        {
          "output_type": "execute_result",
          "data": {
            "text/plain": [
              "GridSearchCV(cv=10, error_score=nan,\n",
              "             estimator=KNeighborsClassifier(algorithm='auto', leaf_size=30,\n",
              "                                            metric='minkowski',\n",
              "                                            metric_params=None, n_jobs=None,\n",
              "                                            n_neighbors=5, p=2,\n",
              "                                            weights='uniform'),\n",
              "             iid='deprecated', n_jobs=None,\n",
              "             param_grid={'n_neighbors': [1, 2, 3, 4, 5, 6, 7, 8, 9, 10, 11, 12,\n",
              "                                         13, 14, 15, 16, 17, 18, 19, 20, 21, 22,\n",
              "                                         23, 24, 25, 26, 27, 28, 29, 30]},\n",
              "             pre_dispatch='2*n_jobs', refit=True, return_train_score=False,\n",
              "             scoring='accuracy', verbose=0)"
            ]
          },
          "metadata": {
            "tags": []
          },
          "execution_count": 808
        }
      ]
    },
    {
      "cell_type": "code",
      "metadata": {
        "colab": {
          "base_uri": "https://localhost:8080/"
        },
        "id": "9bgEUsz36kg1",
        "outputId": "178a8f67-43e3-4732-ec0b-cd30a4f11e83"
      },
      "source": [
        "grid_mean_scores = grid.cv_results_['mean_test_score']\n",
        "print(grid_mean_scores)"
      ],
      "execution_count": null,
      "outputs": [
        {
          "output_type": "stream",
          "text": [
            "[0.96       0.95333333 0.96666667 0.96666667 0.96666667 0.96666667\n",
            " 0.96666667 0.96666667 0.97333333 0.96666667 0.96666667 0.97333333\n",
            " 0.98       0.97333333 0.97333333 0.97333333 0.97333333 0.98\n",
            " 0.97333333 0.98       0.96666667 0.96666667 0.97333333 0.96\n",
            " 0.96666667 0.96       0.96666667 0.95333333 0.95333333 0.95333333]\n"
          ],
          "name": "stdout"
        }
      ]
    },
    {
      "cell_type": "code",
      "metadata": {
        "colab": {
          "base_uri": "https://localhost:8080/",
          "height": 296
        },
        "id": "Z2b2-HKm6lnH",
        "outputId": "a1746c2c-0d9f-4102-f453-c158dbec7196"
      },
      "source": [
        "import matplotlib.pyplot as plt\n",
        "plt.plot(k_range, grid_mean_scores)\n",
        "plt.xlabel('Value of K for KNN')\n",
        "plt.ylabel('Cross-Validated Accuracy')"
      ],
      "execution_count": null,
      "outputs": [
        {
          "output_type": "execute_result",
          "data": {
            "text/plain": [
              "Text(0, 0.5, 'Cross-Validated Accuracy')"
            ]
          },
          "metadata": {
            "tags": []
          },
          "execution_count": 810
        },
        {
          "output_type": "display_data",
          "data": {
            "image/png": "[encoded data removed]",
            "text/plain": [
              "<Figure size 432x288 with 1 Axes>"
            ]
          },
          "metadata": {
            "tags": [],
            "needs_background": "light"
          }
        }
      ]
    },
    {
      "cell_type": "code",
      "metadata": {
        "colab": {
          "base_uri": "https://localhost:8080/"
        },
        "id": "TztF9M2C6uS0",
        "outputId": "4042036c-3803-4a10-9ba4-00e913e7efc2"
      },
      "source": [
        "print(\"best_score_: \",grid.best_score_)\n",
        "print(\"best_params_: \",grid.best_params_)\n",
        "print(\"best_estimator_: \",grid.best_estimator_)"
      ],
      "execution_count": null,
      "outputs": [
        {
          "output_type": "stream",
          "text": [
            "best_score_:  0.9800000000000001\n",
            "best_params_:  {'n_neighbors': 13}\n",
            "best_estimator_:  KNeighborsClassifier(algorithm='auto', leaf_size=30, metric='minkowski',\n",
            "                     metric_params=None, n_jobs=None, n_neighbors=13, p=2,\n",
            "                     weights='uniform')\n"
          ],
          "name": "stdout"
        }
      ]
    },
    {
      "cell_type": "code",
      "metadata": {
        "colab": {
          "base_uri": "https://localhost:8080/"
        },
        "id": "8r-QziaH658w",
        "outputId": "e656364d-4c3e-405d-a8d5-a2be33e900c1"
      },
      "source": [
        "from sklearn.model_selection import train_test_split\n",
        "X_train,X_test,Y_train,Y_test = train_test_split(X,y,test_size = 0.3, stratify=y,random_state=100)\n",
        "\n",
        "from sklearn.neighbors import KNeighborsClassifier\n",
        "\n",
        "classifier = KNeighborsClassifier(n_neighbors=13)\n",
        "classifier.fit(X_train, Y_train)\n",
        "y_pred = classifier.predict(X_test)\n",
        "y_pred = classifier.predict(X_test)\n",
        "from sklearn.metrics import classification_report, confusion_matrix\n",
        "print(confusion_matrix(Y_test, y_pred))\n",
        "print(classification_report(Y_test, y_pred))"
      ],
      "execution_count": null,
      "outputs": [
        {
          "output_type": "stream",
          "text": [
            "[[15  0  0]\n",
            " [ 0 15  0]\n",
            " [ 0  1 14]]\n",
            "              precision    recall  f1-score   support\n",
            "\n",
            "         0.0       1.00      1.00      1.00        15\n",
            "         1.0       0.94      1.00      0.97        15\n",
            "         2.0       1.00      0.93      0.97        15\n",
            "\n",
            "    accuracy                           0.98        45\n",
            "   macro avg       0.98      0.98      0.98        45\n",
            "weighted avg       0.98      0.98      0.98        45\n",
            "\n"
          ],
          "name": "stdout"
        }
      ]
    }
  ]
}