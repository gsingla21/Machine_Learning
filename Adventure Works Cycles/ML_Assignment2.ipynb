{
  "nbformat": 4,
  "nbformat_minor": 0,
  "metadata": {
    "colab": {
      "name": "ML Assignment2.ipynb",
      "provenance": [],
      "collapsed_sections": [],
      "toc_visible": true,
      "mount_file_id": "1hKIHp7jWIk0ckQoYWGF7a6zB5pYB_GIl",
      "authorship_tag": "ABX9TyP2p1Kphnzhntn2dFtjRwOb",
      "include_colab_link": true
    },
    "kernelspec": {
      "name": "python3",
      "display_name": "Python 3"
    }
  },
  "cells": [
    {
      "cell_type": "markdown",
      "metadata": {
        "id": "view-in-github",
        "colab_type": "text"
      },
      "source": [
        "<a href=\"https://colab.research.google.com/github/gsingla21/Machine_Learning/blob/main/Adventure%20Works%20Cycles/ML_Assignment2.ipynb\" target=\"_parent\"><img src=\"https://colab.research.google.com/assets/colab-badge.svg\" alt=\"Open In Colab\"/></a>"
      ]
    },
    {
      "cell_type": "code",
      "metadata": {
        "id": "VLb6VbQWLZ6U"
      },
      "source": [
        "import pandas as pd"
      ],
      "execution_count": null,
      "outputs": []
    },
    {
      "cell_type": "markdown",
      "metadata": {
        "id": "QkNGxQK03bPV"
      },
      "source": [
        "**DATASET loaded from google drive**"
      ]
    },
    {
      "cell_type": "code",
      "metadata": {
        "colab": {
          "base_uri": "https://localhost:8080/"
        },
        "id": "PR-N58toK2iL",
        "outputId": "5538ac40-e86d-4fae-be4a-636a136451bd"
      },
      "source": [
        "url='/content/drive/MyDrive/ML assignments/Assignment 2/Dataset/AWCustomers.csv'\n",
        "url2='/content/drive/MyDrive/ML assignments/Assignment 2/Dataset/AWSales.csv'\n",
        "customer=pd.read_csv(url)\n",
        "sales=pd.read_csv(url2)\n",
        "print(customer.columns)\n",
        "print(sales.columns)"
      ],
      "execution_count": null,
      "outputs": [
        {
          "output_type": "stream",
          "text": [
            "Index(['CustomerID', 'Title', 'FirstName', 'MiddleName', 'LastName', 'Suffix',\n",
            "       'AddressLine1', 'AddressLine2', 'City', 'StateProvinceName',\n",
            "       'CountryRegionName', 'PostalCode', 'PhoneNumber', 'BirthDate',\n",
            "       'Education', 'Occupation', 'Gender', 'MaritalStatus', 'HomeOwnerFlag',\n",
            "       'NumberCarsOwned', 'NumberChildrenAtHome', 'TotalChildren',\n",
            "       'YearlyIncome', 'LastUpdated'],\n",
            "      dtype='object')\n",
            "Index(['CustomerID', 'BikeBuyer', 'AvgMonthSpend'], dtype='object')\n"
          ],
          "name": "stdout"
        }
      ]
    },
    {
      "cell_type": "markdown",
      "metadata": {
        "id": "L-hO8J4G3hkP"
      },
      "source": [
        "**Drop Useless features**"
      ]
    },
    {
      "cell_type": "code",
      "metadata": {
        "id": "6op-xUjnU3d3"
      },
      "source": [
        "#drop list\n",
        "drop=[\"Title\",\"FirstName\",\"MiddleName\",\"LastName\",\"Suffix\",\"AddressLine1\",\"AddressLine2\",\"PostalCode\",\"PhoneNumber\", \"HomeOwnerFlag\"]\n",
        "\n",
        "customer.drop(axis=1,labels=drop,inplace=True)\n",
        "customer.reset_index(drop=True, inplace=True)"
      ],
      "execution_count": null,
      "outputs": []
    },
    {
      "cell_type": "markdown",
      "metadata": {
        "id": "xbr5ghpa3rvD"
      },
      "source": [
        "Check remaining features"
      ]
    },
    {
      "cell_type": "code",
      "metadata": {
        "colab": {
          "base_uri": "https://localhost:8080/"
        },
        "id": "YbZLByHTVheo",
        "outputId": "2f98ed7d-7b81-49c2-a9b6-8997b22912e7"
      },
      "source": [
        "#remaining entries\n",
        "print(customer.columns)\n",
        "print(len(customer))"
      ],
      "execution_count": null,
      "outputs": [
        {
          "output_type": "stream",
          "text": [
            "Index(['CustomerID', 'City', 'StateProvinceName', 'CountryRegionName',\n",
            "       'BirthDate', 'Education', 'Occupation', 'Gender', 'MaritalStatus',\n",
            "       'NumberCarsOwned', 'NumberChildrenAtHome', 'TotalChildren',\n",
            "       'YearlyIncome', 'LastUpdated'],\n",
            "      dtype='object')\n",
            "18361\n"
          ],
          "name": "stdout"
        }
      ]
    },
    {
      "cell_type": "markdown",
      "metadata": {
        "id": "51d74em33ypP"
      },
      "source": [
        "**2. DATA Pre-Processing**\n",
        "\n",
        "2.1 Drop duplicates"
      ]
    },
    {
      "cell_type": "code",
      "metadata": {
        "colab": {
          "base_uri": "https://localhost:8080/"
        },
        "id": "rXftn8AHVvmQ",
        "outputId": "30c65a98-56be-4b7d-f8dc-87e24452f2be"
      },
      "source": [
        "print(customer.drop_duplicates('CustomerID',keep='last'))\n",
        "print(sales.drop_duplicates('CustomerID',keep='last'))"
      ],
      "execution_count": null,
      "outputs": [
        {
          "output_type": "stream",
          "text": [
            "       CustomerID            City  ... YearlyIncome LastUpdated\n",
            "0           21173      Wollongong  ...        81916  2017-03-06\n",
            "1           13249         Shawnee  ...        81076  2017-03-06\n",
            "2           29350     West Covina  ...        86387  2017-03-06\n",
            "3           13503       Liverpool  ...        61481  2017-03-06\n",
            "4           22803           Werne  ...        51804  2017-03-06\n",
            "...           ...             ...  ...          ...         ...\n",
            "18356       25414        Coronado  ...        52953  2017-03-06\n",
            "18357       11459  Port Macquarie  ...        60992  2017-03-06\n",
            "18358       12160       Beaverton  ...        51859  2017-03-06\n",
            "18359       14353       Vancouver  ...        87177  2017-03-06\n",
            "18360       16676       Grossmont  ...       136856  2017-03-06\n",
            "\n",
            "[18355 rows x 14 columns]\n",
            "       CustomerID  BikeBuyer  AvgMonthSpend\n",
            "0           21173          1          50.97\n",
            "1           13249          1          53.11\n",
            "2           29350          1          54.08\n",
            "3           13503          1          56.93\n",
            "4           22803          1          55.41\n",
            "...           ...        ...            ...\n",
            "18350       25414          0          48.14\n",
            "18351       11459          1          50.23\n",
            "18352       12160          1          49.56\n",
            "18353       14353          0          51.42\n",
            "18354       16676          1          52.27\n",
            "\n",
            "[18355 rows x 3 columns]\n"
          ],
          "name": "stdout"
        }
      ]
    },
    {
      "cell_type": "markdown",
      "metadata": {
        "id": "-rnXMd5W44Lb"
      },
      "source": [
        "2.2 Merge Customer and sales dataset"
      ]
    },
    {
      "cell_type": "code",
      "metadata": {
        "id": "Mx65iEAeWRpv"
      },
      "source": [
        "dataset=pd.merge(customer,sales,on='CustomerID')"
      ],
      "execution_count": null,
      "outputs": []
    },
    {
      "cell_type": "markdown",
      "metadata": {
        "id": "Vc73qROB5Ic5"
      },
      "source": [
        "2.3 Again drop duplicates (just in case)"
      ]
    },
    {
      "cell_type": "code",
      "metadata": {
        "colab": {
          "base_uri": "https://localhost:8080/"
        },
        "id": "Zz_9ggiHgUSk",
        "outputId": "455c7d4b-5a9d-437c-8412-7eaeb96ff726"
      },
      "source": [
        "print(\"Before removing duplicates\",dataset)\n",
        "dataset=dataset.drop_duplicates('CustomerID',keep='last')\n",
        "print(\"After removing duplicates\",dataset)"
      ],
      "execution_count": null,
      "outputs": [
        {
          "output_type": "stream",
          "text": [
            "Before removing duplicates        CustomerID            City  ... BikeBuyer AvgMonthSpend\n",
            "0           21173      Wollongong  ...         1         50.97\n",
            "1           13249         Shawnee  ...         1         53.11\n",
            "2           29350     West Covina  ...         1         54.08\n",
            "3           13503       Liverpool  ...         1         56.93\n",
            "4           22803           Werne  ...         1         55.41\n",
            "...           ...             ...  ...       ...           ...\n",
            "18356       25414        Coronado  ...         0         48.14\n",
            "18357       11459  Port Macquarie  ...         1         50.23\n",
            "18358       12160       Beaverton  ...         1         49.56\n",
            "18359       14353       Vancouver  ...         0         51.42\n",
            "18360       16676       Grossmont  ...         1         52.27\n",
            "\n",
            "[18361 rows x 16 columns]\n",
            "After removing duplicates        CustomerID            City  ... BikeBuyer AvgMonthSpend\n",
            "0           21173      Wollongong  ...         1         50.97\n",
            "1           13249         Shawnee  ...         1         53.11\n",
            "2           29350     West Covina  ...         1         54.08\n",
            "3           13503       Liverpool  ...         1         56.93\n",
            "4           22803           Werne  ...         1         55.41\n",
            "...           ...             ...  ...       ...           ...\n",
            "18356       25414        Coronado  ...         0         48.14\n",
            "18357       11459  Port Macquarie  ...         1         50.23\n",
            "18358       12160       Beaverton  ...         1         49.56\n",
            "18359       14353       Vancouver  ...         0         51.42\n",
            "18360       16676       Grossmont  ...         1         52.27\n",
            "\n",
            "[18355 rows x 16 columns]\n"
          ],
          "name": "stdout"
        }
      ]
    },
    {
      "cell_type": "markdown",
      "metadata": {
        "id": "qxxqXnND5jlh"
      },
      "source": [
        "Get final feature names"
      ]
    },
    {
      "cell_type": "code",
      "metadata": {
        "colab": {
          "base_uri": "https://localhost:8080/"
        },
        "id": "F5V8jOaQXTFq",
        "outputId": "5f0f80a6-0a8d-40ce-a5d8-0e954045f9c2"
      },
      "source": [
        "print(dataset.columns)"
      ],
      "execution_count": null,
      "outputs": [
        {
          "output_type": "stream",
          "text": [
            "Index(['CustomerID', 'City', 'StateProvinceName', 'CountryRegionName',\n",
            "       'BirthDate', 'Education', 'Occupation', 'Gender', 'MaritalStatus',\n",
            "       'NumberCarsOwned', 'NumberChildrenAtHome', 'TotalChildren',\n",
            "       'YearlyIncome', 'LastUpdated', 'BikeBuyer', 'AvgMonthSpend'],\n",
            "      dtype='object')\n"
          ],
          "name": "stdout"
        }
      ]
    },
    {
      "cell_type": "markdown",
      "metadata": {
        "id": "x_44zKeCgl6t"
      },
      "source": [
        "2.4 Check for Null values"
      ]
    },
    {
      "cell_type": "code",
      "metadata": {
        "id": "4fRM5nBJZCR8"
      },
      "source": [
        "#Method 1\n",
        "for i in dataset.columns:\n",
        "  for j in pd.isna(dataset[i]):\n",
        "    if j==True:\n",
        "      print(pd.isna(dataset[i]))"
      ],
      "execution_count": null,
      "outputs": []
    },
    {
      "cell_type": "code",
      "metadata": {
        "colab": {
          "base_uri": "https://localhost:8080/"
        },
        "id": "UON2Oz6bcOyw",
        "outputId": "ecef2531-bca2-4a95-d3e3-e5373d0104a1"
      },
      "source": [
        "#Method 2\n",
        "import numpy as np\n",
        "(dataset.astype(np.object).isnull()).any()"
      ],
      "execution_count": null,
      "outputs": [
        {
          "output_type": "execute_result",
          "data": {
            "text/plain": [
              "CustomerID              False\n",
              "City                    False\n",
              "StateProvinceName       False\n",
              "CountryRegionName       False\n",
              "BirthDate               False\n",
              "Education               False\n",
              "Occupation              False\n",
              "Gender                  False\n",
              "MaritalStatus           False\n",
              "NumberCarsOwned         False\n",
              "NumberChildrenAtHome    False\n",
              "TotalChildren           False\n",
              "YearlyIncome            False\n",
              "LastUpdated             False\n",
              "BikeBuyer               False\n",
              "AvgMonthSpend           False\n",
              "dtype: bool"
            ]
          },
          "metadata": {
            "tags": []
          },
          "execution_count": 440
        }
      ]
    },
    {
      "cell_type": "markdown",
      "metadata": {
        "id": "3cQ8k4Ry5-GV"
      },
      "source": [
        "There is no Null value present to be dealt with."
      ]
    },
    {
      "cell_type": "markdown",
      "metadata": {
        "id": "W0bbvZ2B6LJm"
      },
      "source": [
        "Get information about dataset."
      ]
    },
    {
      "cell_type": "code",
      "metadata": {
        "id": "qu5TeI-o8YO4",
        "colab": {
          "base_uri": "https://localhost:8080/"
        },
        "outputId": "b416bfd6-670b-4301-c448-c2a8f9eb2487"
      },
      "source": [
        "print(dataset.info())\n",
        "print(dataset)"
      ],
      "execution_count": null,
      "outputs": [
        {
          "output_type": "stream",
          "text": [
            "<class 'pandas.core.frame.DataFrame'>\n",
            "Int64Index: 18355 entries, 0 to 18360\n",
            "Data columns (total 16 columns):\n",
            " #   Column                Non-Null Count  Dtype  \n",
            "---  ------                --------------  -----  \n",
            " 0   CustomerID            18355 non-null  int64  \n",
            " 1   City                  18355 non-null  object \n",
            " 2   StateProvinceName     18355 non-null  object \n",
            " 3   CountryRegionName     18355 non-null  object \n",
            " 4   BirthDate             18355 non-null  object \n",
            " 5   Education             18355 non-null  object \n",
            " 6   Occupation            18355 non-null  object \n",
            " 7   Gender                18355 non-null  object \n",
            " 8   MaritalStatus         18355 non-null  object \n",
            " 9   NumberCarsOwned       18355 non-null  int64  \n",
            " 10  NumberChildrenAtHome  18355 non-null  int64  \n",
            " 11  TotalChildren         18355 non-null  int64  \n",
            " 12  YearlyIncome          18355 non-null  int64  \n",
            " 13  LastUpdated           18355 non-null  object \n",
            " 14  BikeBuyer             18355 non-null  int64  \n",
            " 15  AvgMonthSpend         18355 non-null  float64\n",
            "dtypes: float64(1), int64(6), object(9)\n",
            "memory usage: 2.4+ MB\n",
            "None\n",
            "       CustomerID            City  ... BikeBuyer AvgMonthSpend\n",
            "0           21173      Wollongong  ...         1         50.97\n",
            "1           13249         Shawnee  ...         1         53.11\n",
            "2           29350     West Covina  ...         1         54.08\n",
            "3           13503       Liverpool  ...         1         56.93\n",
            "4           22803           Werne  ...         1         55.41\n",
            "...           ...             ...  ...       ...           ...\n",
            "18356       25414        Coronado  ...         0         48.14\n",
            "18357       11459  Port Macquarie  ...         1         50.23\n",
            "18358       12160       Beaverton  ...         1         49.56\n",
            "18359       14353       Vancouver  ...         0         51.42\n",
            "18360       16676       Grossmont  ...         1         52.27\n",
            "\n",
            "[18355 rows x 16 columns]\n"
          ],
          "name": "stdout"
        }
      ]
    },
    {
      "cell_type": "markdown",
      "metadata": {
        "id": "BxknimWj6IaG"
      },
      "source": [
        "2.5.1 Convert BikeBuyer from int64 to categorical data "
      ]
    },
    {
      "cell_type": "code",
      "metadata": {
        "id": "EI5kM0FLjrMM",
        "colab": {
          "base_uri": "https://localhost:8080/"
        },
        "outputId": "42ed1399-5b72-4dd1-cc35-913342b29024"
      },
      "source": [
        "dataset['BikeBuyer']=dataset['BikeBuyer'].astype('category')\n",
        "print(type(dataset['BikeBuyer']))"
      ],
      "execution_count": null,
      "outputs": [
        {
          "output_type": "stream",
          "text": [
            "<class 'pandas.core.series.Series'>\n"
          ],
          "name": "stdout"
        }
      ]
    },
    {
      "cell_type": "code",
      "metadata": {
        "colab": {
          "base_uri": "https://localhost:8080/"
        },
        "id": "VnTC17mfZUwI",
        "outputId": "69ed58ab-8a6f-4b16-b5b3-e8bece70d794"
      },
      "source": [
        "print(dataset['BikeBuyer'])"
      ],
      "execution_count": null,
      "outputs": [
        {
          "output_type": "stream",
          "text": [
            "0        1\n",
            "1        1\n",
            "2        1\n",
            "3        1\n",
            "4        1\n",
            "        ..\n",
            "18356    0\n",
            "18357    1\n",
            "18358    1\n",
            "18359    0\n",
            "18360    1\n",
            "Name: BikeBuyer, Length: 18355, dtype: category\n",
            "Categories (2, int64): [0, 1]\n"
          ],
          "name": "stdout"
        }
      ]
    },
    {
      "cell_type": "markdown",
      "metadata": {
        "id": "nsnJcNcW9QDz"
      },
      "source": [
        "2.5.2 Convert TotalChildren to categorical data"
      ]
    },
    {
      "cell_type": "code",
      "metadata": {
        "colab": {
          "base_uri": "https://localhost:8080/"
        },
        "id": "dnM7BKWL9VaR",
        "outputId": "d73e6782-1775-4cf0-ce27-0104d7d20b32"
      },
      "source": [
        "dataset['TotalChildren']=dataset['TotalChildren'].astype('category')\n",
        "print(dataset['TotalChildren'])"
      ],
      "execution_count": null,
      "outputs": [
        {
          "output_type": "stream",
          "text": [
            "0        1\n",
            "1        2\n",
            "2        0\n",
            "3        2\n",
            "4        0\n",
            "        ..\n",
            "18356    2\n",
            "18357    0\n",
            "18358    0\n",
            "18359    0\n",
            "18360    0\n",
            "Name: TotalChildren, Length: 18355, dtype: category\n",
            "Categories (4, int64): [0, 1, 2, 3]\n"
          ],
          "name": "stdout"
        }
      ]
    },
    {
      "cell_type": "markdown",
      "metadata": {
        "id": "z03YDVE6-8d-"
      },
      "source": [
        "2.5.3 Convert NumberChildrenAtHome to categorical data"
      ]
    },
    {
      "cell_type": "code",
      "metadata": {
        "colab": {
          "base_uri": "https://localhost:8080/"
        },
        "id": "Ex_1w_uL_Crc",
        "outputId": "b8749729-7675-4a24-e631-c149e5f158b6"
      },
      "source": [
        "dataset['NumberChildrenAtHome']=dataset['NumberChildrenAtHome'].astype('category')\n",
        "print(dataset['NumberChildrenAtHome'])"
      ],
      "execution_count": null,
      "outputs": [
        {
          "output_type": "stream",
          "text": [
            "0        0\n",
            "1        1\n",
            "2        0\n",
            "3        1\n",
            "4        0\n",
            "        ..\n",
            "18356    0\n",
            "18357    0\n",
            "18358    0\n",
            "18359    0\n",
            "18360    0\n",
            "Name: NumberChildrenAtHome, Length: 18355, dtype: category\n",
            "Categories (4, int64): [0, 1, 2, 3]\n"
          ],
          "name": "stdout"
        }
      ]
    },
    {
      "cell_type": "markdown",
      "metadata": {
        "id": "wQ0RcYtF790Z"
      },
      "source": [
        "2.5.4 Compute BirthDate and LastUpdated to single column Age"
      ]
    },
    {
      "cell_type": "code",
      "metadata": {
        "id": "qEvXwtbhkWOm"
      },
      "source": [
        "import datetime \n",
        "from math import * \n",
        "dataset['LastUpdated']=pd.to_datetime(dataset['LastUpdated'])\n",
        "dataset['BirthDate']=pd.to_datetime(dataset['BirthDate'])\n",
        "a=dataset['LastUpdated']-dataset['BirthDate']\n",
        "a=a/np.timedelta64(1,'Y')\n",
        "a=a.astype('int')\n",
        "dataset['Age']=a"
      ],
      "execution_count": null,
      "outputs": []
    },
    {
      "cell_type": "markdown",
      "metadata": {
        "id": "1BW9gRQR8Ptw"
      },
      "source": [
        "Drop BirthDate and LastUpdated columns (as there is no need of them left)"
      ]
    },
    {
      "cell_type": "code",
      "metadata": {
        "colab": {
          "base_uri": "https://localhost:8080/"
        },
        "id": "q82f2YiZ9vHd",
        "outputId": "f552571b-6d1a-498d-aaa8-b854b4090396"
      },
      "source": [
        "drop=[\"BirthDate\",\"LastUpdated\"]\n",
        "dataset.drop(axis=1,labels=drop,inplace=True)\n",
        "dataset.reset_index(drop=True, inplace=True)\n",
        "print(dataset.columns)"
      ],
      "execution_count": null,
      "outputs": [
        {
          "output_type": "stream",
          "text": [
            "Index(['CustomerID', 'City', 'StateProvinceName', 'CountryRegionName',\n",
            "       'Education', 'Occupation', 'Gender', 'MaritalStatus', 'NumberCarsOwned',\n",
            "       'NumberChildrenAtHome', 'TotalChildren', 'YearlyIncome', 'BikeBuyer',\n",
            "       'AvgMonthSpend', 'Age'],\n",
            "      dtype='object')\n"
          ],
          "name": "stdout"
        }
      ]
    },
    {
      "cell_type": "markdown",
      "metadata": {
        "id": "u1jlKQU68rer"
      },
      "source": [
        "2.6 Bin the age in groups of being child,young and old.\n"
      ]
    },
    {
      "cell_type": "code",
      "metadata": {
        "colab": {
          "base_uri": "https://localhost:8080/"
        },
        "id": "BV-MSxatsIG-",
        "outputId": "17159573-455e-4afb-8e86-c25c345682de"
      },
      "source": [
        "bins_age = [0,18,40,90]\n",
        "group_names2=['child','young','old']\n",
        "Age_Bin=pd.cut(dataset['Age'],bins_age,group_names2,include_lowest=True)\n",
        "print(Age_Bin)"
      ],
      "execution_count": null,
      "outputs": [
        {
          "output_type": "stream",
          "text": [
            "0        (18.0, 40.0]\n",
            "1        (40.0, 90.0]\n",
            "2        (18.0, 40.0]\n",
            "3        (18.0, 40.0]\n",
            "4        (40.0, 90.0]\n",
            "             ...     \n",
            "18350    (18.0, 40.0]\n",
            "18351    (18.0, 40.0]\n",
            "18352    (18.0, 40.0]\n",
            "18353    (18.0, 40.0]\n",
            "18354    (18.0, 40.0]\n",
            "Name: Age, Length: 18355, dtype: category\n",
            "Categories (3, interval[float64]): [(-0.001, 18.0] < (18.0, 40.0] < (40.0, 90.0]]\n"
          ],
          "name": "stdout"
        }
      ]
    },
    {
      "cell_type": "markdown",
      "metadata": {
        "id": "LnXQdGDxEX1x"
      },
      "source": [
        "2.7.1 Standardization/Normalization of YearlyIncome using Decimal Scaling"
      ]
    },
    {
      "cell_type": "code",
      "metadata": {
        "colab": {
          "base_uri": "https://localhost:8080/"
        },
        "id": "unxn7UtEAWPL",
        "outputId": "e764253f-7613-4980-ab4b-a8ab28d9028b"
      },
      "source": [
        "dataset['YearlyIncome']=dataset['YearlyIncome'].div(1000).round(4)\n",
        "print(dataset['YearlyIncome'])"
      ],
      "execution_count": null,
      "outputs": [
        {
          "output_type": "stream",
          "text": [
            "0         81.916\n",
            "1         81.076\n",
            "2         86.387\n",
            "3         61.481\n",
            "4         51.804\n",
            "          ...   \n",
            "18350     52.953\n",
            "18351     60.992\n",
            "18352     51.859\n",
            "18353     87.177\n",
            "18354    136.856\n",
            "Name: YearlyIncome, Length: 18355, dtype: float64\n"
          ],
          "name": "stdout"
        }
      ]
    },
    {
      "cell_type": "markdown",
      "metadata": {
        "id": "TCtdqxORSN10"
      },
      "source": [
        "2.7.2 Standardization/Normalization of AvgMonthSpend using Decimal Scaling"
      ]
    },
    {
      "cell_type": "code",
      "metadata": {
        "colab": {
          "base_uri": "https://localhost:8080/"
        },
        "id": "UqYV91kKRyoG",
        "outputId": "7eba2fde-ab99-49de-ed80-b5c5456332e4"
      },
      "source": [
        "dataset['AvgMonthSpend']=dataset['AvgMonthSpend'].div(1000).round(4)\n",
        "print(dataset['AvgMonthSpend'])"
      ],
      "execution_count": null,
      "outputs": [
        {
          "output_type": "stream",
          "text": [
            "0        0.0510\n",
            "1        0.0531\n",
            "2        0.0541\n",
            "3        0.0569\n",
            "4        0.0554\n",
            "          ...  \n",
            "18350    0.0481\n",
            "18351    0.0502\n",
            "18352    0.0496\n",
            "18353    0.0514\n",
            "18354    0.0523\n",
            "Name: AvgMonthSpend, Length: 18355, dtype: float64\n"
          ],
          "name": "stdout"
        }
      ]
    },
    {
      "cell_type": "markdown",
      "metadata": {
        "id": "m4nnxZlIXOKW"
      },
      "source": [
        "Even Drop CustomerID (no need)"
      ]
    },
    {
      "cell_type": "code",
      "metadata": {
        "colab": {
          "base_uri": "https://localhost:8080/"
        },
        "id": "p37G68kTW7b5",
        "outputId": "ff0bb233-6db8-4fd3-9c89-5085efa0ae04"
      },
      "source": [
        "dataset.drop(axis=1,labels=[\"CustomerID\"],inplace=True)\n",
        "dataset.reset_index(drop=True, inplace=True)\n",
        "print(dataset.columns)"
      ],
      "execution_count": null,
      "outputs": [
        {
          "output_type": "stream",
          "text": [
            "Index(['City', 'StateProvinceName', 'CountryRegionName', 'Education',\n",
            "       'Occupation', 'Gender', 'MaritalStatus', 'NumberCarsOwned',\n",
            "       'NumberChildrenAtHome', 'TotalChildren', 'YearlyIncome', 'BikeBuyer',\n",
            "       'AvgMonthSpend', 'Age'],\n",
            "      dtype='object')\n"
          ],
          "name": "stdout"
        }
      ]
    },
    {
      "cell_type": "markdown",
      "metadata": {
        "id": "tcO3FXX1SX6Y"
      },
      "source": [
        "2.8 Binarization (One Hot Encoding)"
      ]
    },
    {
      "cell_type": "code",
      "metadata": {
        "colab": {
          "base_uri": "https://localhost:8080/"
        },
        "id": "D6hgy7V3SbrN",
        "outputId": "94f71327-03b4-4f8c-9b49-451da3eb6b0b"
      },
      "source": [
        "from sklearn.preprocessing import OneHotEncoder\n",
        "onehotencoder = OneHotEncoder()\n",
        "onehotencoder.fit_transform(dataset)"
      ],
      "execution_count": null,
      "outputs": [
        {
          "output_type": "execute_result",
          "data": {
            "text/plain": [
              "<18355x15996 sparse matrix of type '<class 'numpy.float64'>'\n",
              "\twith 256970 stored elements in Compressed Sparse Row format>"
            ]
          },
          "metadata": {
            "tags": []
          },
          "execution_count": 452
        }
      ]
    },
    {
      "cell_type": "markdown",
      "metadata": {
        "id": "cI1LO_yHuz9E"
      },
      "source": [
        "# 3."
      ]
    },
    {
      "cell_type": "markdown",
      "metadata": {
        "id": "i1RrcwC1xe5s"
      },
      "source": [
        "First Convert Marital Status feature vector into binary form (MaritalStatusUpdated)"
      ]
    },
    {
      "cell_type": "code",
      "metadata": {
        "colab": {
          "base_uri": "https://localhost:8080/"
        },
        "id": "20v4m67slv87",
        "outputId": "9de03747-60b3-4fe6-c21c-c804d6beb19b"
      },
      "source": [
        "print(dataset.columns)\n",
        "print(dataset[\"MaritalStatus\"])\n",
        "a=[]\n",
        "for i in range(len(dataset[\"MaritalStatus\"])):\n",
        "  if dataset[\"MaritalStatus\"][i]=='M':\n",
        "    a.append(1)\n",
        "  elif dataset[\"MaritalStatus\"][i]=='S':\n",
        "    a.append(0)\n",
        "dataset[\"MaritalStatusUpdated\"]=a\n",
        "print(dataset[\"MaritalStatusUpdated\"])"
      ],
      "execution_count": null,
      "outputs": [
        {
          "output_type": "stream",
          "text": [
            "Index(['City', 'StateProvinceName', 'CountryRegionName', 'Education',\n",
            "       'Occupation', 'Gender', 'MaritalStatus', 'NumberCarsOwned',\n",
            "       'NumberChildrenAtHome', 'TotalChildren', 'YearlyIncome', 'BikeBuyer',\n",
            "       'AvgMonthSpend', 'Age'],\n",
            "      dtype='object')\n",
            "0        M\n",
            "1        M\n",
            "2        S\n",
            "3        M\n",
            "4        S\n",
            "        ..\n",
            "18350    M\n",
            "18351    S\n",
            "18352    S\n",
            "18353    S\n",
            "18354    M\n",
            "Name: MaritalStatus, Length: 18355, dtype: object\n",
            "0        1\n",
            "1        1\n",
            "2        0\n",
            "3        1\n",
            "4        0\n",
            "        ..\n",
            "18350    1\n",
            "18351    0\n",
            "18352    0\n",
            "18353    0\n",
            "18354    1\n",
            "Name: MaritalStatusUpdated, Length: 18355, dtype: int64\n"
          ],
          "name": "stdout"
        }
      ]
    },
    {
      "cell_type": "code",
      "metadata": {
        "colab": {
          "base_uri": "https://localhost:8080/"
        },
        "id": "hvHhHJZ9oH50",
        "outputId": "103836ab-39ab-497d-8948-8bdb08b4a607"
      },
      "source": [
        "dataset.drop(axis=1,labels=[\"MaritalStatus\"],inplace=True)\n",
        "dataset.reset_index(drop=True, inplace=True)\n",
        "print(dataset.columns)"
      ],
      "execution_count": null,
      "outputs": [
        {
          "output_type": "stream",
          "text": [
            "Index(['City', 'StateProvinceName', 'CountryRegionName', 'Education',\n",
            "       'Occupation', 'Gender', 'NumberCarsOwned', 'NumberChildrenAtHome',\n",
            "       'TotalChildren', 'YearlyIncome', 'BikeBuyer', 'AvgMonthSpend', 'Age',\n",
            "       'MaritalStatusUpdated'],\n",
            "      dtype='object')\n"
          ],
          "name": "stdout"
        }
      ]
    },
    {
      "cell_type": "code",
      "metadata": {
        "id": "avNdGqpBu-CV"
      },
      "source": [
        "def Compute(vec1,vec2):\n",
        "  n11=0\n",
        "  n10=0\n",
        "  n01=0\n",
        "  n00=0\n",
        "  for i in range(len(vec1)):\n",
        "    a=vec1[i]\n",
        "    b=vec2[i]\n",
        "    if a==1:\n",
        "      if b==1:\n",
        "        n11=n11+1\n",
        "      else:\n",
        "        n10=n10+1\n",
        "    else:\n",
        "      if b==1:\n",
        "        n01=n01+1\n",
        "      else:\n",
        "        n00=n00+1\n",
        "  return [n11,n00,n01,n10]"
      ],
      "execution_count": null,
      "outputs": []
    },
    {
      "cell_type": "markdown",
      "metadata": {
        "id": "qEbxNwXPw34d"
      },
      "source": [
        "**3.1 SMC**"
      ]
    },
    {
      "cell_type": "code",
      "metadata": {
        "colab": {
          "base_uri": "https://localhost:8080/"
        },
        "id": "MzbhG9J3wlwv",
        "outputId": "5acb58a9-0694-41b6-d594-80d999d49223"
      },
      "source": [
        "#Simple Matching Coefficient=(n11+n00)/(n11+n00+n01+n10)\n",
        "z=Compute(dataset[\"MaritalStatusUpdated\"],dataset[\"BikeBuyer\"])\n",
        "SMC_VAL=(z[0]+z[1])/(z[0]+z[1]+z[2]+z[3])\n",
        "print(SMC_VAL)"
      ],
      "execution_count": null,
      "outputs": [
        {
          "output_type": "stream",
          "text": [
            "0.5982021247616454\n"
          ],
          "name": "stdout"
        }
      ]
    },
    {
      "cell_type": "markdown",
      "metadata": {
        "id": "0XszhbNLw8NB"
      },
      "source": [
        "**3.2 Jaccard Similarity**"
      ]
    },
    {
      "cell_type": "code",
      "metadata": {
        "colab": {
          "base_uri": "https://localhost:8080/"
        },
        "id": "dYYiOJV7xJHI",
        "outputId": "f55303f9-ff62-401e-e944-9364703e0eea"
      },
      "source": [
        "#Jaccard Similarity=(n11)/(n11+n01+n10)\n",
        "z=Compute(dataset[\"MaritalStatusUpdated\"],dataset[\"BikeBuyer\"])\n",
        "Jaccard_VAL=(z[0])/(z[0]+z[2]+z[3])\n",
        "print(Jaccard_VAL)"
      ],
      "execution_count": null,
      "outputs": [
        {
          "output_type": "stream",
          "text": [
            "0.4625810682795307\n"
          ],
          "name": "stdout"
        }
      ]
    },
    {
      "cell_type": "markdown",
      "metadata": {
        "id": "I-x6NJTilsFV"
      },
      "source": [
        "**Jaccard Score between Marital Status and Bike Buyer**\n",
        "\n",
        "Method 2"
      ]
    },
    {
      "cell_type": "code",
      "metadata": {
        "colab": {
          "base_uri": "https://localhost:8080/"
        },
        "id": "Byr3KX58oMlt",
        "outputId": "e96d291f-4854-4c1c-d6d5-cca392614966"
      },
      "source": [
        "from sklearn.metrics import jaccard_score\n",
        "jaccard_score(dataset[\"MaritalStatusUpdated\"],dataset[\"BikeBuyer\"])"
      ],
      "execution_count": null,
      "outputs": [
        {
          "output_type": "execute_result",
          "data": {
            "text/plain": [
              "0.4625810682795307"
            ]
          },
          "metadata": {
            "tags": []
          },
          "execution_count": 461
        }
      ]
    },
    {
      "cell_type": "markdown",
      "metadata": {
        "id": "ufzKSmpEo2im"
      },
      "source": [
        "**Cosine Matching**"
      ]
    },
    {
      "cell_type": "code",
      "metadata": {
        "colab": {
          "base_uri": "https://localhost:8080/"
        },
        "id": "yUiXJa3Js3AV",
        "outputId": "93cd0629-98d3-40a3-d964-26735a3e3202"
      },
      "source": [
        "from scipy import spatial\n",
        "cosine_similarity = 1 - spatial.distance.cosine(dataset[\"MaritalStatusUpdated\"],dataset[\"BikeBuyer\"])\n",
        "print(cosine_similarity)"
      ],
      "execution_count": null,
      "outputs": [
        {
          "output_type": "stream",
          "text": [
            "0.6325807259176635\n"
          ],
          "name": "stdout"
        }
      ]
    },
    {
      "cell_type": "markdown",
      "metadata": {
        "id": "Td2aJEI7jhjA"
      },
      "source": [
        "**Correlation Matrix**"
      ]
    },
    {
      "cell_type": "code",
      "metadata": {
        "id": "o7cVVvbQeDrm",
        "colab": {
          "base_uri": "https://localhost:8080/"
        },
        "outputId": "360e1575-e3e9-4f1e-d325-e8329c174597"
      },
      "source": [
        "corrMatrix = dataset.corr()\n",
        "print (corrMatrix)"
      ],
      "execution_count": null,
      "outputs": [
        {
          "output_type": "stream",
          "text": [
            "                      NumberCarsOwned  ...  MaritalStatusUpdated\n",
            "NumberCarsOwned              1.000000  ...              0.051599\n",
            "YearlyIncome                 0.477316  ...              0.048666\n",
            "AvgMonthSpend                0.275457  ...             -0.070196\n",
            "Age                          0.041777  ...              0.198387\n",
            "MaritalStatusUpdated         0.051599  ...              1.000000\n",
            "\n",
            "[5 rows x 5 columns]\n"
          ],
          "name": "stdout"
        }
      ]
    },
    {
      "cell_type": "code",
      "metadata": {
        "colab": {
          "base_uri": "https://localhost:8080/",
          "height": 368
        },
        "id": "_R8sltYSjWQB",
        "outputId": "9079f0b5-0fda-45fa-ca1c-f4c282b6ef20"
      },
      "source": [
        "import seaborn as sn\n",
        "import matplotlib.pyplot as plt\n",
        "sn.heatmap(corrMatrix, annot=True)\n",
        "plt.show()"
      ],
      "execution_count": null,
      "outputs": [
        {
          "output_type": "display_data",
          "data": {
            "image/png": "[encoded data removed]",
            "text/plain": [
              "<Figure size 432x288 with 2 Axes>"
            ]
          },
          "metadata": {
            "tags": [],
            "needs_background": "light"
          }
        }
      ]
    }
  ]
}