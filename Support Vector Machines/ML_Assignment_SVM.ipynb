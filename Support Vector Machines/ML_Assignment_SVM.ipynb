{
  "nbformat": 4,
  "nbformat_minor": 0,
  "metadata": {
    "colab": {
      "name": "ML_Assignment_SVM.ipynb",
      "provenance": [],
      "mount_file_id": "15os3mqI01GXoB0rtHF7QLMLPlTFTzLIA",
      "authorship_tag": "ABX9TyNntdsRODFWk/GePSx9w8uF",
      "include_colab_link": true
    },
    "kernelspec": {
      "name": "python3",
      "display_name": "Python 3"
    },
    "language_info": {
      "name": "python"
    }
  },
  "cells": [
    {
      "cell_type": "markdown",
      "metadata": {
        "id": "view-in-github",
        "colab_type": "text"
      },
      "source": [
        "<a href=\"https://colab.research.google.com/github/gsingla21/Machine_Learning/blob/main/Support%20Vector%20Machines/ML_Assignment_SVM.ipynb\" target=\"_parent\"><img src=\"https://colab.research.google.com/assets/colab-badge.svg\" alt=\"Open In Colab\"/></a>"
      ]
    },
    {
      "cell_type": "markdown",
      "metadata": {
        "id": "k7DTyAXmwx8y"
      },
      "source": [
        "**GOURISH SINGLA**\n",
        "\n",
        "**101803698**\n",
        "\n",
        "**CoE-15**"
      ]
    },
    {
      "cell_type": "markdown",
      "metadata": {
        "id": "9DM4NS2Rw80B"
      },
      "source": [
        "#Load dataset"
      ]
    },
    {
      "cell_type": "code",
      "metadata": {
        "colab": {
          "base_uri": "https://localhost:8080/",
          "height": 235
        },
        "id": "MKV4-Y3tt8t_",
        "outputId": "116dd029-292f-4b4a-c180-0664bcab5cf2"
      },
      "source": [
        "import pandas as pd\n",
        "url='/content/drive/MyDrive/ML assignments/SVM/Dataset/breast_cancer.csv'\n",
        "dataset=pd.read_csv(url)\n",
        "dataset.head()"
      ],
      "execution_count": null,
      "outputs": [
        {
          "output_type": "execute_result",
          "data": {
            "text/html": [
              "<div>\n",
              "<style scoped>\n",
              "    .dataframe tbody tr th:only-of-type {\n",
              "        vertical-align: middle;\n",
              "    }\n",
              "\n",
              "    .dataframe tbody tr th {\n",
              "        vertical-align: top;\n",
              "    }\n",
              "\n",
              "    .dataframe thead th {\n",
              "        text-align: right;\n",
              "    }\n",
              "</style>\n",
              "<table border=\"1\" class=\"dataframe\">\n",
              "  <thead>\n",
              "    <tr style=\"text-align: right;\">\n",
              "      <th></th>\n",
              "      <th>diagnosis</th>\n",
              "      <th>radius_mean</th>\n",
              "      <th>texture_mean</th>\n",
              "      <th>perimeter_mean</th>\n",
              "      <th>area_mean</th>\n",
              "      <th>smoothness_mean</th>\n",
              "      <th>compactness_mean</th>\n",
              "      <th>concavity_mean</th>\n",
              "      <th>concave points_mean</th>\n",
              "      <th>symmetry_mean</th>\n",
              "      <th>fractal_dimension_mean</th>\n",
              "      <th>radius_se</th>\n",
              "      <th>texture_se</th>\n",
              "      <th>perimeter_se</th>\n",
              "      <th>area_se</th>\n",
              "      <th>smoothness_se</th>\n",
              "      <th>compactness_se</th>\n",
              "      <th>concavity_se</th>\n",
              "      <th>concave points_se</th>\n",
              "      <th>symmetry_se</th>\n",
              "      <th>fractal_dimension_se</th>\n",
              "      <th>radius_worst</th>\n",
              "      <th>texture_worst</th>\n",
              "      <th>perimeter_worst</th>\n",
              "      <th>area_worst</th>\n",
              "      <th>smoothness_worst</th>\n",
              "      <th>compactness_worst</th>\n",
              "      <th>concavity_worst</th>\n",
              "      <th>concave points_worst</th>\n",
              "      <th>symmetry_worst</th>\n",
              "      <th>fractal_dimension_worst</th>\n",
              "    </tr>\n",
              "  </thead>\n",
              "  <tbody>\n",
              "    <tr>\n",
              "      <th>0</th>\n",
              "      <td>M</td>\n",
              "      <td>17.99</td>\n",
              "      <td>10.38</td>\n",
              "      <td>122.80</td>\n",
              "      <td>1001.0</td>\n",
              "      <td>0.11840</td>\n",
              "      <td>0.27760</td>\n",
              "      <td>0.3001</td>\n",
              "      <td>0.14710</td>\n",
              "      <td>0.2419</td>\n",
              "      <td>0.07871</td>\n",
              "      <td>1.0950</td>\n",
              "      <td>0.9053</td>\n",
              "      <td>8.589</td>\n",
              "      <td>153.40</td>\n",
              "      <td>0.006399</td>\n",
              "      <td>0.04904</td>\n",
              "      <td>0.05373</td>\n",
              "      <td>0.01587</td>\n",
              "      <td>0.03003</td>\n",
              "      <td>0.006193</td>\n",
              "      <td>25.38</td>\n",
              "      <td>17.33</td>\n",
              "      <td>184.60</td>\n",
              "      <td>2019.0</td>\n",
              "      <td>0.1622</td>\n",
              "      <td>0.6656</td>\n",
              "      <td>0.7119</td>\n",
              "      <td>0.2654</td>\n",
              "      <td>0.4601</td>\n",
              "      <td>0.11890</td>\n",
              "    </tr>\n",
              "    <tr>\n",
              "      <th>1</th>\n",
              "      <td>M</td>\n",
              "      <td>20.57</td>\n",
              "      <td>17.77</td>\n",
              "      <td>132.90</td>\n",
              "      <td>1326.0</td>\n",
              "      <td>0.08474</td>\n",
              "      <td>0.07864</td>\n",
              "      <td>0.0869</td>\n",
              "      <td>0.07017</td>\n",
              "      <td>0.1812</td>\n",
              "      <td>0.05667</td>\n",
              "      <td>0.5435</td>\n",
              "      <td>0.7339</td>\n",
              "      <td>3.398</td>\n",
              "      <td>74.08</td>\n",
              "      <td>0.005225</td>\n",
              "      <td>0.01308</td>\n",
              "      <td>0.01860</td>\n",
              "      <td>0.01340</td>\n",
              "      <td>0.01389</td>\n",
              "      <td>0.003532</td>\n",
              "      <td>24.99</td>\n",
              "      <td>23.41</td>\n",
              "      <td>158.80</td>\n",
              "      <td>1956.0</td>\n",
              "      <td>0.1238</td>\n",
              "      <td>0.1866</td>\n",
              "      <td>0.2416</td>\n",
              "      <td>0.1860</td>\n",
              "      <td>0.2750</td>\n",
              "      <td>0.08902</td>\n",
              "    </tr>\n",
              "    <tr>\n",
              "      <th>2</th>\n",
              "      <td>M</td>\n",
              "      <td>19.69</td>\n",
              "      <td>21.25</td>\n",
              "      <td>130.00</td>\n",
              "      <td>1203.0</td>\n",
              "      <td>0.10960</td>\n",
              "      <td>0.15990</td>\n",
              "      <td>0.1974</td>\n",
              "      <td>0.12790</td>\n",
              "      <td>0.2069</td>\n",
              "      <td>0.05999</td>\n",
              "      <td>0.7456</td>\n",
              "      <td>0.7869</td>\n",
              "      <td>4.585</td>\n",
              "      <td>94.03</td>\n",
              "      <td>0.006150</td>\n",
              "      <td>0.04006</td>\n",
              "      <td>0.03832</td>\n",
              "      <td>0.02058</td>\n",
              "      <td>0.02250</td>\n",
              "      <td>0.004571</td>\n",
              "      <td>23.57</td>\n",
              "      <td>25.53</td>\n",
              "      <td>152.50</td>\n",
              "      <td>1709.0</td>\n",
              "      <td>0.1444</td>\n",
              "      <td>0.4245</td>\n",
              "      <td>0.4504</td>\n",
              "      <td>0.2430</td>\n",
              "      <td>0.3613</td>\n",
              "      <td>0.08758</td>\n",
              "    </tr>\n",
              "    <tr>\n",
              "      <th>3</th>\n",
              "      <td>M</td>\n",
              "      <td>11.42</td>\n",
              "      <td>20.38</td>\n",
              "      <td>77.58</td>\n",
              "      <td>386.1</td>\n",
              "      <td>0.14250</td>\n",
              "      <td>0.28390</td>\n",
              "      <td>0.2414</td>\n",
              "      <td>0.10520</td>\n",
              "      <td>0.2597</td>\n",
              "      <td>0.09744</td>\n",
              "      <td>0.4956</td>\n",
              "      <td>1.1560</td>\n",
              "      <td>3.445</td>\n",
              "      <td>27.23</td>\n",
              "      <td>0.009110</td>\n",
              "      <td>0.07458</td>\n",
              "      <td>0.05661</td>\n",
              "      <td>0.01867</td>\n",
              "      <td>0.05963</td>\n",
              "      <td>0.009208</td>\n",
              "      <td>14.91</td>\n",
              "      <td>26.50</td>\n",
              "      <td>98.87</td>\n",
              "      <td>567.7</td>\n",
              "      <td>0.2098</td>\n",
              "      <td>0.8663</td>\n",
              "      <td>0.6869</td>\n",
              "      <td>0.2575</td>\n",
              "      <td>0.6638</td>\n",
              "      <td>0.17300</td>\n",
              "    </tr>\n",
              "    <tr>\n",
              "      <th>4</th>\n",
              "      <td>M</td>\n",
              "      <td>20.29</td>\n",
              "      <td>14.34</td>\n",
              "      <td>135.10</td>\n",
              "      <td>1297.0</td>\n",
              "      <td>0.10030</td>\n",
              "      <td>0.13280</td>\n",
              "      <td>0.1980</td>\n",
              "      <td>0.10430</td>\n",
              "      <td>0.1809</td>\n",
              "      <td>0.05883</td>\n",
              "      <td>0.7572</td>\n",
              "      <td>0.7813</td>\n",
              "      <td>5.438</td>\n",
              "      <td>94.44</td>\n",
              "      <td>0.011490</td>\n",
              "      <td>0.02461</td>\n",
              "      <td>0.05688</td>\n",
              "      <td>0.01885</td>\n",
              "      <td>0.01756</td>\n",
              "      <td>0.005115</td>\n",
              "      <td>22.54</td>\n",
              "      <td>16.67</td>\n",
              "      <td>152.20</td>\n",
              "      <td>1575.0</td>\n",
              "      <td>0.1374</td>\n",
              "      <td>0.2050</td>\n",
              "      <td>0.4000</td>\n",
              "      <td>0.1625</td>\n",
              "      <td>0.2364</td>\n",
              "      <td>0.07678</td>\n",
              "    </tr>\n",
              "  </tbody>\n",
              "</table>\n",
              "</div>"
            ],
            "text/plain": [
              "  diagnosis  radius_mean  ...  symmetry_worst  fractal_dimension_worst\n",
              "0         M        17.99  ...          0.4601                  0.11890\n",
              "1         M        20.57  ...          0.2750                  0.08902\n",
              "2         M        19.69  ...          0.3613                  0.08758\n",
              "3         M        11.42  ...          0.6638                  0.17300\n",
              "4         M        20.29  ...          0.2364                  0.07678\n",
              "\n",
              "[5 rows x 31 columns]"
            ]
          },
          "metadata": {
            "tags": []
          },
          "execution_count": 21
        }
      ]
    },
    {
      "cell_type": "markdown",
      "metadata": {
        "id": "RV0PjpsLw_gx"
      },
      "source": [
        "#Map the output values \n",
        "to 1 for positive class and -1 for negative class."
      ]
    },
    {
      "cell_type": "code",
      "metadata": {
        "id": "NU6HwqcFvIGs"
      },
      "source": [
        "import pandas as pd\n",
        "import numpy as np\n",
        "\n",
        "diagnosis_map = {'M':1, 'B':-1}\n",
        "dataset['diagnosis'] = dataset['diagnosis'].map(diagnosis_map)"
      ],
      "execution_count": null,
      "outputs": []
    },
    {
      "cell_type": "code",
      "metadata": {
        "colab": {
          "base_uri": "https://localhost:8080/"
        },
        "id": "L8ea7KaxvVf4",
        "outputId": "1b7fd1dc-16c1-4dce-d877-b96b9f504783"
      },
      "source": [
        "dataset['diagnosis'].unique()"
      ],
      "execution_count": null,
      "outputs": [
        {
          "output_type": "execute_result",
          "data": {
            "text/plain": [
              "array([ 1, -1])"
            ]
          },
          "metadata": {
            "tags": []
          },
          "execution_count": 23
        }
      ]
    },
    {
      "cell_type": "markdown",
      "metadata": {
        "id": "44DI9v96xJJd"
      },
      "source": [
        "#Divide the dataset into input and output features.\n",
        "#Scale the input features\n",
        "#Add a column of one’s in input features."
      ]
    },
    {
      "cell_type": "code",
      "metadata": {
        "id": "cOvQsKDaveGx"
      },
      "source": [
        "from sklearn.preprocessing import StandardScaler\n",
        "from sklearn.model_selection import train_test_split as tts\n",
        "\n",
        "Y = dataset.loc[:, 'diagnosis'] # all rows of 'diagnosis'\n",
        "X = dataset.iloc[:, 1:]\n",
        "X_normalized = StandardScaler().fit_transform(X.values)\n",
        "X = pd.DataFrame(X_normalized)\n",
        "X.insert(loc=len(X.columns), column='intercept', value=1)\n",
        "X_train, X_test, y_train, y_test = tts(X, Y, test_size=0.2, random_state=42)"
      ],
      "execution_count": null,
      "outputs": []
    },
    {
      "cell_type": "markdown",
      "metadata": {
        "id": "2svePfQwxcio"
      },
      "source": [
        "#Compute cost gradient"
      ]
    },
    {
      "cell_type": "code",
      "metadata": {
        "id": "bA6x9aurvsb_"
      },
      "source": [
        "def calculate_cost_gradient(W, x, y):\n",
        "  distance = 1 - (y * x.dot(W))\n",
        "  gradient = np.zeros(len(W))\n",
        "  if max(0, distance) == 0:\n",
        "    di = W\n",
        "  else:\n",
        "    di = W - (C * y * x)\n",
        "  gradient += di\n",
        "  return gradient"
      ],
      "execution_count": null,
      "outputs": []
    },
    {
      "cell_type": "markdown",
      "metadata": {
        "id": "EW1Sil12xfxA"
      },
      "source": [
        "#Stochastic Gradient Algorithm"
      ]
    },
    {
      "cell_type": "code",
      "metadata": {
        "id": "5Hd78JbCv35b"
      },
      "source": [
        "from sklearn.utils import shuffle\n",
        "def sgd(features, outputs):\n",
        "  max_epochs = 1000\n",
        "  weights = np.zeros(features.shape[1])\n",
        "  # stochastic gradient descent\n",
        "  for epoch in range(1, max_epochs):\n",
        "    # shuffle to prevent repeating update cycles\n",
        "    X, Y = shuffle(features, outputs)\n",
        "    for ind, x in enumerate(X):\n",
        "      gradient = calculate_cost_gradient(weights, x, Y[ind])\n",
        "      weights = weights - (learning_rate * gradient)\n",
        "  return weights"
      ],
      "execution_count": null,
      "outputs": []
    },
    {
      "cell_type": "markdown",
      "metadata": {
        "id": "GhDX2Y14xjW1"
      },
      "source": [
        "#Execution"
      ]
    },
    {
      "cell_type": "code",
      "metadata": {
        "id": "aZEzeQ12v_Px"
      },
      "source": [
        "C = 10000 # regularization strength\n",
        "learning_rate = 0.00001\n",
        "\n",
        "W = sgd(X_train.to_numpy(),\n",
        "y_train.to_numpy())"
      ],
      "execution_count": null,
      "outputs": []
    },
    {
      "cell_type": "markdown",
      "metadata": {
        "id": "weiiVMh-xnA5"
      },
      "source": [
        "#Prediction"
      ]
    },
    {
      "cell_type": "code",
      "metadata": {
        "id": "yoi8YGmLwRK9"
      },
      "source": [
        "y_predicted = np.array([])\n",
        "\n",
        "for i in range(X_test.shape[0]):\n",
        "  yp = np.sign(np.dot(W, X_test.to_numpy()[i])) #model\n",
        "  y_predicted = np.append(y_predicted, yp)"
      ],
      "execution_count": null,
      "outputs": []
    },
    {
      "cell_type": "markdown",
      "metadata": {
        "id": "YiuBS7ByxtKe"
      },
      "source": [
        "#Performance Evaluation"
      ]
    },
    {
      "cell_type": "code",
      "metadata": {
        "colab": {
          "base_uri": "https://localhost:8080/"
        },
        "id": "Sknp9hSQwVUF",
        "outputId": "a4540b6a-b26b-473e-ddf1-3499223f750b"
      },
      "source": [
        "from sklearn import metrics\n",
        "from sklearn.metrics import accuracy_score\n",
        "print(\"accuracy on test dataset: {}\".format(accuracy_score(y_test.to_numpy(), y_predicted)))\n",
        "print((metrics.classification_report(y_test.to_numpy(), y_predicted)))"
      ],
      "execution_count": null,
      "outputs": [
        {
          "output_type": "stream",
          "text": [
            "accuracy on test dataset: 0.9736842105263158\n",
            "              precision    recall  f1-score   support\n",
            "\n",
            "          -1       0.99      0.97      0.98        71\n",
            "           1       0.95      0.98      0.97        43\n",
            "\n",
            "    accuracy                           0.97       114\n",
            "   macro avg       0.97      0.97      0.97       114\n",
            "weighted avg       0.97      0.97      0.97       114\n",
            "\n"
          ],
          "name": "stdout"
        }
      ]
    },
    {
      "cell_type": "markdown",
      "metadata": {
        "id": "lcpOgSQJx1XK"
      },
      "source": [
        "#Tuning learning rate and C"
      ]
    },
    {
      "cell_type": "code",
      "metadata": {
        "id": "-53VsRNkx2dA"
      },
      "source": [
        "def compute_cost(W, X, Y):\n",
        "  # calculate hinge loss\n",
        "  reg_strength = 0.01\n",
        "  N = X.shape[0]\n",
        "  distances = 1 - Y * (np.dot(X, W))\n",
        "  distances[distances < 0] = 0 # equivalent to max(0, distance)\n",
        "  hinge_loss = reg_strength * (np.sum(distances) / N)\n",
        "  # calculate cost\n",
        "  cost = 1 / 2 * np.dot(W, W) + hinge_loss\n",
        "  return cost"
      ],
      "execution_count": null,
      "outputs": []
    },
    {
      "cell_type": "code",
      "metadata": {
        "id": "eR7CE2tryAzo"
      },
      "source": [
        "learning_rate=[1e-7,1e-6,1e-5,1e-4,1e-3,1e-2]\n",
        "\n",
        "def sgd(features, outputs):\n",
        "  max_epochs = 1000\n",
        "  weights = np.random.random(features.shape[1])\n",
        "  cost=[]\n",
        "  # stochastic gradient descent\n",
        "  for i in range(len(learning_rate)):\n",
        "    for epoch in range(1, max_epochs):\n",
        "      # shuffle to prevent repeating update cycles\n",
        "      X, Y = shuffle(features, outputs)\n",
        "      for ind, x in enumerate(X):\n",
        "        gradient= calculate_cost_gradient(weights, x, Y[ind])\n",
        "        weights = weights - (learning_rate[i] * gradient)\n",
        "    cost.append(compute_cost(weights,features,outputs))\n",
        "  return cost"
      ],
      "execution_count": null,
      "outputs": []
    },
    {
      "cell_type": "code",
      "metadata": {
        "id": "NUuYGQY7yQ9w"
      },
      "source": [
        "cost = sgd(X_train.to_numpy(),y_train.to_numpy())"
      ],
      "execution_count": null,
      "outputs": []
    },
    {
      "cell_type": "code",
      "metadata": {
        "colab": {
          "base_uri": "https://localhost:8080/",
          "height": 283
        },
        "id": "72JNule2yWNm",
        "outputId": "81275929-8051-47c2-cee8-81e748485fec"
      },
      "source": [
        "import matplotlib.pyplot as plt\n",
        "plt.plot(cost)"
      ],
      "execution_count": null,
      "outputs": [
        {
          "output_type": "execute_result",
          "data": {
            "text/plain": [
              "[<matplotlib.lines.Line2D at 0x7f33d5557c90>]"
            ]
          },
          "metadata": {
            "tags": []
          },
          "execution_count": 33
        },
        {
          "output_type": "display_data",
          "data": {
            "image/png": "[encoded data removed]",
            "text/plain": [
              "<Figure size 432x288 with 1 Axes>"
            ]
          },
          "metadata": {
            "tags": [],
            "needs_background": "light"
          }
        }
      ]
    }
  ]
}